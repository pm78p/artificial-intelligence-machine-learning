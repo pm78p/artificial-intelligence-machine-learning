{
 "cells": [
  {
   "cell_type": "code",
   "execution_count": 73,
   "id": "146a0720",
   "metadata": {},
   "outputs": [],
   "source": [
    "import os\n",
    "import numpy as np\n",
    "import pandas as pd\n",
    "import seaborn as sns\n",
    "import matplotlib.pyplot as plt\n",
    "from sklearn.ensemble import AdaBoostClassifier\n",
    "from sklearn.neural_network import MLPClassifier\n",
    "from sklearn.model_selection import GridSearchCV \n",
    "from sklearn.ensemble import RandomForestClassifier\n",
    "from sklearn.model_selection import cross_val_score\n",
    "from sklearn.model_selection import train_test_split\n",
    "from sklearn.metrics import accuracy_score, f1_score, precision_score, recall_score\n"
   ]
  },
  {
   "cell_type": "markdown",
   "id": "7f168759",
   "metadata": {},
   "source": [
    "# Data preprocesing - EDA - visualization"
   ]
  },
  {
   "cell_type": "code",
   "execution_count": 2,
   "id": "b0c20c46",
   "metadata": {},
   "outputs": [],
   "source": [
    "df = pd.read_csv('ICUfinal.csv')"
   ]
  },
  {
   "cell_type": "code",
   "execution_count": 3,
   "id": "0d1e2f3c",
   "metadata": {},
   "outputs": [
    {
     "data": {
      "text/html": [
       "<div>\n",
       "<style scoped>\n",
       "    .dataframe tbody tr th:only-of-type {\n",
       "        vertical-align: middle;\n",
       "    }\n",
       "\n",
       "    .dataframe tbody tr th {\n",
       "        vertical-align: top;\n",
       "    }\n",
       "\n",
       "    .dataframe thead th {\n",
       "        text-align: right;\n",
       "    }\n",
       "</style>\n",
       "<table border=\"1\" class=\"dataframe\">\n",
       "  <thead>\n",
       "    <tr style=\"text-align: right;\">\n",
       "      <th></th>\n",
       "      <th>Unnamed: 0</th>\n",
       "      <th>PATIENT_VISIT_IDENTIFIER</th>\n",
       "      <th>AGE_ABOVE65</th>\n",
       "      <th>AGE_PERCENTIL</th>\n",
       "      <th>GENDER</th>\n",
       "      <th>HTN</th>\n",
       "      <th>IMMUNOCOMPROMISED</th>\n",
       "      <th>OTHER</th>\n",
       "      <th>ALBUMIN_MEDIAN</th>\n",
       "      <th>ALBUMIN_MEAN</th>\n",
       "      <th>...</th>\n",
       "      <th>OXYGEN_SATURATION_DIFF</th>\n",
       "      <th>BLOODPRESSURE_DIASTOLIC_DIFF_REL</th>\n",
       "      <th>BLOODPRESSURE_SISTOLIC_DIFF_REL</th>\n",
       "      <th>HEART_RATE_DIFF_REL</th>\n",
       "      <th>RESPIRATORY_RATE_DIFF_REL</th>\n",
       "      <th>TEMPERATURE_DIFF_REL</th>\n",
       "      <th>OXYGEN_SATURATION_DIFF_REL</th>\n",
       "      <th>WINDOW</th>\n",
       "      <th>tags</th>\n",
       "      <th>ICU</th>\n",
       "    </tr>\n",
       "  </thead>\n",
       "  <tbody>\n",
       "    <tr>\n",
       "      <th>0</th>\n",
       "      <td>0</td>\n",
       "      <td>0</td>\n",
       "      <td>1</td>\n",
       "      <td>60th</td>\n",
       "      <td>0</td>\n",
       "      <td>0.0</td>\n",
       "      <td>0.0</td>\n",
       "      <td>1.0</td>\n",
       "      <td>NaN</td>\n",
       "      <td>NaN</td>\n",
       "      <td>...</td>\n",
       "      <td>-1.000000</td>\n",
       "      <td>-1.000000</td>\n",
       "      <td>-1.000000</td>\n",
       "      <td>-1.000000</td>\n",
       "      <td>-1.000000</td>\n",
       "      <td>-1.000000</td>\n",
       "      <td>-1.000000</td>\n",
       "      <td>0-2</td>\n",
       "      <td>Motor Neurone Disease, Smoker</td>\n",
       "      <td>0</td>\n",
       "    </tr>\n",
       "    <tr>\n",
       "      <th>1</th>\n",
       "      <td>1</td>\n",
       "      <td>0</td>\n",
       "      <td>1</td>\n",
       "      <td>60th</td>\n",
       "      <td>0</td>\n",
       "      <td>0.0</td>\n",
       "      <td>0.0</td>\n",
       "      <td>1.0</td>\n",
       "      <td>NaN</td>\n",
       "      <td>NaN</td>\n",
       "      <td>...</td>\n",
       "      <td>-1.000000</td>\n",
       "      <td>-1.000000</td>\n",
       "      <td>-1.000000</td>\n",
       "      <td>-1.000000</td>\n",
       "      <td>-1.000000</td>\n",
       "      <td>-1.000000</td>\n",
       "      <td>-1.000000</td>\n",
       "      <td>2-4</td>\n",
       "      <td>Motor Neurone Disease, Smoker</td>\n",
       "      <td>0</td>\n",
       "    </tr>\n",
       "    <tr>\n",
       "      <th>2</th>\n",
       "      <td>2</td>\n",
       "      <td>0</td>\n",
       "      <td>1</td>\n",
       "      <td>60th</td>\n",
       "      <td>0</td>\n",
       "      <td>0.0</td>\n",
       "      <td>0.0</td>\n",
       "      <td>1.0</td>\n",
       "      <td>0.605263</td>\n",
       "      <td>0.605263</td>\n",
       "      <td>...</td>\n",
       "      <td>NaN</td>\n",
       "      <td>NaN</td>\n",
       "      <td>NaN</td>\n",
       "      <td>NaN</td>\n",
       "      <td>NaN</td>\n",
       "      <td>NaN</td>\n",
       "      <td>NaN</td>\n",
       "      <td>4-6</td>\n",
       "      <td>Motor Neurone Disease, Smoker</td>\n",
       "      <td>0</td>\n",
       "    </tr>\n",
       "    <tr>\n",
       "      <th>3</th>\n",
       "      <td>3</td>\n",
       "      <td>0</td>\n",
       "      <td>1</td>\n",
       "      <td>60th</td>\n",
       "      <td>0</td>\n",
       "      <td>0.0</td>\n",
       "      <td>0.0</td>\n",
       "      <td>1.0</td>\n",
       "      <td>NaN</td>\n",
       "      <td>NaN</td>\n",
       "      <td>...</td>\n",
       "      <td>-1.000000</td>\n",
       "      <td>NaN</td>\n",
       "      <td>NaN</td>\n",
       "      <td>NaN</td>\n",
       "      <td>NaN</td>\n",
       "      <td>-1.000000</td>\n",
       "      <td>-1.000000</td>\n",
       "      <td>6-12</td>\n",
       "      <td>Motor Neurone Disease, Smoker</td>\n",
       "      <td>0</td>\n",
       "    </tr>\n",
       "    <tr>\n",
       "      <th>4</th>\n",
       "      <td>4</td>\n",
       "      <td>0</td>\n",
       "      <td>1</td>\n",
       "      <td>60th</td>\n",
       "      <td>0</td>\n",
       "      <td>0.0</td>\n",
       "      <td>0.0</td>\n",
       "      <td>1.0</td>\n",
       "      <td>0.000000</td>\n",
       "      <td>0.000000</td>\n",
       "      <td>...</td>\n",
       "      <td>-0.818182</td>\n",
       "      <td>-0.389967</td>\n",
       "      <td>0.407558</td>\n",
       "      <td>-0.230462</td>\n",
       "      <td>0.096774</td>\n",
       "      <td>-0.242282</td>\n",
       "      <td>-0.814433</td>\n",
       "      <td>ABOVE_12</td>\n",
       "      <td>Motor Neurone Disease, Smoker</td>\n",
       "      <td>1</td>\n",
       "    </tr>\n",
       "  </tbody>\n",
       "</table>\n",
       "<p>5 rows × 227 columns</p>\n",
       "</div>"
      ],
      "text/plain": [
       "   Unnamed: 0  PATIENT_VISIT_IDENTIFIER  AGE_ABOVE65 AGE_PERCENTIL  GENDER  \\\n",
       "0           0                         0            1          60th       0   \n",
       "1           1                         0            1          60th       0   \n",
       "2           2                         0            1          60th       0   \n",
       "3           3                         0            1          60th       0   \n",
       "4           4                         0            1          60th       0   \n",
       "\n",
       "   HTN  IMMUNOCOMPROMISED  OTHER  ALBUMIN_MEDIAN  ALBUMIN_MEAN  ...  \\\n",
       "0  0.0                0.0    1.0             NaN           NaN  ...   \n",
       "1  0.0                0.0    1.0             NaN           NaN  ...   \n",
       "2  0.0                0.0    1.0        0.605263      0.605263  ...   \n",
       "3  0.0                0.0    1.0             NaN           NaN  ...   \n",
       "4  0.0                0.0    1.0        0.000000      0.000000  ...   \n",
       "\n",
       "   OXYGEN_SATURATION_DIFF  BLOODPRESSURE_DIASTOLIC_DIFF_REL  \\\n",
       "0               -1.000000                         -1.000000   \n",
       "1               -1.000000                         -1.000000   \n",
       "2                     NaN                               NaN   \n",
       "3               -1.000000                               NaN   \n",
       "4               -0.818182                         -0.389967   \n",
       "\n",
       "   BLOODPRESSURE_SISTOLIC_DIFF_REL  HEART_RATE_DIFF_REL  \\\n",
       "0                        -1.000000            -1.000000   \n",
       "1                        -1.000000            -1.000000   \n",
       "2                              NaN                  NaN   \n",
       "3                              NaN                  NaN   \n",
       "4                         0.407558            -0.230462   \n",
       "\n",
       "   RESPIRATORY_RATE_DIFF_REL  TEMPERATURE_DIFF_REL  \\\n",
       "0                  -1.000000             -1.000000   \n",
       "1                  -1.000000             -1.000000   \n",
       "2                        NaN                   NaN   \n",
       "3                        NaN             -1.000000   \n",
       "4                   0.096774             -0.242282   \n",
       "\n",
       "   OXYGEN_SATURATION_DIFF_REL    WINDOW                           tags  ICU  \n",
       "0                   -1.000000       0-2  Motor Neurone Disease, Smoker    0  \n",
       "1                   -1.000000       2-4  Motor Neurone Disease, Smoker    0  \n",
       "2                         NaN       4-6  Motor Neurone Disease, Smoker    0  \n",
       "3                   -1.000000      6-12  Motor Neurone Disease, Smoker    0  \n",
       "4                   -0.814433  ABOVE_12  Motor Neurone Disease, Smoker    1  \n",
       "\n",
       "[5 rows x 227 columns]"
      ]
     },
     "execution_count": 3,
     "metadata": {},
     "output_type": "execute_result"
    }
   ],
   "source": [
    "df.head()"
   ]
  },
  {
   "cell_type": "code",
   "execution_count": 4,
   "id": "16a48696",
   "metadata": {},
   "outputs": [],
   "source": [
    "df.insert(len(df.columns), 'DISEASE GROUP 1', 0)\n",
    "df.insert(len(df.columns), 'DISEASE GROUP 2', 0)\n",
    "df.insert(len(df.columns), 'DISEASE GROUP 3', 0)\n",
    "df.insert(len(df.columns), 'DISEASE GROUP 4', 0)\n",
    "df.insert(len(df.columns), 'DISEASE GROUP 5', 0)\n",
    "df.insert(len(df.columns), 'DISEASE GROUP 6', 0)"
   ]
  },
  {
   "cell_type": "code",
   "execution_count": 5,
   "id": "e1c27d65",
   "metadata": {},
   "outputs": [
    {
     "name": "stderr",
     "output_type": "stream",
     "text": [
      "D:\\software\\installs\\lib\\site-packages\\ipykernel_launcher.py:13: SettingWithCopyWarning: \n",
      "A value is trying to be set on a copy of a slice from a DataFrame\n",
      "\n",
      "See the caveats in the documentation: https://pandas.pydata.org/pandas-docs/stable/user_guide/indexing.html#returning-a-view-versus-a-copy\n",
      "  del sys.path[0]\n",
      "D:\\software\\installs\\lib\\site-packages\\ipykernel_launcher.py:5: SettingWithCopyWarning: \n",
      "A value is trying to be set on a copy of a slice from a DataFrame\n",
      "\n",
      "See the caveats in the documentation: https://pandas.pydata.org/pandas-docs/stable/user_guide/indexing.html#returning-a-view-versus-a-copy\n",
      "  \"\"\"\n",
      "D:\\software\\installs\\lib\\site-packages\\ipykernel_launcher.py:9: SettingWithCopyWarning: \n",
      "A value is trying to be set on a copy of a slice from a DataFrame\n",
      "\n",
      "See the caveats in the documentation: https://pandas.pydata.org/pandas-docs/stable/user_guide/indexing.html#returning-a-view-versus-a-copy\n",
      "  if __name__ == '__main__':\n",
      "D:\\software\\installs\\lib\\site-packages\\ipykernel_launcher.py:15: SettingWithCopyWarning: \n",
      "A value is trying to be set on a copy of a slice from a DataFrame\n",
      "\n",
      "See the caveats in the documentation: https://pandas.pydata.org/pandas-docs/stable/user_guide/indexing.html#returning-a-view-versus-a-copy\n",
      "  from ipykernel import kernelapp as app\n",
      "D:\\software\\installs\\lib\\site-packages\\ipykernel_launcher.py:7: SettingWithCopyWarning: \n",
      "A value is trying to be set on a copy of a slice from a DataFrame\n",
      "\n",
      "See the caveats in the documentation: https://pandas.pydata.org/pandas-docs/stable/user_guide/indexing.html#returning-a-view-versus-a-copy\n",
      "  import sys\n",
      "D:\\software\\installs\\lib\\site-packages\\ipykernel_launcher.py:11: SettingWithCopyWarning: \n",
      "A value is trying to be set on a copy of a slice from a DataFrame\n",
      "\n",
      "See the caveats in the documentation: https://pandas.pydata.org/pandas-docs/stable/user_guide/indexing.html#returning-a-view-versus-a-copy\n",
      "  # This is added back by InteractiveShellApp.init_path()\n"
     ]
    }
   ],
   "source": [
    "for row in range(len(df.index)):\n",
    "    tags = str(df['tags'][row]).split(',')\n",
    "    for disease in tags:\n",
    "        if disease == 'Lung cancer':\n",
    "            df['DISEASE GROUP 1'][row] = 1\n",
    "        if disease == 'heart disease':\n",
    "            df['DISEASE GROUP 2'][row] = 1\n",
    "        if disease == 'asthma':\n",
    "            df['DISEASE GROUP 3'][row] = 1\n",
    "        if disease == 'Kidney disease':\n",
    "            df['DISEASE GROUP 4'][row] = 1\n",
    "        if disease == 'Motor Neurone Disease':\n",
    "            df['DISEASE GROUP 5'][row] = 1\n",
    "        if disease == 'Smoker':\n",
    "            df['DISEASE GROUP 6'][row] = 1"
   ]
  },
  {
   "cell_type": "code",
   "execution_count": 6,
   "id": "35856a7a",
   "metadata": {},
   "outputs": [
    {
     "data": {
      "text/html": [
       "<div>\n",
       "<style scoped>\n",
       "    .dataframe tbody tr th:only-of-type {\n",
       "        vertical-align: middle;\n",
       "    }\n",
       "\n",
       "    .dataframe tbody tr th {\n",
       "        vertical-align: top;\n",
       "    }\n",
       "\n",
       "    .dataframe thead th {\n",
       "        text-align: right;\n",
       "    }\n",
       "</style>\n",
       "<table border=\"1\" class=\"dataframe\">\n",
       "  <thead>\n",
       "    <tr style=\"text-align: right;\">\n",
       "      <th></th>\n",
       "      <th>Unnamed: 0</th>\n",
       "      <th>PATIENT_VISIT_IDENTIFIER</th>\n",
       "      <th>AGE_ABOVE65</th>\n",
       "      <th>AGE_PERCENTIL</th>\n",
       "      <th>GENDER</th>\n",
       "      <th>HTN</th>\n",
       "      <th>IMMUNOCOMPROMISED</th>\n",
       "      <th>OTHER</th>\n",
       "      <th>ALBUMIN_MEDIAN</th>\n",
       "      <th>ALBUMIN_MEAN</th>\n",
       "      <th>...</th>\n",
       "      <th>TEMPERATURE_DIFF_REL</th>\n",
       "      <th>OXYGEN_SATURATION_DIFF_REL</th>\n",
       "      <th>WINDOW</th>\n",
       "      <th>ICU</th>\n",
       "      <th>DISEASE GROUP 1</th>\n",
       "      <th>DISEASE GROUP 2</th>\n",
       "      <th>DISEASE GROUP 3</th>\n",
       "      <th>DISEASE GROUP 4</th>\n",
       "      <th>DISEASE GROUP 5</th>\n",
       "      <th>DISEASE GROUP 6</th>\n",
       "    </tr>\n",
       "  </thead>\n",
       "  <tbody>\n",
       "    <tr>\n",
       "      <th>0</th>\n",
       "      <td>0</td>\n",
       "      <td>0</td>\n",
       "      <td>1</td>\n",
       "      <td>60th</td>\n",
       "      <td>0</td>\n",
       "      <td>0.0</td>\n",
       "      <td>0.0</td>\n",
       "      <td>1.0</td>\n",
       "      <td>NaN</td>\n",
       "      <td>NaN</td>\n",
       "      <td>...</td>\n",
       "      <td>-1.000000</td>\n",
       "      <td>-1.000000</td>\n",
       "      <td>0-2</td>\n",
       "      <td>0</td>\n",
       "      <td>0</td>\n",
       "      <td>0</td>\n",
       "      <td>0</td>\n",
       "      <td>0</td>\n",
       "      <td>1</td>\n",
       "      <td>0</td>\n",
       "    </tr>\n",
       "    <tr>\n",
       "      <th>1</th>\n",
       "      <td>1</td>\n",
       "      <td>0</td>\n",
       "      <td>1</td>\n",
       "      <td>60th</td>\n",
       "      <td>0</td>\n",
       "      <td>0.0</td>\n",
       "      <td>0.0</td>\n",
       "      <td>1.0</td>\n",
       "      <td>NaN</td>\n",
       "      <td>NaN</td>\n",
       "      <td>...</td>\n",
       "      <td>-1.000000</td>\n",
       "      <td>-1.000000</td>\n",
       "      <td>2-4</td>\n",
       "      <td>0</td>\n",
       "      <td>0</td>\n",
       "      <td>0</td>\n",
       "      <td>0</td>\n",
       "      <td>0</td>\n",
       "      <td>1</td>\n",
       "      <td>0</td>\n",
       "    </tr>\n",
       "    <tr>\n",
       "      <th>2</th>\n",
       "      <td>2</td>\n",
       "      <td>0</td>\n",
       "      <td>1</td>\n",
       "      <td>60th</td>\n",
       "      <td>0</td>\n",
       "      <td>0.0</td>\n",
       "      <td>0.0</td>\n",
       "      <td>1.0</td>\n",
       "      <td>0.605263</td>\n",
       "      <td>0.605263</td>\n",
       "      <td>...</td>\n",
       "      <td>NaN</td>\n",
       "      <td>NaN</td>\n",
       "      <td>4-6</td>\n",
       "      <td>0</td>\n",
       "      <td>0</td>\n",
       "      <td>0</td>\n",
       "      <td>0</td>\n",
       "      <td>0</td>\n",
       "      <td>1</td>\n",
       "      <td>0</td>\n",
       "    </tr>\n",
       "    <tr>\n",
       "      <th>3</th>\n",
       "      <td>3</td>\n",
       "      <td>0</td>\n",
       "      <td>1</td>\n",
       "      <td>60th</td>\n",
       "      <td>0</td>\n",
       "      <td>0.0</td>\n",
       "      <td>0.0</td>\n",
       "      <td>1.0</td>\n",
       "      <td>NaN</td>\n",
       "      <td>NaN</td>\n",
       "      <td>...</td>\n",
       "      <td>-1.000000</td>\n",
       "      <td>-1.000000</td>\n",
       "      <td>6-12</td>\n",
       "      <td>0</td>\n",
       "      <td>0</td>\n",
       "      <td>0</td>\n",
       "      <td>0</td>\n",
       "      <td>0</td>\n",
       "      <td>1</td>\n",
       "      <td>0</td>\n",
       "    </tr>\n",
       "    <tr>\n",
       "      <th>4</th>\n",
       "      <td>4</td>\n",
       "      <td>0</td>\n",
       "      <td>1</td>\n",
       "      <td>60th</td>\n",
       "      <td>0</td>\n",
       "      <td>0.0</td>\n",
       "      <td>0.0</td>\n",
       "      <td>1.0</td>\n",
       "      <td>0.000000</td>\n",
       "      <td>0.000000</td>\n",
       "      <td>...</td>\n",
       "      <td>-0.242282</td>\n",
       "      <td>-0.814433</td>\n",
       "      <td>ABOVE_12</td>\n",
       "      <td>1</td>\n",
       "      <td>0</td>\n",
       "      <td>0</td>\n",
       "      <td>0</td>\n",
       "      <td>0</td>\n",
       "      <td>1</td>\n",
       "      <td>0</td>\n",
       "    </tr>\n",
       "  </tbody>\n",
       "</table>\n",
       "<p>5 rows × 232 columns</p>\n",
       "</div>"
      ],
      "text/plain": [
       "   Unnamed: 0  PATIENT_VISIT_IDENTIFIER  AGE_ABOVE65 AGE_PERCENTIL  GENDER  \\\n",
       "0           0                         0            1          60th       0   \n",
       "1           1                         0            1          60th       0   \n",
       "2           2                         0            1          60th       0   \n",
       "3           3                         0            1          60th       0   \n",
       "4           4                         0            1          60th       0   \n",
       "\n",
       "   HTN  IMMUNOCOMPROMISED  OTHER  ALBUMIN_MEDIAN  ALBUMIN_MEAN  ...  \\\n",
       "0  0.0                0.0    1.0             NaN           NaN  ...   \n",
       "1  0.0                0.0    1.0             NaN           NaN  ...   \n",
       "2  0.0                0.0    1.0        0.605263      0.605263  ...   \n",
       "3  0.0                0.0    1.0             NaN           NaN  ...   \n",
       "4  0.0                0.0    1.0        0.000000      0.000000  ...   \n",
       "\n",
       "   TEMPERATURE_DIFF_REL  OXYGEN_SATURATION_DIFF_REL    WINDOW  ICU  \\\n",
       "0             -1.000000                   -1.000000       0-2    0   \n",
       "1             -1.000000                   -1.000000       2-4    0   \n",
       "2                   NaN                         NaN       4-6    0   \n",
       "3             -1.000000                   -1.000000      6-12    0   \n",
       "4             -0.242282                   -0.814433  ABOVE_12    1   \n",
       "\n",
       "   DISEASE GROUP 1  DISEASE GROUP 2  DISEASE GROUP 3  DISEASE GROUP 4  \\\n",
       "0                0                0                0                0   \n",
       "1                0                0                0                0   \n",
       "2                0                0                0                0   \n",
       "3                0                0                0                0   \n",
       "4                0                0                0                0   \n",
       "\n",
       "   DISEASE GROUP 5  DISEASE GROUP 6  \n",
       "0                1                0  \n",
       "1                1                0  \n",
       "2                1                0  \n",
       "3                1                0  \n",
       "4                1                0  \n",
       "\n",
       "[5 rows x 232 columns]"
      ]
     },
     "execution_count": 6,
     "metadata": {},
     "output_type": "execute_result"
    }
   ],
   "source": [
    "del df['tags']\n",
    "df.head()"
   ]
  },
  {
   "cell_type": "markdown",
   "id": "37651483",
   "metadata": {},
   "source": [
    "#### Null / NA values in our dataset"
   ]
  },
  {
   "cell_type": "code",
   "execution_count": 7,
   "id": "40f45af5",
   "metadata": {},
   "outputs": [
    {
     "name": "stdout",
     "output_type": "stream",
     "text": [
      "Unnamed: 0  :  0\n",
      "PATIENT_VISIT_IDENTIFIER  :  0\n",
      "AGE_ABOVE65  :  0\n",
      "AGE_PERCENTIL  :  0\n",
      "GENDER  :  0\n",
      "HTN  :  5\n",
      "IMMUNOCOMPROMISED  :  5\n",
      "OTHER  :  5\n",
      "ALBUMIN_MEDIAN  :  1104\n",
      "ALBUMIN_MEAN  :  1104\n",
      "ALBUMIN_MIN  :  1104\n",
      "ALBUMIN_MAX  :  1104\n",
      "ALBUMIN_DIFF  :  1104\n",
      "BE_ARTERIAL_MEDIAN  :  1104\n",
      "BE_ARTERIAL_MEAN  :  1104\n",
      "BE_ARTERIAL_MIN  :  1104\n",
      "BE_ARTERIAL_MAX  :  1104\n",
      "BE_ARTERIAL_DIFF  :  1104\n",
      "BE_VENOUS_MEDIAN  :  1104\n",
      "BE_VENOUS_MEAN  :  1104\n",
      "BE_VENOUS_MIN  :  1104\n",
      "BE_VENOUS_MAX  :  1104\n",
      "BE_VENOUS_DIFF  :  1104\n",
      "BIC_ARTERIAL_MEDIAN  :  1104\n",
      "BIC_ARTERIAL_MEAN  :  1104\n",
      "BIC_ARTERIAL_MIN  :  1104\n",
      "BIC_ARTERIAL_MAX  :  1104\n",
      "BIC_ARTERIAL_DIFF  :  1104\n",
      "BIC_VENOUS_MEDIAN  :  1104\n",
      "BIC_VENOUS_MEAN  :  1104\n",
      "BIC_VENOUS_MIN  :  1104\n",
      "BIC_VENOUS_MAX  :  1104\n",
      "BIC_VENOUS_DIFF  :  1104\n",
      "BILLIRUBIN_MEDIAN  :  1104\n",
      "BILLIRUBIN_MEAN  :  1104\n",
      "BILLIRUBIN_MIN  :  1104\n",
      "BILLIRUBIN_MAX  :  1104\n",
      "BILLIRUBIN_DIFF  :  1104\n",
      "BLAST_MEDIAN  :  1104\n",
      "BLAST_MEAN  :  1104\n",
      "BLAST_MIN  :  1104\n",
      "BLAST_MAX  :  1104\n",
      "BLAST_DIFF  :  1104\n",
      "CALCIUM_MEDIAN  :  1104\n",
      "CALCIUM_MEAN  :  1104\n",
      "CALCIUM_MIN  :  1104\n",
      "CALCIUM_MAX  :  1104\n",
      "CALCIUM_DIFF  :  1104\n",
      "CREATININ_MEDIAN  :  1104\n",
      "CREATININ_MEAN  :  1104\n",
      "CREATININ_MIN  :  1104\n",
      "CREATININ_MAX  :  1104\n",
      "CREATININ_DIFF  :  1104\n",
      "FFA_MEDIAN  :  1104\n",
      "FFA_MEAN  :  1104\n",
      "FFA_MIN  :  1104\n",
      "FFA_MAX  :  1104\n",
      "FFA_DIFF  :  1104\n",
      "GGT_MEDIAN  :  1104\n",
      "GGT_MEAN  :  1104\n",
      "GGT_MIN  :  1104\n",
      "GGT_MAX  :  1104\n",
      "GGT_DIFF  :  1104\n",
      "GLUCOSE_MEDIAN  :  1104\n",
      "GLUCOSE_MEAN  :  1104\n",
      "GLUCOSE_MIN  :  1104\n",
      "GLUCOSE_MAX  :  1104\n",
      "GLUCOSE_DIFF  :  1104\n",
      "HEMATOCRITE_MEDIAN  :  1104\n",
      "HEMATOCRITE_MEAN  :  1104\n",
      "HEMATOCRITE_MIN  :  1104\n",
      "HEMATOCRITE_MAX  :  1104\n",
      "HEMATOCRITE_DIFF  :  1104\n",
      "HEMOGLOBIN_MEDIAN  :  1104\n",
      "HEMOGLOBIN_MEAN  :  1104\n",
      "HEMOGLOBIN_MIN  :  1104\n",
      "HEMOGLOBIN_MAX  :  1104\n",
      "HEMOGLOBIN_DIFF  :  1104\n",
      "INR_MEDIAN  :  1104\n",
      "INR_MEAN  :  1104\n",
      "INR_MIN  :  1104\n",
      "INR_MAX  :  1104\n",
      "INR_DIFF  :  1104\n",
      "LACTATE_MEDIAN  :  1104\n",
      "LACTATE_MEAN  :  1104\n",
      "LACTATE_MIN  :  1104\n",
      "LACTATE_MAX  :  1104\n",
      "LACTATE_DIFF  :  1104\n",
      "LEUKOCYTES_MEDIAN  :  1104\n",
      "LEUKOCYTES_MEAN  :  1104\n",
      "LEUKOCYTES_MIN  :  1104\n",
      "LEUKOCYTES_MAX  :  1104\n",
      "LEUKOCYTES_DIFF  :  1104\n",
      "LINFOCITOS_MEDIAN  :  1104\n",
      "LINFOCITOS_MEAN  :  1104\n",
      "LINFOCITOS_MIN  :  1104\n",
      "LINFOCITOS_MAX  :  1104\n",
      "LINFOCITOS_DIFF  :  1104\n",
      "NEUTROPHILES_MEDIAN  :  1104\n",
      "NEUTROPHILES_MEAN  :  1104\n",
      "NEUTROPHILES_MIN  :  1104\n",
      "NEUTROPHILES_MAX  :  1104\n",
      "NEUTROPHILES_DIFF  :  1104\n",
      "P02_ARTERIAL_MEDIAN  :  1104\n",
      "P02_ARTERIAL_MEAN  :  1104\n",
      "P02_ARTERIAL_MIN  :  1104\n",
      "P02_ARTERIAL_MAX  :  1104\n",
      "P02_ARTERIAL_DIFF  :  1104\n",
      "P02_VENOUS_MEDIAN  :  1104\n",
      "P02_VENOUS_MEAN  :  1104\n",
      "P02_VENOUS_MIN  :  1104\n",
      "P02_VENOUS_MAX  :  1104\n",
      "P02_VENOUS_DIFF  :  1104\n",
      "PC02_ARTERIAL_MEDIAN  :  1104\n",
      "PC02_ARTERIAL_MEAN  :  1104\n",
      "PC02_ARTERIAL_MIN  :  1104\n",
      "PC02_ARTERIAL_MAX  :  1104\n",
      "PC02_ARTERIAL_DIFF  :  1104\n",
      "PC02_VENOUS_MEDIAN  :  1104\n",
      "PC02_VENOUS_MEAN  :  1104\n",
      "PC02_VENOUS_MIN  :  1104\n",
      "PC02_VENOUS_MAX  :  1104\n",
      "PC02_VENOUS_DIFF  :  1104\n",
      "PCR_MEDIAN  :  1104\n",
      "PCR_MEAN  :  1104\n",
      "PCR_MIN  :  1104\n",
      "PCR_MAX  :  1104\n",
      "PCR_DIFF  :  1104\n",
      "PH_ARTERIAL_MEDIAN  :  1104\n",
      "PH_ARTERIAL_MEAN  :  1104\n",
      "PH_ARTERIAL_MIN  :  1104\n",
      "PH_ARTERIAL_MAX  :  1104\n",
      "PH_ARTERIAL_DIFF  :  1104\n",
      "PH_VENOUS_MEDIAN  :  1104\n",
      "PH_VENOUS_MEAN  :  1104\n",
      "PH_VENOUS_MIN  :  1104\n",
      "PH_VENOUS_MAX  :  1104\n",
      "PH_VENOUS_DIFF  :  1104\n",
      "PLATELETS_MEDIAN  :  1104\n",
      "PLATELETS_MEAN  :  1104\n",
      "PLATELETS_MIN  :  1104\n",
      "PLATELETS_MAX  :  1104\n",
      "PLATELETS_DIFF  :  1104\n",
      "POTASSIUM_MEDIAN  :  1104\n",
      "POTASSIUM_MEAN  :  1104\n",
      "POTASSIUM_MIN  :  1104\n",
      "POTASSIUM_MAX  :  1104\n",
      "POTASSIUM_DIFF  :  1104\n",
      "SAT02_ARTERIAL_MEDIAN  :  1104\n",
      "SAT02_ARTERIAL_MEAN  :  1104\n",
      "SAT02_ARTERIAL_MIN  :  1104\n",
      "SAT02_ARTERIAL_MAX  :  1104\n",
      "SAT02_ARTERIAL_DIFF  :  1104\n",
      "SAT02_VENOUS_MEDIAN  :  1104\n",
      "SAT02_VENOUS_MEAN  :  1104\n",
      "SAT02_VENOUS_MIN  :  1104\n",
      "SAT02_VENOUS_MAX  :  1104\n",
      "SAT02_VENOUS_DIFF  :  1104\n",
      "SODIUM_MEDIAN  :  1104\n",
      "SODIUM_MEAN  :  1104\n",
      "SODIUM_MIN  :  1104\n",
      "SODIUM_MAX  :  1104\n",
      "SODIUM_DIFF  :  1104\n",
      "TGO_MEDIAN  :  1104\n",
      "TGO_MEAN  :  1104\n",
      "TGO_MIN  :  1104\n",
      "TGO_MAX  :  1104\n",
      "TGO_DIFF  :  1104\n",
      "TGP_MEDIAN  :  1104\n",
      "TGP_MEAN  :  1104\n",
      "TGP_MIN  :  1104\n",
      "TGP_MAX  :  1104\n",
      "TGP_DIFF  :  1104\n",
      "TTPA_MEDIAN  :  1104\n",
      "TTPA_MEAN  :  1104\n",
      "TTPA_MIN  :  1104\n",
      "TTPA_MAX  :  1104\n",
      "TTPA_DIFF  :  1104\n",
      "UREA_MEDIAN  :  1104\n",
      "UREA_MEAN  :  1104\n",
      "UREA_MIN  :  1104\n",
      "UREA_MAX  :  1104\n",
      "UREA_DIFF  :  1104\n",
      "DIMER_MEDIAN  :  1104\n",
      "DIMER_MEAN  :  1104\n",
      "DIMER_MIN  :  1104\n",
      "DIMER_MAX  :  1104\n",
      "DIMER_DIFF  :  1104\n",
      "BLOODPRESSURE_DIASTOLIC_MEAN  :  685\n",
      "BLOODPRESSURE_SISTOLIC_MEAN  :  685\n",
      "HEART_RATE_MEAN  :  685\n",
      "RESPIRATORY_RATE_MEAN  :  748\n",
      "TEMPERATURE_MEAN  :  694\n",
      "OXYGEN_SATURATION_MEAN  :  686\n",
      "BLOODPRESSURE_DIASTOLIC_MEDIAN  :  685\n",
      "BLOODPRESSURE_SISTOLIC_MEDIAN  :  685\n",
      "HEART_RATE_MEDIAN  :  685\n",
      "RESPIRATORY_RATE_MEDIAN  :  748\n",
      "TEMPERATURE_MEDIAN  :  694\n",
      "OXYGEN_SATURATION_MEDIAN  :  686\n",
      "BLOODPRESSURE_DIASTOLIC_MIN  :  685\n",
      "BLOODPRESSURE_SISTOLIC_MIN  :  685\n",
      "HEART_RATE_MIN  :  685\n",
      "RESPIRATORY_RATE_MIN  :  748\n",
      "TEMPERATURE_MIN  :  694\n",
      "OXYGEN_SATURATION_MIN  :  686\n",
      "BLOODPRESSURE_DIASTOLIC_MAX  :  685\n",
      "BLOODPRESSURE_SISTOLIC_MAX  :  685\n",
      "HEART_RATE_MAX  :  685\n",
      "RESPIRATORY_RATE_MAX  :  748\n",
      "TEMPERATURE_MAX  :  694\n",
      "OXYGEN_SATURATION_MAX  :  686\n",
      "BLOODPRESSURE_DIASTOLIC_DIFF  :  685\n",
      "BLOODPRESSURE_SISTOLIC_DIFF  :  685\n",
      "HEART_RATE_DIFF  :  685\n",
      "RESPIRATORY_RATE_DIFF  :  748\n",
      "TEMPERATURE_DIFF  :  694\n",
      "OXYGEN_SATURATION_DIFF  :  686\n",
      "BLOODPRESSURE_DIASTOLIC_DIFF_REL  :  685\n",
      "BLOODPRESSURE_SISTOLIC_DIFF_REL  :  685\n",
      "HEART_RATE_DIFF_REL  :  685\n",
      "RESPIRATORY_RATE_DIFF_REL  :  748\n",
      "TEMPERATURE_DIFF_REL  :  694\n",
      "OXYGEN_SATURATION_DIFF_REL  :  686\n",
      "WINDOW  :  0\n",
      "ICU  :  0\n",
      "DISEASE GROUP 1  :  0\n",
      "DISEASE GROUP 2  :  0\n",
      "DISEASE GROUP 3  :  0\n",
      "DISEASE GROUP 4  :  0\n",
      "DISEASE GROUP 5  :  0\n",
      "DISEASE GROUP 6  :  0\n"
     ]
    }
   ],
   "source": [
    "def print_na(df):\n",
    "    for i in range(df.isna().sum().shape[0]):\n",
    "        f = df.isna().sum().index[i]\n",
    "        v = df.isna().sum()[i]\n",
    "        print(f, \" : \", v)\n",
    "print_na(df)"
   ]
  },
  {
   "cell_type": "markdown",
   "id": "f1733c49",
   "metadata": {},
   "source": [
    "#### check for duplicate columns i.e columns having all values exactly equal\n",
    "#### The first instance of a column is marked as 'False', when the value is seen to be repeated in other\n",
    "#### column(s) it is marked as 'True'\n",
    "#### 143 duplicate columns"
   ]
  },
  {
   "cell_type": "code",
   "execution_count": 8,
   "id": "47e6fc6b",
   "metadata": {},
   "outputs": [
    {
     "name": "stdout",
     "output_type": "stream",
     "text": [
      "ALBUMIN_MEAN : True\n",
      "ALBUMIN_MIN : True\n",
      "ALBUMIN_MAX : True\n",
      "BE_ARTERIAL_MEAN : True\n",
      "BE_ARTERIAL_MIN : True\n",
      "BE_ARTERIAL_MAX : True\n",
      "BE_ARTERIAL_DIFF : True\n",
      "BE_VENOUS_MEAN : True\n",
      "BE_VENOUS_MIN : True\n",
      "BE_VENOUS_MAX : True\n",
      "BE_VENOUS_DIFF : True\n",
      "BIC_ARTERIAL_MEAN : True\n",
      "BIC_ARTERIAL_MIN : True\n",
      "BIC_ARTERIAL_MAX : True\n",
      "BIC_ARTERIAL_DIFF : True\n",
      "BIC_VENOUS_MEAN : True\n",
      "BIC_VENOUS_MIN : True\n",
      "BIC_VENOUS_MAX : True\n",
      "BIC_VENOUS_DIFF : True\n",
      "BILLIRUBIN_MEAN : True\n",
      "BILLIRUBIN_MIN : True\n",
      "BILLIRUBIN_MAX : True\n",
      "BILLIRUBIN_DIFF : True\n",
      "BLAST_MEAN : True\n",
      "BLAST_MIN : True\n",
      "BLAST_MAX : True\n",
      "BLAST_DIFF : True\n",
      "CALCIUM_MEAN : True\n",
      "CALCIUM_MIN : True\n",
      "CALCIUM_MAX : True\n",
      "CALCIUM_DIFF : True\n",
      "CREATININ_MEAN : True\n",
      "CREATININ_MIN : True\n",
      "CREATININ_MAX : True\n",
      "CREATININ_DIFF : True\n",
      "FFA_MEAN : True\n",
      "FFA_MIN : True\n",
      "FFA_MAX : True\n",
      "FFA_DIFF : True\n",
      "GGT_MEAN : True\n",
      "GGT_MIN : True\n",
      "GGT_MAX : True\n",
      "GGT_DIFF : True\n",
      "GLUCOSE_MEAN : True\n",
      "GLUCOSE_MIN : True\n",
      "GLUCOSE_MAX : True\n",
      "GLUCOSE_DIFF : True\n",
      "HEMATOCRITE_MEAN : True\n",
      "HEMATOCRITE_MIN : True\n",
      "HEMATOCRITE_MAX : True\n",
      "HEMATOCRITE_DIFF : True\n",
      "HEMOGLOBIN_MEAN : True\n",
      "HEMOGLOBIN_MIN : True\n",
      "HEMOGLOBIN_MAX : True\n",
      "HEMOGLOBIN_DIFF : True\n",
      "INR_MEAN : True\n",
      "INR_MIN : True\n",
      "INR_MAX : True\n",
      "INR_DIFF : True\n",
      "LACTATE_MEAN : True\n",
      "LACTATE_MIN : True\n",
      "LACTATE_MAX : True\n",
      "LACTATE_DIFF : True\n",
      "LEUKOCYTES_MEAN : True\n",
      "LEUKOCYTES_MIN : True\n",
      "LEUKOCYTES_MAX : True\n",
      "LEUKOCYTES_DIFF : True\n",
      "LINFOCITOS_MEAN : True\n",
      "LINFOCITOS_MIN : True\n",
      "LINFOCITOS_MAX : True\n",
      "LINFOCITOS_DIFF : True\n",
      "NEUTROPHILES_MEAN : True\n",
      "NEUTROPHILES_MIN : True\n",
      "NEUTROPHILES_MAX : True\n",
      "NEUTROPHILES_DIFF : True\n",
      "P02_ARTERIAL_MEAN : True\n",
      "P02_ARTERIAL_MIN : True\n",
      "P02_ARTERIAL_MAX : True\n",
      "P02_ARTERIAL_DIFF : True\n",
      "P02_VENOUS_MEAN : True\n",
      "P02_VENOUS_MIN : True\n",
      "P02_VENOUS_MAX : True\n",
      "P02_VENOUS_DIFF : True\n",
      "PC02_ARTERIAL_MEAN : True\n",
      "PC02_ARTERIAL_MIN : True\n",
      "PC02_ARTERIAL_MAX : True\n",
      "PC02_ARTERIAL_DIFF : True\n",
      "PC02_VENOUS_MEAN : True\n",
      "PC02_VENOUS_MIN : True\n",
      "PC02_VENOUS_MAX : True\n",
      "PC02_VENOUS_DIFF : True\n",
      "PCR_MEAN : True\n",
      "PCR_MIN : True\n",
      "PCR_MAX : True\n",
      "PCR_DIFF : True\n",
      "PH_ARTERIAL_MEAN : True\n",
      "PH_ARTERIAL_MIN : True\n",
      "PH_ARTERIAL_MAX : True\n",
      "PH_ARTERIAL_DIFF : True\n",
      "PH_VENOUS_MEAN : True\n",
      "PH_VENOUS_MIN : True\n",
      "PH_VENOUS_MAX : True\n",
      "PH_VENOUS_DIFF : True\n",
      "PLATELETS_MEAN : True\n",
      "PLATELETS_MIN : True\n",
      "PLATELETS_MAX : True\n",
      "PLATELETS_DIFF : True\n",
      "POTASSIUM_MEAN : True\n",
      "POTASSIUM_MIN : True\n",
      "POTASSIUM_MAX : True\n",
      "POTASSIUM_DIFF : True\n",
      "SAT02_ARTERIAL_MEAN : True\n",
      "SAT02_ARTERIAL_MIN : True\n",
      "SAT02_ARTERIAL_MAX : True\n",
      "SAT02_ARTERIAL_DIFF : True\n",
      "SAT02_VENOUS_MEAN : True\n",
      "SAT02_VENOUS_MIN : True\n",
      "SAT02_VENOUS_MAX : True\n",
      "SAT02_VENOUS_DIFF : True\n",
      "SODIUM_MEAN : True\n",
      "SODIUM_MIN : True\n",
      "SODIUM_MAX : True\n",
      "SODIUM_DIFF : True\n",
      "TGO_MEAN : True\n",
      "TGO_MIN : True\n",
      "TGO_MAX : True\n",
      "TGO_DIFF : True\n",
      "TGP_MEAN : True\n",
      "TGP_MIN : True\n",
      "TGP_MAX : True\n",
      "TGP_DIFF : True\n",
      "TTPA_MEAN : True\n",
      "TTPA_MIN : True\n",
      "TTPA_MAX : True\n",
      "TTPA_DIFF : True\n",
      "UREA_MEAN : True\n",
      "UREA_MIN : True\n",
      "UREA_MAX : True\n",
      "UREA_DIFF : True\n",
      "DIMER_MEAN : True\n",
      "DIMER_MIN : True\n",
      "DIMER_MAX : True\n",
      "DIMER_DIFF : True\n",
      "total duplicate columns =  143\n"
     ]
    }
   ],
   "source": [
    "\n",
    "duplicated = df.T.duplicated()\n",
    "count = 0\n",
    "\n",
    "for i in range(len(duplicated)):\n",
    "    if duplicated[i] == True:\n",
    "        print(duplicated.index[i], \":\", duplicated[i])\n",
    "        count += 1\n",
    "\n",
    "print(\"total duplicate columns = \", count)"
   ]
  },
  {
   "cell_type": "markdown",
   "id": "62a1b9ba",
   "metadata": {},
   "source": [
    "#### Eliminate duplicate columns - it drops the columns marked as 'True' from the previous step\n",
    "#### In this way we still retain one copy of the values for analysis (the one that is marked as 'False')\n",
    "### check the shape here : 231 - 143 = 88\n"
   ]
  },
  {
   "cell_type": "code",
   "execution_count": 9,
   "id": "fd4674d8",
   "metadata": {},
   "outputs": [
    {
     "data": {
      "text/plain": [
       "(1925, 89)"
      ]
     },
     "execution_count": 9,
     "metadata": {},
     "output_type": "execute_result"
    }
   ],
   "source": [
    "df = df.T.drop_duplicates().T\n",
    "df.shape"
   ]
  },
  {
   "cell_type": "code",
   "execution_count": 10,
   "id": "b9209e25",
   "metadata": {},
   "outputs": [],
   "source": [
    "def generate_icu_feature(p_id):\n",
    "    temp_df = df[df['PATIENT_VISIT_IDENTIFIER']==p_id]\n",
    "    icu_track = temp_df['ICU']\n",
    "    icu = False\n",
    "    for t in icu_track:\n",
    "        icu = icu or t\n",
    "    return icu\n",
    "\n",
    "df['ICU'] = df.apply(lambda x : generate_icu_feature(x['PATIENT_VISIT_IDENTIFIER']), axis = 1)"
   ]
  },
  {
   "cell_type": "markdown",
   "id": "f352a842",
   "metadata": {},
   "source": [
    "#### all unique ids\n",
    "#### Iterate for each unique patient id\n",
    "#### create a temporary dataframe to hold details for each patient\n",
    "#### Fill missing data with mean of values\n",
    "#### Concatenate dataframes from NA_filled_first_window to assemble the final dataframe"
   ]
  },
  {
   "cell_type": "code",
   "execution_count": 11,
   "id": "333cdf6a",
   "metadata": {},
   "outputs": [
    {
     "name": "stderr",
     "output_type": "stream",
     "text": [
      "D:\\software\\installs\\lib\\site-packages\\pandas\\core\\series.py:4469: SettingWithCopyWarning: \n",
      "A value is trying to be set on a copy of a slice from a DataFrame\n",
      "\n",
      "See the caveats in the documentation: https://pandas.pydata.org/pandas-docs/stable/user_guide/indexing.html#returning-a-view-versus-a-copy\n",
      "  downcast=downcast,\n"
     ]
    }
   ],
   "source": [
    "patient_id = df['PATIENT_VISIT_IDENTIFIER'].unique()\n",
    "NA_filled_first_window = []\n",
    "\n",
    "for p_id in patient_id:\n",
    "    temp = df[ df['PATIENT_VISIT_IDENTIFIER'] == p_id ]\n",
    "    temp.fillna(temp.mean(),inplace=True)\n",
    "    NA_filled_first_window.append(temp.iloc[[0]])\n",
    "\n",
    "final_data = pd.concat(NA_filled_first_window)"
   ]
  },
  {
   "cell_type": "markdown",
   "id": "ee8fa6c5",
   "metadata": {},
   "source": [
    "### check for any remaining NA"
   ]
  },
  {
   "cell_type": "code",
   "execution_count": 12,
   "id": "dde02624",
   "metadata": {},
   "outputs": [
    {
     "name": "stdout",
     "output_type": "stream",
     "text": [
      "Unnamed: 0  :  0\n",
      "PATIENT_VISIT_IDENTIFIER  :  0\n",
      "AGE_ABOVE65  :  0\n",
      "AGE_PERCENTIL  :  0\n",
      "GENDER  :  0\n",
      "HTN  :  1\n",
      "IMMUNOCOMPROMISED  :  1\n",
      "OTHER  :  1\n",
      "ALBUMIN_MEDIAN  :  2\n",
      "ALBUMIN_DIFF  :  2\n",
      "BE_ARTERIAL_MEDIAN  :  2\n",
      "BE_VENOUS_MEDIAN  :  2\n",
      "BIC_ARTERIAL_MEDIAN  :  2\n",
      "BIC_VENOUS_MEDIAN  :  2\n",
      "BILLIRUBIN_MEDIAN  :  2\n",
      "BLAST_MEDIAN  :  2\n",
      "CALCIUM_MEDIAN  :  2\n",
      "CREATININ_MEDIAN  :  2\n",
      "FFA_MEDIAN  :  2\n",
      "GGT_MEDIAN  :  2\n",
      "GLUCOSE_MEDIAN  :  2\n",
      "HEMATOCRITE_MEDIAN  :  2\n",
      "HEMOGLOBIN_MEDIAN  :  2\n",
      "INR_MEDIAN  :  2\n",
      "LACTATE_MEDIAN  :  2\n",
      "LEUKOCYTES_MEDIAN  :  2\n",
      "LINFOCITOS_MEDIAN  :  2\n",
      "NEUTROPHILES_MEDIAN  :  2\n",
      "P02_ARTERIAL_MEDIAN  :  2\n",
      "P02_VENOUS_MEDIAN  :  2\n",
      "PC02_ARTERIAL_MEDIAN  :  2\n",
      "PC02_VENOUS_MEDIAN  :  2\n",
      "PCR_MEDIAN  :  2\n",
      "PH_ARTERIAL_MEDIAN  :  2\n",
      "PH_VENOUS_MEDIAN  :  2\n",
      "PLATELETS_MEDIAN  :  2\n",
      "POTASSIUM_MEDIAN  :  2\n",
      "SAT02_ARTERIAL_MEDIAN  :  2\n",
      "SAT02_VENOUS_MEDIAN  :  2\n",
      "SODIUM_MEDIAN  :  2\n",
      "TGO_MEDIAN  :  2\n",
      "TGP_MEDIAN  :  2\n",
      "TTPA_MEDIAN  :  2\n",
      "UREA_MEDIAN  :  2\n",
      "DIMER_MEDIAN  :  2\n",
      "BLOODPRESSURE_DIASTOLIC_MEAN  :  1\n",
      "BLOODPRESSURE_SISTOLIC_MEAN  :  1\n",
      "HEART_RATE_MEAN  :  1\n",
      "RESPIRATORY_RATE_MEAN  :  1\n",
      "TEMPERATURE_MEAN  :  1\n",
      "OXYGEN_SATURATION_MEAN  :  1\n",
      "BLOODPRESSURE_DIASTOLIC_MEDIAN  :  1\n",
      "BLOODPRESSURE_SISTOLIC_MEDIAN  :  1\n",
      "HEART_RATE_MEDIAN  :  1\n",
      "RESPIRATORY_RATE_MEDIAN  :  1\n",
      "TEMPERATURE_MEDIAN  :  1\n",
      "OXYGEN_SATURATION_MEDIAN  :  1\n",
      "BLOODPRESSURE_DIASTOLIC_MIN  :  1\n",
      "BLOODPRESSURE_SISTOLIC_MIN  :  1\n",
      "HEART_RATE_MIN  :  1\n",
      "RESPIRATORY_RATE_MIN  :  1\n",
      "TEMPERATURE_MIN  :  1\n",
      "OXYGEN_SATURATION_MIN  :  1\n",
      "BLOODPRESSURE_DIASTOLIC_MAX  :  1\n",
      "BLOODPRESSURE_SISTOLIC_MAX  :  1\n",
      "HEART_RATE_MAX  :  1\n",
      "RESPIRATORY_RATE_MAX  :  1\n",
      "TEMPERATURE_MAX  :  1\n",
      "OXYGEN_SATURATION_MAX  :  1\n",
      "BLOODPRESSURE_DIASTOLIC_DIFF  :  1\n",
      "BLOODPRESSURE_SISTOLIC_DIFF  :  1\n",
      "HEART_RATE_DIFF  :  1\n",
      "RESPIRATORY_RATE_DIFF  :  1\n",
      "TEMPERATURE_DIFF  :  1\n",
      "OXYGEN_SATURATION_DIFF  :  1\n",
      "BLOODPRESSURE_DIASTOLIC_DIFF_REL  :  1\n",
      "BLOODPRESSURE_SISTOLIC_DIFF_REL  :  1\n",
      "HEART_RATE_DIFF_REL  :  1\n",
      "RESPIRATORY_RATE_DIFF_REL  :  1\n",
      "TEMPERATURE_DIFF_REL  :  1\n",
      "OXYGEN_SATURATION_DIFF_REL  :  1\n",
      "WINDOW  :  0\n",
      "ICU  :  0\n",
      "DISEASE GROUP 1  :  0\n",
      "DISEASE GROUP 2  :  0\n",
      "DISEASE GROUP 3  :  0\n",
      "DISEASE GROUP 4  :  0\n",
      "DISEASE GROUP 5  :  0\n",
      "DISEASE GROUP 6  :  0\n"
     ]
    }
   ],
   "source": [
    "print_na(final_data)"
   ]
  },
  {
   "cell_type": "markdown",
   "id": "720e9168",
   "metadata": {},
   "source": [
    "### Find the one with nan value"
   ]
  },
  {
   "cell_type": "code",
   "execution_count": 13,
   "id": "35a72bb3",
   "metadata": {},
   "outputs": [
    {
     "data": {
      "text/html": [
       "<div>\n",
       "<style scoped>\n",
       "    .dataframe tbody tr th:only-of-type {\n",
       "        vertical-align: middle;\n",
       "    }\n",
       "\n",
       "    .dataframe tbody tr th {\n",
       "        vertical-align: top;\n",
       "    }\n",
       "\n",
       "    .dataframe thead th {\n",
       "        text-align: right;\n",
       "    }\n",
       "</style>\n",
       "<table border=\"1\" class=\"dataframe\">\n",
       "  <thead>\n",
       "    <tr style=\"text-align: right;\">\n",
       "      <th></th>\n",
       "      <th>Unnamed: 0</th>\n",
       "      <th>PATIENT_VISIT_IDENTIFIER</th>\n",
       "      <th>AGE_ABOVE65</th>\n",
       "      <th>AGE_PERCENTIL</th>\n",
       "      <th>GENDER</th>\n",
       "      <th>HTN</th>\n",
       "      <th>IMMUNOCOMPROMISED</th>\n",
       "      <th>OTHER</th>\n",
       "      <th>ALBUMIN_MEDIAN</th>\n",
       "      <th>ALBUMIN_DIFF</th>\n",
       "      <th>...</th>\n",
       "      <th>TEMPERATURE_DIFF_REL</th>\n",
       "      <th>OXYGEN_SATURATION_DIFF_REL</th>\n",
       "      <th>WINDOW</th>\n",
       "      <th>ICU</th>\n",
       "      <th>DISEASE GROUP 1</th>\n",
       "      <th>DISEASE GROUP 2</th>\n",
       "      <th>DISEASE GROUP 3</th>\n",
       "      <th>DISEASE GROUP 4</th>\n",
       "      <th>DISEASE GROUP 5</th>\n",
       "      <th>DISEASE GROUP 6</th>\n",
       "    </tr>\n",
       "  </thead>\n",
       "  <tbody>\n",
       "  </tbody>\n",
       "</table>\n",
       "<p>0 rows × 89 columns</p>\n",
       "</div>"
      ],
      "text/plain": [
       "Empty DataFrame\n",
       "Columns: [Unnamed: 0, PATIENT_VISIT_IDENTIFIER, AGE_ABOVE65, AGE_PERCENTIL, GENDER, HTN, IMMUNOCOMPROMISED, OTHER, ALBUMIN_MEDIAN, ALBUMIN_DIFF, BE_ARTERIAL_MEDIAN, BE_VENOUS_MEDIAN, BIC_ARTERIAL_MEDIAN, BIC_VENOUS_MEDIAN, BILLIRUBIN_MEDIAN, BLAST_MEDIAN, CALCIUM_MEDIAN, CREATININ_MEDIAN, FFA_MEDIAN, GGT_MEDIAN, GLUCOSE_MEDIAN, HEMATOCRITE_MEDIAN, HEMOGLOBIN_MEDIAN, INR_MEDIAN, LACTATE_MEDIAN, LEUKOCYTES_MEDIAN, LINFOCITOS_MEDIAN, NEUTROPHILES_MEDIAN, P02_ARTERIAL_MEDIAN, P02_VENOUS_MEDIAN, PC02_ARTERIAL_MEDIAN, PC02_VENOUS_MEDIAN, PCR_MEDIAN, PH_ARTERIAL_MEDIAN, PH_VENOUS_MEDIAN, PLATELETS_MEDIAN, POTASSIUM_MEDIAN, SAT02_ARTERIAL_MEDIAN, SAT02_VENOUS_MEDIAN, SODIUM_MEDIAN, TGO_MEDIAN, TGP_MEDIAN, TTPA_MEDIAN, UREA_MEDIAN, DIMER_MEDIAN, BLOODPRESSURE_DIASTOLIC_MEAN, BLOODPRESSURE_SISTOLIC_MEAN, HEART_RATE_MEAN, RESPIRATORY_RATE_MEAN, TEMPERATURE_MEAN, OXYGEN_SATURATION_MEAN, BLOODPRESSURE_DIASTOLIC_MEDIAN, BLOODPRESSURE_SISTOLIC_MEDIAN, HEART_RATE_MEDIAN, RESPIRATORY_RATE_MEDIAN, TEMPERATURE_MEDIAN, OXYGEN_SATURATION_MEDIAN, BLOODPRESSURE_DIASTOLIC_MIN, BLOODPRESSURE_SISTOLIC_MIN, HEART_RATE_MIN, RESPIRATORY_RATE_MIN, TEMPERATURE_MIN, OXYGEN_SATURATION_MIN, BLOODPRESSURE_DIASTOLIC_MAX, BLOODPRESSURE_SISTOLIC_MAX, HEART_RATE_MAX, RESPIRATORY_RATE_MAX, TEMPERATURE_MAX, OXYGEN_SATURATION_MAX, BLOODPRESSURE_DIASTOLIC_DIFF, BLOODPRESSURE_SISTOLIC_DIFF, HEART_RATE_DIFF, RESPIRATORY_RATE_DIFF, TEMPERATURE_DIFF, OXYGEN_SATURATION_DIFF, BLOODPRESSURE_DIASTOLIC_DIFF_REL, BLOODPRESSURE_SISTOLIC_DIFF_REL, HEART_RATE_DIFF_REL, RESPIRATORY_RATE_DIFF_REL, TEMPERATURE_DIFF_REL, OXYGEN_SATURATION_DIFF_REL, WINDOW, ICU, DISEASE GROUP 1, DISEASE GROUP 2, DISEASE GROUP 3, DISEASE GROUP 4, DISEASE GROUP 5, DISEASE GROUP 6]\n",
       "Index: []\n",
       "\n",
       "[0 rows x 89 columns]"
      ]
     },
     "execution_count": 13,
     "metadata": {},
     "output_type": "execute_result"
    }
   ],
   "source": [
    "final_data[ final_data['DISEASE GROUP 1'].isna() ]"
   ]
  },
  {
   "cell_type": "markdown",
   "id": "da4a26b7",
   "metadata": {},
   "source": [
    "#### the patient with ID = 199 has all values as NaN, hence drop this patient details\n",
    "#### We still have one more row with more NaN values, Find the one with nan value for 'ALBUMIN_MEDIAN'"
   ]
  },
  {
   "cell_type": "code",
   "execution_count": 14,
   "id": "e52d7e9f",
   "metadata": {},
   "outputs": [],
   "source": [
    "final_data = final_data[ final_data['PATIENT_VISIT_IDENTIFIER'] != 199 ]"
   ]
  },
  {
   "cell_type": "code",
   "execution_count": 15,
   "id": "4471f93f",
   "metadata": {},
   "outputs": [
    {
     "data": {
      "text/html": [
       "<div>\n",
       "<style scoped>\n",
       "    .dataframe tbody tr th:only-of-type {\n",
       "        vertical-align: middle;\n",
       "    }\n",
       "\n",
       "    .dataframe tbody tr th {\n",
       "        vertical-align: top;\n",
       "    }\n",
       "\n",
       "    .dataframe thead th {\n",
       "        text-align: right;\n",
       "    }\n",
       "</style>\n",
       "<table border=\"1\" class=\"dataframe\">\n",
       "  <thead>\n",
       "    <tr style=\"text-align: right;\">\n",
       "      <th></th>\n",
       "      <th>Unnamed: 0</th>\n",
       "      <th>PATIENT_VISIT_IDENTIFIER</th>\n",
       "      <th>AGE_ABOVE65</th>\n",
       "      <th>AGE_PERCENTIL</th>\n",
       "      <th>GENDER</th>\n",
       "      <th>HTN</th>\n",
       "      <th>IMMUNOCOMPROMISED</th>\n",
       "      <th>OTHER</th>\n",
       "      <th>ALBUMIN_MEDIAN</th>\n",
       "      <th>ALBUMIN_DIFF</th>\n",
       "      <th>...</th>\n",
       "      <th>TEMPERATURE_DIFF_REL</th>\n",
       "      <th>OXYGEN_SATURATION_DIFF_REL</th>\n",
       "      <th>WINDOW</th>\n",
       "      <th>ICU</th>\n",
       "      <th>DISEASE GROUP 1</th>\n",
       "      <th>DISEASE GROUP 2</th>\n",
       "      <th>DISEASE GROUP 3</th>\n",
       "      <th>DISEASE GROUP 4</th>\n",
       "      <th>DISEASE GROUP 5</th>\n",
       "      <th>DISEASE GROUP 6</th>\n",
       "    </tr>\n",
       "  </thead>\n",
       "  <tbody>\n",
       "    <tr>\n",
       "      <th>1435</th>\n",
       "      <td>1435</td>\n",
       "      <td>287</td>\n",
       "      <td>0</td>\n",
       "      <td>10th</td>\n",
       "      <td>0</td>\n",
       "      <td>0.0</td>\n",
       "      <td>0.0</td>\n",
       "      <td>1.0</td>\n",
       "      <td>NaN</td>\n",
       "      <td>NaN</td>\n",
       "      <td>...</td>\n",
       "      <td>-1.0</td>\n",
       "      <td>-1.0</td>\n",
       "      <td>0-2</td>\n",
       "      <td>1</td>\n",
       "      <td>0</td>\n",
       "      <td>0</td>\n",
       "      <td>0</td>\n",
       "      <td>0</td>\n",
       "      <td>0</td>\n",
       "      <td>0</td>\n",
       "    </tr>\n",
       "  </tbody>\n",
       "</table>\n",
       "<p>1 rows × 89 columns</p>\n",
       "</div>"
      ],
      "text/plain": [
       "      Unnamed: 0  PATIENT_VISIT_IDENTIFIER  AGE_ABOVE65 AGE_PERCENTIL  GENDER  \\\n",
       "1435        1435                       287            0          10th       0   \n",
       "\n",
       "      HTN  IMMUNOCOMPROMISED  OTHER  ALBUMIN_MEDIAN  ALBUMIN_DIFF  ...  \\\n",
       "1435  0.0                0.0    1.0             NaN           NaN  ...   \n",
       "\n",
       "      TEMPERATURE_DIFF_REL  OXYGEN_SATURATION_DIFF_REL  WINDOW  ICU  \\\n",
       "1435                  -1.0                        -1.0     0-2    1   \n",
       "\n",
       "      DISEASE GROUP 1  DISEASE GROUP 2  DISEASE GROUP 3  DISEASE GROUP 4  \\\n",
       "1435                0                0                0                0   \n",
       "\n",
       "      DISEASE GROUP 5  DISEASE GROUP 6  \n",
       "1435                0                0  \n",
       "\n",
       "[1 rows x 89 columns]"
      ]
     },
     "execution_count": 15,
     "metadata": {},
     "output_type": "execute_result"
    }
   ],
   "source": [
    "final_data[ final_data['ALBUMIN_MEDIAN'].isna() ]"
   ]
  },
  {
   "cell_type": "markdown",
   "id": "12d2fee5",
   "metadata": {},
   "source": [
    "#### drop the patient with Id = 287\n",
    "### Run the cell that displays NA values => now we don't have any NA values and we can start with data visualization now"
   ]
  },
  {
   "cell_type": "code",
   "execution_count": 16,
   "id": "7d1a6b99",
   "metadata": {},
   "outputs": [],
   "source": [
    "final_data = final_data[ final_data['PATIENT_VISIT_IDENTIFIER'] != 287 ]"
   ]
  },
  {
   "cell_type": "code",
   "execution_count": 17,
   "id": "945cb81e",
   "metadata": {},
   "outputs": [],
   "source": [
    "final_data.drop(columns = 'WINDOW',inplace=True)"
   ]
  },
  {
   "cell_type": "code",
   "execution_count": 18,
   "id": "4bf9e018",
   "metadata": {},
   "outputs": [
    {
     "name": "stdout",
     "output_type": "stream",
     "text": [
      "['ALBUMIN_DIFF']\n"
     ]
    }
   ],
   "source": [
    "col = final_data.columns[final_data.nunique() <= 1].tolist()\n",
    "print(col)\n",
    "final_data.drop(columns = col, inplace=True)"
   ]
  },
  {
   "cell_type": "markdown",
   "id": "c2999fb9",
   "metadata": {},
   "source": [
    "### get the datatypes of all the columns"
   ]
  },
  {
   "cell_type": "code",
   "execution_count": 19,
   "id": "23bb05e7",
   "metadata": {},
   "outputs": [
    {
     "data": {
      "text/plain": [
       "Unnamed: 0                            int64\n",
       "PATIENT_VISIT_IDENTIFIER              int64\n",
       "AGE_ABOVE65                           int64\n",
       "AGE_PERCENTIL                        object\n",
       "GENDER                                int64\n",
       "HTN                                 float64\n",
       "IMMUNOCOMPROMISED                   float64\n",
       "OTHER                               float64\n",
       "ALBUMIN_MEDIAN                      float64\n",
       "BE_ARTERIAL_MEDIAN                  float64\n",
       "BE_VENOUS_MEDIAN                    float64\n",
       "BIC_ARTERIAL_MEDIAN                 float64\n",
       "BIC_VENOUS_MEDIAN                   float64\n",
       "BILLIRUBIN_MEDIAN                   float64\n",
       "BLAST_MEDIAN                        float64\n",
       "CALCIUM_MEDIAN                      float64\n",
       "CREATININ_MEDIAN                    float64\n",
       "FFA_MEDIAN                          float64\n",
       "GGT_MEDIAN                          float64\n",
       "GLUCOSE_MEDIAN                      float64\n",
       "HEMATOCRITE_MEDIAN                  float64\n",
       "HEMOGLOBIN_MEDIAN                   float64\n",
       "INR_MEDIAN                          float64\n",
       "LACTATE_MEDIAN                      float64\n",
       "LEUKOCYTES_MEDIAN                   float64\n",
       "LINFOCITOS_MEDIAN                   float64\n",
       "NEUTROPHILES_MEDIAN                 float64\n",
       "P02_ARTERIAL_MEDIAN                 float64\n",
       "P02_VENOUS_MEDIAN                   float64\n",
       "PC02_ARTERIAL_MEDIAN                float64\n",
       "PC02_VENOUS_MEDIAN                  float64\n",
       "PCR_MEDIAN                          float64\n",
       "PH_ARTERIAL_MEDIAN                  float64\n",
       "PH_VENOUS_MEDIAN                    float64\n",
       "PLATELETS_MEDIAN                    float64\n",
       "POTASSIUM_MEDIAN                    float64\n",
       "SAT02_ARTERIAL_MEDIAN               float64\n",
       "SAT02_VENOUS_MEDIAN                 float64\n",
       "SODIUM_MEDIAN                       float64\n",
       "TGO_MEDIAN                          float64\n",
       "TGP_MEDIAN                          float64\n",
       "TTPA_MEDIAN                         float64\n",
       "UREA_MEDIAN                         float64\n",
       "DIMER_MEDIAN                        float64\n",
       "BLOODPRESSURE_DIASTOLIC_MEAN        float64\n",
       "BLOODPRESSURE_SISTOLIC_MEAN         float64\n",
       "HEART_RATE_MEAN                     float64\n",
       "RESPIRATORY_RATE_MEAN               float64\n",
       "TEMPERATURE_MEAN                    float64\n",
       "OXYGEN_SATURATION_MEAN              float64\n",
       "BLOODPRESSURE_DIASTOLIC_MEDIAN      float64\n",
       "BLOODPRESSURE_SISTOLIC_MEDIAN       float64\n",
       "HEART_RATE_MEDIAN                   float64\n",
       "RESPIRATORY_RATE_MEDIAN             float64\n",
       "TEMPERATURE_MEDIAN                  float64\n",
       "OXYGEN_SATURATION_MEDIAN            float64\n",
       "BLOODPRESSURE_DIASTOLIC_MIN         float64\n",
       "BLOODPRESSURE_SISTOLIC_MIN          float64\n",
       "HEART_RATE_MIN                      float64\n",
       "RESPIRATORY_RATE_MIN                float64\n",
       "TEMPERATURE_MIN                     float64\n",
       "OXYGEN_SATURATION_MIN               float64\n",
       "BLOODPRESSURE_DIASTOLIC_MAX         float64\n",
       "BLOODPRESSURE_SISTOLIC_MAX          float64\n",
       "HEART_RATE_MAX                      float64\n",
       "RESPIRATORY_RATE_MAX                float64\n",
       "TEMPERATURE_MAX                     float64\n",
       "OXYGEN_SATURATION_MAX               float64\n",
       "BLOODPRESSURE_DIASTOLIC_DIFF        float64\n",
       "BLOODPRESSURE_SISTOLIC_DIFF         float64\n",
       "HEART_RATE_DIFF                     float64\n",
       "RESPIRATORY_RATE_DIFF               float64\n",
       "TEMPERATURE_DIFF                    float64\n",
       "OXYGEN_SATURATION_DIFF              float64\n",
       "BLOODPRESSURE_DIASTOLIC_DIFF_REL    float64\n",
       "BLOODPRESSURE_SISTOLIC_DIFF_REL     float64\n",
       "HEART_RATE_DIFF_REL                 float64\n",
       "RESPIRATORY_RATE_DIFF_REL           float64\n",
       "TEMPERATURE_DIFF_REL                float64\n",
       "OXYGEN_SATURATION_DIFF_REL          float64\n",
       "ICU                                   int64\n",
       "DISEASE GROUP 1                       int64\n",
       "DISEASE GROUP 2                       int64\n",
       "DISEASE GROUP 3                       int64\n",
       "DISEASE GROUP 4                       int64\n",
       "DISEASE GROUP 5                       int64\n",
       "DISEASE GROUP 6                       int64\n",
       "dtype: object"
      ]
     },
     "execution_count": 19,
     "metadata": {},
     "output_type": "execute_result"
    }
   ],
   "source": [
    "pd.set_option('display.max_rows', len(final_data.dtypes))\n",
    "final_data.dtypes"
   ]
  },
  {
   "cell_type": "markdown",
   "id": "2ccf8699",
   "metadata": {},
   "source": [
    "### AGE_ABOVE65\n",
    "### People with age above 65 have a higher chance of needing an ICU"
   ]
  },
  {
   "cell_type": "code",
   "execution_count": 20,
   "id": "5a7905df",
   "metadata": {},
   "outputs": [
    {
     "data": {
      "image/png": "[encoded data removed]",
      "text/plain": [
       "<Figure size 432x288 with 1 Axes>"
      ]
     },
     "metadata": {
      "needs_background": "light"
     },
     "output_type": "display_data"
    }
   ],
   "source": [
    "ax = sns.countplot(x=\"AGE_ABOVE65\", hue=\"ICU\", data=final_data)"
   ]
  },
  {
   "cell_type": "markdown",
   "id": "6b2e883b",
   "metadata": {},
   "source": [
    "## GENDER\n",
    "#### Gender 0 is at a slightly higher risk if considered standalone\n",
    "#### Although there may be other factors influencing the high icu count for it"
   ]
  },
  {
   "cell_type": "code",
   "execution_count": 21,
   "id": "84a5db5c",
   "metadata": {},
   "outputs": [
    {
     "data": {
      "image/png": "[encoded data removed]",
      "text/plain": [
       "<Figure size 432x288 with 1 Axes>"
      ]
     },
     "metadata": {
      "needs_background": "light"
     },
     "output_type": "display_data"
    }
   ],
   "source": [
    "ax = sns.countplot(x=\"GENDER\", hue=\"ICU\", data=final_data)"
   ]
  },
  {
   "cell_type": "markdown",
   "id": "93fe79f5",
   "metadata": {},
   "source": [
    "### create a temporary dataframe"
   ]
  },
  {
   "cell_type": "code",
   "execution_count": 22,
   "id": "7299819f",
   "metadata": {},
   "outputs": [
    {
     "data": {
      "text/html": [
       "<div>\n",
       "<style scoped>\n",
       "    .dataframe tbody tr th:only-of-type {\n",
       "        vertical-align: middle;\n",
       "    }\n",
       "\n",
       "    .dataframe tbody tr th {\n",
       "        vertical-align: top;\n",
       "    }\n",
       "\n",
       "    .dataframe thead th {\n",
       "        text-align: right;\n",
       "    }\n",
       "</style>\n",
       "<table border=\"1\" class=\"dataframe\">\n",
       "  <thead>\n",
       "    <tr style=\"text-align: right;\">\n",
       "      <th></th>\n",
       "      <th>icu_count</th>\n",
       "      <th>gender_count</th>\n",
       "      <th>above65_count</th>\n",
       "    </tr>\n",
       "  </thead>\n",
       "  <tbody>\n",
       "    <tr>\n",
       "      <th>0</th>\n",
       "      <td>189</td>\n",
       "      <td>107</td>\n",
       "      <td>61</td>\n",
       "    </tr>\n",
       "    <tr>\n",
       "      <th>1</th>\n",
       "      <td>194</td>\n",
       "      <td>134</td>\n",
       "      <td>119</td>\n",
       "    </tr>\n",
       "  </tbody>\n",
       "</table>\n",
       "</div>"
      ],
      "text/plain": [
       "   icu_count  gender_count  above65_count\n",
       "0        189           107             61\n",
       "1        194           134            119"
      ]
     },
     "execution_count": 22,
     "metadata": {},
     "output_type": "execute_result"
    }
   ],
   "source": [
    "icu_count = [final_data[ final_data['ICU']==0 ].shape[0],  final_data[ final_data['ICU']==1 ].shape[0] ]\n",
    "\n",
    "gender_count = [ final_data[ (final_data['ICU']==0) & (final_data['GENDER']==0)].shape[0],\n",
    "                final_data[ (final_data['ICU']==1) & (final_data['GENDER']==0)].shape[0] ]\n",
    "\n",
    "above65_count = [final_data[ (final_data['ICU']==0) & (final_data['AGE_ABOVE65']==1) ].shape[0],\n",
    "                 final_data[ (final_data['ICU']==1) & (final_data['AGE_ABOVE65']==1) ].shape[0] ]\n",
    "\n",
    "plot_df = pd.DataFrame(list(zip(icu_count, gender_count, above65_count)), columns =['icu_count', 'gender_count','above65_count'])\n",
    "\n",
    "plot_df"
   ]
  },
  {
   "cell_type": "markdown",
   "id": "41e7140e",
   "metadata": {},
   "source": [
    "#### 189 is the count of patients NOT admitted in the ICU\n",
    "#### 194 is the count of patients admitted in the ICU"
   ]
  },
  {
   "cell_type": "code",
   "execution_count": 23,
   "id": "822cd73f",
   "metadata": {},
   "outputs": [
    {
     "data": {
      "text/plain": [
       "<matplotlib.legend.Legend at 0x1ae8cbc4908>"
      ]
     },
     "execution_count": 23,
     "metadata": {},
     "output_type": "execute_result"
    },
    {
     "data": {
      "image/png": "[encoded data removed]",
      "text/plain": [
       "<Figure size 576x720 with 1 Axes>"
      ]
     },
     "metadata": {
      "needs_background": "light"
     },
     "output_type": "display_data"
    }
   ],
   "source": [
    "sns.set_color_codes(\"pastel\")\n",
    "fig = plt.subplots(figsize=(8,10))\n",
    "\n",
    "ax = sns.barplot(x=\"icu_count\", y=\"icu_count\", data=plot_df, label=\"total\", orient='h', color=\"lightgray\")\n",
    "\n",
    "sns.barplot(x=\"gender_count\", y=\"icu_count\", data=plot_df, label=\"gender\", orient='h', color=\"b\")\n",
    "\n",
    "sns.barplot(x=\"above65_count\", y=\"icu_count\", data=plot_df, label=\"above 65\" , orient='h', color=\"r\")\n",
    "\n",
    "ax.set(ylabel=\"ICU COUNT\",xlabel=\"Total in ICU or not\")\n",
    "plt.legend()\n"
   ]
  },
  {
   "cell_type": "code",
   "execution_count": 24,
   "id": "79618e46",
   "metadata": {},
   "outputs": [
    {
     "data": {
      "image/png": "[encoded data removed]",
      "text/plain": [
       "<Figure size 1080x720 with 6 Axes>"
      ]
     },
     "metadata": {
      "needs_background": "light"
     },
     "output_type": "display_data"
    }
   ],
   "source": [
    "disease_grp = ['DISEASE GROUP 1','DISEASE GROUP 2','DISEASE GROUP 3',\n",
    "               'DISEASE GROUP 4', 'DISEASE GROUP 5', 'DISEASE GROUP 6']\n",
    "\n",
    "fig, axes = plt.subplots(ncols=2,nrows=3,figsize=(15,10))\n",
    "\n",
    "col = 0\n",
    "\n",
    "for i in range(len(disease_grp)):\n",
    "    sns.countplot(x=disease_grp[i], hue=\"ICU\", data=final_data, ax = axes[int((i)/2)][col])\n",
    "    col = (col+1) % 2"
   ]
  },
  {
   "cell_type": "markdown",
   "id": "105f502c",
   "metadata": {},
   "source": [
    "#### For hypertension - people with hypertension have a slightly higher chance of needing the ICU\n",
    "#### However, it cannot be claimed with certainity as there is high imbalance"
   ]
  },
  {
   "cell_type": "code",
   "execution_count": 25,
   "id": "e81b591a",
   "metadata": {},
   "outputs": [
    {
     "data": {
      "text/plain": [
       "<AxesSubplot:xlabel='HTN', ylabel='count'>"
      ]
     },
     "execution_count": 25,
     "metadata": {},
     "output_type": "execute_result"
    },
    {
     "data": {
      "image/png": "[encoded data removed]",
      "text/plain": [
       "<Figure size 432x288 with 1 Axes>"
      ]
     },
     "metadata": {
      "needs_background": "light"
     },
     "output_type": "display_data"
    }
   ],
   "source": [
    "sns.countplot(x=\"HTN\", hue=\"ICU\", data=final_data)\n"
   ]
  },
  {
   "cell_type": "markdown",
   "id": "79fd4259",
   "metadata": {},
   "source": [
    "#### Immunocompromised or non-immunocompromised does not make a significant difference, the distribution\n",
    "#### looks similar for both, we cannot make any claims as the people with some immunocompromised conditions\n",
    "#### are fewer than ones with such condition."
   ]
  },
  {
   "cell_type": "code",
   "execution_count": 26,
   "id": "e603e5ff",
   "metadata": {},
   "outputs": [
    {
     "data": {
      "text/plain": [
       "<AxesSubplot:xlabel='IMMUNOCOMPROMISED', ylabel='count'>"
      ]
     },
     "execution_count": 26,
     "metadata": {},
     "output_type": "execute_result"
    },
    {
     "data": {
      "image/png": "[encoded data removed]",
      "text/plain": [
       "<Figure size 432x288 with 1 Axes>"
      ]
     },
     "metadata": {
      "needs_background": "light"
     },
     "output_type": "display_data"
    }
   ],
   "source": [
    "sns.countplot(x=\"IMMUNOCOMPROMISED\", hue=\"ICU\", data=final_data)\n"
   ]
  },
  {
   "cell_type": "code",
   "execution_count": 27,
   "id": "26c95a1b",
   "metadata": {},
   "outputs": [
    {
     "data": {
      "text/plain": [
       "<AxesSubplot:xlabel='OTHER', ylabel='count'>"
      ]
     },
     "execution_count": 27,
     "metadata": {},
     "output_type": "execute_result"
    },
    {
     "data": {
      "image/png": "[encoded data removed]",
      "text/plain": [
       "<Figure size 432x288 with 1 Axes>"
      ]
     },
     "metadata": {
      "needs_background": "light"
     },
     "output_type": "display_data"
    }
   ],
   "source": [
    "sns.countplot(x=\"OTHER\", hue=\"ICU\", data=final_data)"
   ]
  },
  {
   "cell_type": "code",
   "execution_count": 28,
   "id": "edefa743",
   "metadata": {},
   "outputs": [],
   "source": [
    "vital_signs = final_data.columns[13:]\n",
    "vital_signs_df = final_data[vital_signs]"
   ]
  },
  {
   "cell_type": "code",
   "execution_count": 29,
   "id": "6ff42e00",
   "metadata": {},
   "outputs": [
    {
     "data": {
      "image/png": "[encoded data removed]",
      "text/plain": [
       "<Figure size 1656x1656 with 2 Axes>"
      ]
     },
     "metadata": {
      "needs_background": "light"
     },
     "output_type": "display_data"
    }
   ],
   "source": [
    "f,ax = plt.subplots(figsize=(23,23))\n",
    "sns.heatmap(vital_signs_df.drop(columns=['ICU']).corr())\n",
    "plt.show()"
   ]
  },
  {
   "cell_type": "code",
   "execution_count": 30,
   "id": "baabf102",
   "metadata": {},
   "outputs": [],
   "source": [
    "rows_list = []\n",
    "for f in vital_signs:\n",
    "    v1 = vital_signs_df[ vital_signs_df['ICU']==1 ][f].var()\n",
    "    v0 = vital_signs_df[ vital_signs_df['ICU']==0 ][f].var()\n",
    "    dict1 = {\n",
    "        'feature' : f,\n",
    "        'icu' : v1,\n",
    "        'non-icu' : v0\n",
    "    }\n",
    "    rows_list.append(dict1)\n",
    "\n",
    "var_vital_signs = pd.DataFrame(rows_list)"
   ]
  },
  {
   "cell_type": "code",
   "execution_count": 31,
   "id": "dbb2fe9d",
   "metadata": {},
   "outputs": [
    {
     "data": {
      "text/html": [
       "<div>\n",
       "<style scoped>\n",
       "    .dataframe tbody tr th:only-of-type {\n",
       "        vertical-align: middle;\n",
       "    }\n",
       "\n",
       "    .dataframe tbody tr th {\n",
       "        vertical-align: top;\n",
       "    }\n",
       "\n",
       "    .dataframe thead th {\n",
       "        text-align: right;\n",
       "    }\n",
       "</style>\n",
       "<table border=\"1\" class=\"dataframe\">\n",
       "  <thead>\n",
       "    <tr style=\"text-align: right;\">\n",
       "      <th></th>\n",
       "      <th>feature</th>\n",
       "      <th>icu</th>\n",
       "      <th>non-icu</th>\n",
       "    </tr>\n",
       "  </thead>\n",
       "  <tbody>\n",
       "    <tr>\n",
       "      <th>0</th>\n",
       "      <td>BILLIRUBIN_MEDIAN</td>\n",
       "      <td>0.006228</td>\n",
       "      <td>0.000533</td>\n",
       "    </tr>\n",
       "    <tr>\n",
       "      <th>1</th>\n",
       "      <td>BLAST_MEDIAN</td>\n",
       "      <td>0.020326</td>\n",
       "      <td>0.000000</td>\n",
       "    </tr>\n",
       "    <tr>\n",
       "      <th>2</th>\n",
       "      <td>CALCIUM_MEDIAN</td>\n",
       "      <td>0.013929</td>\n",
       "      <td>0.003506</td>\n",
       "    </tr>\n",
       "    <tr>\n",
       "      <th>3</th>\n",
       "      <td>CREATININ_MEDIAN</td>\n",
       "      <td>0.031953</td>\n",
       "      <td>0.000916</td>\n",
       "    </tr>\n",
       "    <tr>\n",
       "      <th>4</th>\n",
       "      <td>FFA_MEDIAN</td>\n",
       "      <td>0.030258</td>\n",
       "      <td>0.015622</td>\n",
       "    </tr>\n",
       "    <tr>\n",
       "      <th>5</th>\n",
       "      <td>GGT_MEDIAN</td>\n",
       "      <td>0.025451</td>\n",
       "      <td>0.008309</td>\n",
       "    </tr>\n",
       "    <tr>\n",
       "      <th>6</th>\n",
       "      <td>GLUCOSE_MEDIAN</td>\n",
       "      <td>0.015702</td>\n",
       "      <td>0.004372</td>\n",
       "    </tr>\n",
       "    <tr>\n",
       "      <th>7</th>\n",
       "      <td>HEMATOCRITE_MEDIAN</td>\n",
       "      <td>0.049031</td>\n",
       "      <td>0.038356</td>\n",
       "    </tr>\n",
       "    <tr>\n",
       "      <th>8</th>\n",
       "      <td>HEMOGLOBIN_MEDIAN</td>\n",
       "      <td>0.055083</td>\n",
       "      <td>0.041708</td>\n",
       "    </tr>\n",
       "    <tr>\n",
       "      <th>9</th>\n",
       "      <td>INR_MEDIAN</td>\n",
       "      <td>0.003633</td>\n",
       "      <td>0.001345</td>\n",
       "    </tr>\n",
       "    <tr>\n",
       "      <th>10</th>\n",
       "      <td>LACTATE_MEDIAN</td>\n",
       "      <td>0.616348</td>\n",
       "      <td>0.370298</td>\n",
       "    </tr>\n",
       "    <tr>\n",
       "      <th>11</th>\n",
       "      <td>LEUKOCYTES_MEDIAN</td>\n",
       "      <td>0.019347</td>\n",
       "      <td>0.008972</td>\n",
       "    </tr>\n",
       "    <tr>\n",
       "      <th>12</th>\n",
       "      <td>LINFOCITOS_MEDIAN</td>\n",
       "      <td>0.019755</td>\n",
       "      <td>0.016840</td>\n",
       "    </tr>\n",
       "    <tr>\n",
       "      <th>13</th>\n",
       "      <td>NEUTROPHILES_MEDIAN</td>\n",
       "      <td>0.019372</td>\n",
       "      <td>0.007587</td>\n",
       "    </tr>\n",
       "    <tr>\n",
       "      <th>14</th>\n",
       "      <td>P02_ARTERIAL_MEDIAN</td>\n",
       "      <td>0.018100</td>\n",
       "      <td>0.000318</td>\n",
       "    </tr>\n",
       "    <tr>\n",
       "      <th>15</th>\n",
       "      <td>P02_VENOUS_MEDIAN</td>\n",
       "      <td>0.019585</td>\n",
       "      <td>0.013899</td>\n",
       "    </tr>\n",
       "    <tr>\n",
       "      <th>16</th>\n",
       "      <td>PC02_ARTERIAL_MEDIAN</td>\n",
       "      <td>0.004711</td>\n",
       "      <td>0.000017</td>\n",
       "    </tr>\n",
       "    <tr>\n",
       "      <th>17</th>\n",
       "      <td>PC02_VENOUS_MEDIAN</td>\n",
       "      <td>0.009786</td>\n",
       "      <td>0.001042</td>\n",
       "    </tr>\n",
       "    <tr>\n",
       "      <th>18</th>\n",
       "      <td>PCR_MEDIAN</td>\n",
       "      <td>0.061343</td>\n",
       "      <td>0.025174</td>\n",
       "    </tr>\n",
       "    <tr>\n",
       "      <th>19</th>\n",
       "      <td>PH_ARTERIAL_MEDIAN</td>\n",
       "      <td>0.009873</td>\n",
       "      <td>0.000165</td>\n",
       "    </tr>\n",
       "    <tr>\n",
       "      <th>20</th>\n",
       "      <td>PH_VENOUS_MEDIAN</td>\n",
       "      <td>0.016130</td>\n",
       "      <td>0.003566</td>\n",
       "    </tr>\n",
       "    <tr>\n",
       "      <th>21</th>\n",
       "      <td>PLATELETS_MEDIAN</td>\n",
       "      <td>0.050847</td>\n",
       "      <td>0.033298</td>\n",
       "    </tr>\n",
       "    <tr>\n",
       "      <th>22</th>\n",
       "      <td>POTASSIUM_MEDIAN</td>\n",
       "      <td>0.037116</td>\n",
       "      <td>0.014155</td>\n",
       "    </tr>\n",
       "    <tr>\n",
       "      <th>23</th>\n",
       "      <td>SAT02_ARTERIAL_MEDIAN</td>\n",
       "      <td>0.023668</td>\n",
       "      <td>0.000057</td>\n",
       "    </tr>\n",
       "    <tr>\n",
       "      <th>24</th>\n",
       "      <td>SAT02_VENOUS_MEDIAN</td>\n",
       "      <td>0.108222</td>\n",
       "      <td>0.047207</td>\n",
       "    </tr>\n",
       "    <tr>\n",
       "      <th>25</th>\n",
       "      <td>SODIUM_MEDIAN</td>\n",
       "      <td>0.042414</td>\n",
       "      <td>0.022878</td>\n",
       "    </tr>\n",
       "    <tr>\n",
       "      <th>26</th>\n",
       "      <td>TGO_MEDIAN</td>\n",
       "      <td>0.000489</td>\n",
       "      <td>0.000051</td>\n",
       "    </tr>\n",
       "    <tr>\n",
       "      <th>27</th>\n",
       "      <td>TGP_MEDIAN</td>\n",
       "      <td>0.000333</td>\n",
       "      <td>0.000139</td>\n",
       "    </tr>\n",
       "    <tr>\n",
       "      <th>28</th>\n",
       "      <td>TTPA_MEDIAN</td>\n",
       "      <td>0.006465</td>\n",
       "      <td>0.001281</td>\n",
       "    </tr>\n",
       "    <tr>\n",
       "      <th>29</th>\n",
       "      <td>UREA_MEDIAN</td>\n",
       "      <td>0.023690</td>\n",
       "      <td>0.003537</td>\n",
       "    </tr>\n",
       "    <tr>\n",
       "      <th>30</th>\n",
       "      <td>DIMER_MEDIAN</td>\n",
       "      <td>0.024158</td>\n",
       "      <td>0.008614</td>\n",
       "    </tr>\n",
       "    <tr>\n",
       "      <th>31</th>\n",
       "      <td>BLOODPRESSURE_DIASTOLIC_MEAN</td>\n",
       "      <td>0.057792</td>\n",
       "      <td>0.037290</td>\n",
       "    </tr>\n",
       "    <tr>\n",
       "      <th>32</th>\n",
       "      <td>BLOODPRESSURE_SISTOLIC_MEAN</td>\n",
       "      <td>0.089419</td>\n",
       "      <td>0.044456</td>\n",
       "    </tr>\n",
       "    <tr>\n",
       "      <th>33</th>\n",
       "      <td>HEART_RATE_MEAN</td>\n",
       "      <td>0.076581</td>\n",
       "      <td>0.050768</td>\n",
       "    </tr>\n",
       "    <tr>\n",
       "      <th>34</th>\n",
       "      <td>RESPIRATORY_RATE_MEAN</td>\n",
       "      <td>0.048169</td>\n",
       "      <td>0.021251</td>\n",
       "    </tr>\n",
       "    <tr>\n",
       "      <th>35</th>\n",
       "      <td>TEMPERATURE_MEAN</td>\n",
       "      <td>0.062109</td>\n",
       "      <td>0.044296</td>\n",
       "    </tr>\n",
       "    <tr>\n",
       "      <th>36</th>\n",
       "      <td>OXYGEN_SATURATION_MEAN</td>\n",
       "      <td>0.036275</td>\n",
       "      <td>0.007702</td>\n",
       "    </tr>\n",
       "    <tr>\n",
       "      <th>37</th>\n",
       "      <td>BLOODPRESSURE_DIASTOLIC_MEDIAN</td>\n",
       "      <td>0.059315</td>\n",
       "      <td>0.038676</td>\n",
       "    </tr>\n",
       "    <tr>\n",
       "      <th>38</th>\n",
       "      <td>BLOODPRESSURE_SISTOLIC_MEDIAN</td>\n",
       "      <td>0.090096</td>\n",
       "      <td>0.045112</td>\n",
       "    </tr>\n",
       "    <tr>\n",
       "      <th>39</th>\n",
       "      <td>HEART_RATE_MEDIAN</td>\n",
       "      <td>0.077907</td>\n",
       "      <td>0.057660</td>\n",
       "    </tr>\n",
       "    <tr>\n",
       "      <th>40</th>\n",
       "      <td>RESPIRATORY_RATE_MEDIAN</td>\n",
       "      <td>0.051585</td>\n",
       "      <td>0.021681</td>\n",
       "    </tr>\n",
       "    <tr>\n",
       "      <th>41</th>\n",
       "      <td>TEMPERATURE_MEDIAN</td>\n",
       "      <td>0.063731</td>\n",
       "      <td>0.045228</td>\n",
       "    </tr>\n",
       "    <tr>\n",
       "      <th>42</th>\n",
       "      <td>OXYGEN_SATURATION_MEDIAN</td>\n",
       "      <td>0.036958</td>\n",
       "      <td>0.007502</td>\n",
       "    </tr>\n",
       "    <tr>\n",
       "      <th>43</th>\n",
       "      <td>BLOODPRESSURE_DIASTOLIC_MIN</td>\n",
       "      <td>0.050354</td>\n",
       "      <td>0.031468</td>\n",
       "    </tr>\n",
       "    <tr>\n",
       "      <th>44</th>\n",
       "      <td>BLOODPRESSURE_SISTOLIC_MIN</td>\n",
       "      <td>0.067309</td>\n",
       "      <td>0.031609</td>\n",
       "    </tr>\n",
       "    <tr>\n",
       "      <th>45</th>\n",
       "      <td>HEART_RATE_MIN</td>\n",
       "      <td>0.071974</td>\n",
       "      <td>0.047048</td>\n",
       "    </tr>\n",
       "    <tr>\n",
       "      <th>46</th>\n",
       "      <td>RESPIRATORY_RATE_MIN</td>\n",
       "      <td>0.065980</td>\n",
       "      <td>0.025825</td>\n",
       "    </tr>\n",
       "    <tr>\n",
       "      <th>47</th>\n",
       "      <td>TEMPERATURE_MIN</td>\n",
       "      <td>0.044157</td>\n",
       "      <td>0.019495</td>\n",
       "    </tr>\n",
       "    <tr>\n",
       "      <th>48</th>\n",
       "      <td>OXYGEN_SATURATION_MIN</td>\n",
       "      <td>0.037073</td>\n",
       "      <td>0.012027</td>\n",
       "    </tr>\n",
       "    <tr>\n",
       "      <th>49</th>\n",
       "      <td>BLOODPRESSURE_DIASTOLIC_MAX</td>\n",
       "      <td>0.045090</td>\n",
       "      <td>0.024633</td>\n",
       "    </tr>\n",
       "    <tr>\n",
       "      <th>50</th>\n",
       "      <td>BLOODPRESSURE_SISTOLIC_MAX</td>\n",
       "      <td>0.059501</td>\n",
       "      <td>0.026252</td>\n",
       "    </tr>\n",
       "    <tr>\n",
       "      <th>51</th>\n",
       "      <td>HEART_RATE_MAX</td>\n",
       "      <td>0.068907</td>\n",
       "      <td>0.034076</td>\n",
       "    </tr>\n",
       "    <tr>\n",
       "      <th>52</th>\n",
       "      <td>RESPIRATORY_RATE_MAX</td>\n",
       "      <td>0.079662</td>\n",
       "      <td>0.023831</td>\n",
       "    </tr>\n",
       "    <tr>\n",
       "      <th>53</th>\n",
       "      <td>TEMPERATURE_MAX</td>\n",
       "      <td>0.046301</td>\n",
       "      <td>0.039222</td>\n",
       "    </tr>\n",
       "    <tr>\n",
       "      <th>54</th>\n",
       "      <td>OXYGEN_SATURATION_MAX</td>\n",
       "      <td>0.038214</td>\n",
       "      <td>0.007187</td>\n",
       "    </tr>\n",
       "    <tr>\n",
       "      <th>55</th>\n",
       "      <td>BLOODPRESSURE_DIASTOLIC_DIFF</td>\n",
       "      <td>0.048231</td>\n",
       "      <td>0.020254</td>\n",
       "    </tr>\n",
       "    <tr>\n",
       "      <th>56</th>\n",
       "      <td>BLOODPRESSURE_SISTOLIC_DIFF</td>\n",
       "      <td>0.059662</td>\n",
       "      <td>0.015499</td>\n",
       "    </tr>\n",
       "    <tr>\n",
       "      <th>57</th>\n",
       "      <td>HEART_RATE_DIFF</td>\n",
       "      <td>0.051596</td>\n",
       "      <td>0.019973</td>\n",
       "    </tr>\n",
       "    <tr>\n",
       "      <th>58</th>\n",
       "      <td>RESPIRATORY_RATE_DIFF</td>\n",
       "      <td>0.087804</td>\n",
       "      <td>0.010872</td>\n",
       "    </tr>\n",
       "    <tr>\n",
       "      <th>59</th>\n",
       "      <td>TEMPERATURE_DIFF</td>\n",
       "      <td>0.046586</td>\n",
       "      <td>0.016601</td>\n",
       "    </tr>\n",
       "    <tr>\n",
       "      <th>60</th>\n",
       "      <td>OXYGEN_SATURATION_DIFF</td>\n",
       "      <td>0.036376</td>\n",
       "      <td>0.012389</td>\n",
       "    </tr>\n",
       "    <tr>\n",
       "      <th>61</th>\n",
       "      <td>BLOODPRESSURE_DIASTOLIC_DIFF_REL</td>\n",
       "      <td>0.039945</td>\n",
       "      <td>0.013379</td>\n",
       "    </tr>\n",
       "    <tr>\n",
       "      <th>62</th>\n",
       "      <td>BLOODPRESSURE_SISTOLIC_DIFF_REL</td>\n",
       "      <td>0.062506</td>\n",
       "      <td>0.017351</td>\n",
       "    </tr>\n",
       "    <tr>\n",
       "      <th>63</th>\n",
       "      <td>HEART_RATE_DIFF_REL</td>\n",
       "      <td>0.024816</td>\n",
       "      <td>0.009155</td>\n",
       "    </tr>\n",
       "    <tr>\n",
       "      <th>64</th>\n",
       "      <td>RESPIRATORY_RATE_DIFF_REL</td>\n",
       "      <td>0.069709</td>\n",
       "      <td>0.011429</td>\n",
       "    </tr>\n",
       "    <tr>\n",
       "      <th>65</th>\n",
       "      <td>TEMPERATURE_DIFF_REL</td>\n",
       "      <td>0.046197</td>\n",
       "      <td>0.016287</td>\n",
       "    </tr>\n",
       "    <tr>\n",
       "      <th>66</th>\n",
       "      <td>OXYGEN_SATURATION_DIFF_REL</td>\n",
       "      <td>0.036633</td>\n",
       "      <td>0.012297</td>\n",
       "    </tr>\n",
       "    <tr>\n",
       "      <th>67</th>\n",
       "      <td>ICU</td>\n",
       "      <td>0.000000</td>\n",
       "      <td>0.000000</td>\n",
       "    </tr>\n",
       "    <tr>\n",
       "      <th>68</th>\n",
       "      <td>DISEASE GROUP 1</td>\n",
       "      <td>0.105042</td>\n",
       "      <td>0.077902</td>\n",
       "    </tr>\n",
       "    <tr>\n",
       "      <th>69</th>\n",
       "      <td>DISEASE GROUP 2</td>\n",
       "      <td>0.015304</td>\n",
       "      <td>0.005291</td>\n",
       "    </tr>\n",
       "    <tr>\n",
       "      <th>70</th>\n",
       "      <td>DISEASE GROUP 3</td>\n",
       "      <td>0.076064</td>\n",
       "      <td>0.030902</td>\n",
       "    </tr>\n",
       "    <tr>\n",
       "      <th>71</th>\n",
       "      <td>DISEASE GROUP 4</td>\n",
       "      <td>0.005155</td>\n",
       "      <td>0.000000</td>\n",
       "    </tr>\n",
       "    <tr>\n",
       "      <th>72</th>\n",
       "      <td>DISEASE GROUP 5</td>\n",
       "      <td>0.058330</td>\n",
       "      <td>0.050377</td>\n",
       "    </tr>\n",
       "    <tr>\n",
       "      <th>73</th>\n",
       "      <td>DISEASE GROUP 6</td>\n",
       "      <td>0.005155</td>\n",
       "      <td>0.015704</td>\n",
       "    </tr>\n",
       "  </tbody>\n",
       "</table>\n",
       "</div>"
      ],
      "text/plain": [
       "                             feature       icu   non-icu\n",
       "0                  BILLIRUBIN_MEDIAN  0.006228  0.000533\n",
       "1                       BLAST_MEDIAN  0.020326  0.000000\n",
       "2                     CALCIUM_MEDIAN  0.013929  0.003506\n",
       "3                   CREATININ_MEDIAN  0.031953  0.000916\n",
       "4                         FFA_MEDIAN  0.030258  0.015622\n",
       "5                         GGT_MEDIAN  0.025451  0.008309\n",
       "6                     GLUCOSE_MEDIAN  0.015702  0.004372\n",
       "7                 HEMATOCRITE_MEDIAN  0.049031  0.038356\n",
       "8                  HEMOGLOBIN_MEDIAN  0.055083  0.041708\n",
       "9                         INR_MEDIAN  0.003633  0.001345\n",
       "10                    LACTATE_MEDIAN  0.616348  0.370298\n",
       "11                 LEUKOCYTES_MEDIAN  0.019347  0.008972\n",
       "12                 LINFOCITOS_MEDIAN  0.019755  0.016840\n",
       "13               NEUTROPHILES_MEDIAN  0.019372  0.007587\n",
       "14               P02_ARTERIAL_MEDIAN  0.018100  0.000318\n",
       "15                 P02_VENOUS_MEDIAN  0.019585  0.013899\n",
       "16              PC02_ARTERIAL_MEDIAN  0.004711  0.000017\n",
       "17                PC02_VENOUS_MEDIAN  0.009786  0.001042\n",
       "18                        PCR_MEDIAN  0.061343  0.025174\n",
       "19                PH_ARTERIAL_MEDIAN  0.009873  0.000165\n",
       "20                  PH_VENOUS_MEDIAN  0.016130  0.003566\n",
       "21                  PLATELETS_MEDIAN  0.050847  0.033298\n",
       "22                  POTASSIUM_MEDIAN  0.037116  0.014155\n",
       "23             SAT02_ARTERIAL_MEDIAN  0.023668  0.000057\n",
       "24               SAT02_VENOUS_MEDIAN  0.108222  0.047207\n",
       "25                     SODIUM_MEDIAN  0.042414  0.022878\n",
       "26                        TGO_MEDIAN  0.000489  0.000051\n",
       "27                        TGP_MEDIAN  0.000333  0.000139\n",
       "28                       TTPA_MEDIAN  0.006465  0.001281\n",
       "29                       UREA_MEDIAN  0.023690  0.003537\n",
       "30                      DIMER_MEDIAN  0.024158  0.008614\n",
       "31      BLOODPRESSURE_DIASTOLIC_MEAN  0.057792  0.037290\n",
       "32       BLOODPRESSURE_SISTOLIC_MEAN  0.089419  0.044456\n",
       "33                   HEART_RATE_MEAN  0.076581  0.050768\n",
       "34             RESPIRATORY_RATE_MEAN  0.048169  0.021251\n",
       "35                  TEMPERATURE_MEAN  0.062109  0.044296\n",
       "36            OXYGEN_SATURATION_MEAN  0.036275  0.007702\n",
       "37    BLOODPRESSURE_DIASTOLIC_MEDIAN  0.059315  0.038676\n",
       "38     BLOODPRESSURE_SISTOLIC_MEDIAN  0.090096  0.045112\n",
       "39                 HEART_RATE_MEDIAN  0.077907  0.057660\n",
       "40           RESPIRATORY_RATE_MEDIAN  0.051585  0.021681\n",
       "41                TEMPERATURE_MEDIAN  0.063731  0.045228\n",
       "42          OXYGEN_SATURATION_MEDIAN  0.036958  0.007502\n",
       "43       BLOODPRESSURE_DIASTOLIC_MIN  0.050354  0.031468\n",
       "44        BLOODPRESSURE_SISTOLIC_MIN  0.067309  0.031609\n",
       "45                    HEART_RATE_MIN  0.071974  0.047048\n",
       "46              RESPIRATORY_RATE_MIN  0.065980  0.025825\n",
       "47                   TEMPERATURE_MIN  0.044157  0.019495\n",
       "48             OXYGEN_SATURATION_MIN  0.037073  0.012027\n",
       "49       BLOODPRESSURE_DIASTOLIC_MAX  0.045090  0.024633\n",
       "50        BLOODPRESSURE_SISTOLIC_MAX  0.059501  0.026252\n",
       "51                    HEART_RATE_MAX  0.068907  0.034076\n",
       "52              RESPIRATORY_RATE_MAX  0.079662  0.023831\n",
       "53                   TEMPERATURE_MAX  0.046301  0.039222\n",
       "54             OXYGEN_SATURATION_MAX  0.038214  0.007187\n",
       "55      BLOODPRESSURE_DIASTOLIC_DIFF  0.048231  0.020254\n",
       "56       BLOODPRESSURE_SISTOLIC_DIFF  0.059662  0.015499\n",
       "57                   HEART_RATE_DIFF  0.051596  0.019973\n",
       "58             RESPIRATORY_RATE_DIFF  0.087804  0.010872\n",
       "59                  TEMPERATURE_DIFF  0.046586  0.016601\n",
       "60            OXYGEN_SATURATION_DIFF  0.036376  0.012389\n",
       "61  BLOODPRESSURE_DIASTOLIC_DIFF_REL  0.039945  0.013379\n",
       "62   BLOODPRESSURE_SISTOLIC_DIFF_REL  0.062506  0.017351\n",
       "63               HEART_RATE_DIFF_REL  0.024816  0.009155\n",
       "64         RESPIRATORY_RATE_DIFF_REL  0.069709  0.011429\n",
       "65              TEMPERATURE_DIFF_REL  0.046197  0.016287\n",
       "66        OXYGEN_SATURATION_DIFF_REL  0.036633  0.012297\n",
       "67                               ICU  0.000000  0.000000\n",
       "68                   DISEASE GROUP 1  0.105042  0.077902\n",
       "69                   DISEASE GROUP 2  0.015304  0.005291\n",
       "70                   DISEASE GROUP 3  0.076064  0.030902\n",
       "71                   DISEASE GROUP 4  0.005155  0.000000\n",
       "72                   DISEASE GROUP 5  0.058330  0.050377\n",
       "73                   DISEASE GROUP 6  0.005155  0.015704"
      ]
     },
     "execution_count": 31,
     "metadata": {},
     "output_type": "execute_result"
    }
   ],
   "source": [
    "var_vital_signs"
   ]
  },
  {
   "cell_type": "markdown",
   "id": "f0002744",
   "metadata": {},
   "source": [
    "#### We can clearly see that the variance of vital signs for patients admitted in the icu varies drastically compared to that of the ones\n",
    "#### not admitted to the ICU"
   ]
  },
  {
   "cell_type": "code",
   "execution_count": 32,
   "id": "a21e8fdc",
   "metadata": {},
   "outputs": [
    {
     "data": {
      "image/png": "[encoded data removed]",
      "text/plain": [
       "<Figure size 1440x576 with 1 Axes>"
      ]
     },
     "metadata": {
      "needs_background": "light"
     },
     "output_type": "display_data"
    }
   ],
   "source": [
    "fig = plt.subplots(figsize=(20,8))\n",
    "ax = sns.lineplot(data=var_vital_signs, x=\"feature\", y=\"icu\", color='r')\n",
    "sns.lineplot(data=var_vital_signs, x=\"feature\", y=\"non-icu\", color='g')\n",
    "plt.xticks(rotation=90)\n",
    "plt.show()"
   ]
  },
  {
   "cell_type": "markdown",
   "id": "55df1e67",
   "metadata": {},
   "source": [
    "#### From the kde plot we can see the spread (variance) of the red plot (ICU) is more than the green one."
   ]
  },
  {
   "cell_type": "code",
   "execution_count": 33,
   "id": "f9770761",
   "metadata": {},
   "outputs": [
    {
     "data": {
      "text/plain": [
       "<AxesSubplot:xlabel='GGT_MEDIAN', ylabel='Density'>"
      ]
     },
     "execution_count": 33,
     "metadata": {},
     "output_type": "execute_result"
    },
    {
     "data": {
      "image/png": "[encoded data removed]",
      "text/plain": [
       "<Figure size 432x288 with 1 Axes>"
      ]
     },
     "metadata": {
      "needs_background": "light"
     },
     "output_type": "display_data"
    }
   ],
   "source": [
    "sns.kdeplot(final_data[ final_data['ICU']==1 ]['GGT_MEDIAN'],color = \"red\")\n",
    "sns.kdeplot(final_data[ final_data['ICU']==0 ]['GGT_MEDIAN'],color = \"green\")"
   ]
  },
  {
   "cell_type": "markdown",
   "id": "01f9e4f7",
   "metadata": {},
   "source": [
    "#### Check age percentile balance"
   ]
  },
  {
   "cell_type": "code",
   "execution_count": 34,
   "id": "9384a6fa",
   "metadata": {},
   "outputs": [
    {
     "data": {
      "text/plain": [
       "<AxesSubplot:xlabel='AGE_PERCENTIL', ylabel='count'>"
      ]
     },
     "execution_count": 34,
     "metadata": {},
     "output_type": "execute_result"
    },
    {
     "data": {
      "image/png": "[encoded data removed]",
      "text/plain": [
       "<Figure size 432x288 with 1 Axes>"
      ]
     },
     "metadata": {
      "needs_background": "light"
     },
     "output_type": "display_data"
    }
   ],
   "source": [
    "sns.countplot(x=\"AGE_PERCENTIL\", hue=\"ICU\", data=final_data)"
   ]
  },
  {
   "cell_type": "markdown",
   "id": "f7fa23ee",
   "metadata": {},
   "source": [
    "#### Convert string percentile values to integers inorder to use this data for fitting a ML algorithm\n"
   ]
  },
  {
   "cell_type": "code",
   "execution_count": 35,
   "id": "915728ec",
   "metadata": {},
   "outputs": [],
   "source": [
    "def get_percentile(percentile_string):\n",
    "    if (percentile_string =='Above 90th'):\n",
    "        return 95\n",
    "    else:\n",
    "        return int(percentile_string[:-2])\n",
    "\n",
    "final_data['AGE_PERCENTIL'] = final_data['AGE_PERCENTIL'].apply(lambda x : get_percentile(x))"
   ]
  },
  {
   "cell_type": "markdown",
   "id": "1869410a",
   "metadata": {},
   "source": [
    "#### We have a balanced dataset, because the number of entries/rows/patients admitted to ICU and the number of entries not admitte to ICU\n",
    "#### is almost equal.\n",
    "#### Thus no imbalance exists for the target variable."
   ]
  },
  {
   "cell_type": "code",
   "execution_count": 36,
   "id": "7db52a3b",
   "metadata": {},
   "outputs": [
    {
     "data": {
      "text/plain": [
       "<AxesSubplot:xlabel='ICU', ylabel='count'>"
      ]
     },
     "execution_count": 36,
     "metadata": {},
     "output_type": "execute_result"
    },
    {
     "data": {
      "image/png": "[encoded data removed]",
      "text/plain": [
       "<Figure size 432x288 with 1 Axes>"
      ]
     },
     "metadata": {
      "needs_background": "light"
     },
     "output_type": "display_data"
    }
   ],
   "source": [
    "sns.countplot(x=\"ICU\", data=final_data)"
   ]
  },
  {
   "cell_type": "markdown",
   "id": "782ef719",
   "metadata": {},
   "source": [
    "### Add 'index=False' to avoid the additional col 'Unnamed:0' which is added as an index while exporting the dataframe to csv"
   ]
  },
  {
   "cell_type": "code",
   "execution_count": 37,
   "id": "d6f48075",
   "metadata": {},
   "outputs": [],
   "source": [
    "final_data.to_csv('Covid_ICU_preprocessed.csv', index=False)"
   ]
  },
  {
   "cell_type": "markdown",
   "id": "ef05f934",
   "metadata": {},
   "source": [
    "## Normalizing and spliting data"
   ]
  },
  {
   "cell_type": "code",
   "execution_count": 38,
   "id": "0469a565",
   "metadata": {},
   "outputs": [],
   "source": [
    "X = final_data.drop(columns=['ICU'])\n",
    "Y = final_data['ICU']\n",
    "X = (X - X.mean())/X.std() \n",
    "x_train, x_test, y_train, y_test = train_test_split(X, Y, test_size=0.2, random_state=22)"
   ]
  },
  {
   "cell_type": "code",
   "execution_count": 39,
   "id": "af23a011",
   "metadata": {},
   "outputs": [
    {
     "name": "stdout",
     "output_type": "stream",
     "text": [
      "(306, 86)\n",
      "(306,)\n"
     ]
    }
   ],
   "source": [
    "print(x_train.shape)\n",
    "#print(1)\n",
    "print(y_train.shape)"
   ]
  },
  {
   "cell_type": "markdown",
   "id": "c2e02146",
   "metadata": {},
   "source": [
    "### evaluating function"
   ]
  },
  {
   "cell_type": "code",
   "execution_count": 40,
   "id": "27396d00",
   "metadata": {},
   "outputs": [],
   "source": [
    "def evaluating_func(y, z):\n",
    "    acc = accuracy_score(y, z)\n",
    "    f1 = f1_score(y, z)\n",
    "    prec = precision_score(y, z)\n",
    "    rec = recall_score(y, z)\n",
    "    f1_n = f1_score(1 - y, 1 - z)\n",
    "    return {\"accuracy\":acc, \"f1\":f1, \"precision\":prec, \"recall\":rec, \"f1_negative\":f1_n}"
   ]
  },
  {
   "cell_type": "markdown",
   "id": "844b5b30",
   "metadata": {},
   "source": [
    "# MODELS:"
   ]
  },
  {
   "cell_type": "markdown",
   "id": "a5456ef1",
   "metadata": {},
   "source": [
    "### 1- Multy layer perceptron model"
   ]
  },
  {
   "cell_type": "code",
   "execution_count": 68,
   "id": "115bddad",
   "metadata": {},
   "outputs": [
    {
     "name": "stderr",
     "output_type": "stream",
     "text": [
      "D:\\software\\installs\\lib\\site-packages\\sklearn\\neural_network\\_multilayer_perceptron.py:571: ConvergenceWarning: Stochastic Optimizer: Maximum iterations (100) reached and the optimization hasn't converged yet.\n",
      "  % self.max_iter, ConvergenceWarning)\n"
     ]
    },
    {
     "data": {
      "text/plain": [
       "GridSearchCV(cv=10, error_score=nan,\n",
       "             estimator=MLPClassifier(activation='relu', alpha=0.0001,\n",
       "                                     batch_size='auto', beta_1=0.9,\n",
       "                                     beta_2=0.999, early_stopping=False,\n",
       "                                     epsilon=1e-08, hidden_layer_sizes=(100,),\n",
       "                                     learning_rate='constant',\n",
       "                                     learning_rate_init=0.001, max_fun=15000,\n",
       "                                     max_iter=100, momentum=0.9,\n",
       "                                     n_iter_no_change=10,\n",
       "                                     nesterovs_momentum=True, power_t=0.5,\n",
       "                                     random_state=None, shuffle=True,\n",
       "                                     solver='adam', tol=0.0001,\n",
       "                                     validation_fraction=0.1, verbose=False,\n",
       "                                     warm_start=False),\n",
       "             iid='deprecated', n_jobs=-1,\n",
       "             param_grid={'activation': ['tanh', 'relu'],\n",
       "                         'alpha': [0.0001, 0.05],\n",
       "                         'learning_rate': ['constant', 'adaptive'],\n",
       "                         'solver': ['adam']},\n",
       "             pre_dispatch='2*n_jobs', refit=True, return_train_score=False,\n",
       "             scoring=None, verbose=0)"
      ]
     },
     "execution_count": 68,
     "metadata": {},
     "output_type": "execute_result"
    }
   ],
   "source": [
    "mlp_gs = MLPClassifier(max_iter=100)\n",
    "parameter_space = {\n",
    "    'activation': ['tanh', 'relu'],\n",
    "    'solver': ['adam'],\n",
    "    'alpha': [0.0001, 0.05],\n",
    "    'learning_rate': ['constant','adaptive'],\n",
    "}\n",
    "clf_mlp = GridSearchCV(mlp_gs, parameter_space, n_jobs=-1, cv= 10)\n",
    "clf_mlp.fit(x_train, y_train) # X is train samples and y is the corresponding labels"
   ]
  },
  {
   "cell_type": "code",
   "execution_count": 69,
   "id": "c8e93662",
   "metadata": {},
   "outputs": [
    {
     "name": "stdout",
     "output_type": "stream",
     "text": [
      "{'accuracy': 0.8311688311688312, 'f1': 0.8, 'precision': 0.7428571428571429, 'recall': 0.8666666666666667, 'f1_negative': 0.853932584269663}\n"
     ]
    }
   ],
   "source": [
    "mlp_scores = evaluating_func(y_test, clf_mlp.predict(x_test).astype(int))\n",
    "print(mlp_scores)"
   ]
  },
  {
   "cell_type": "markdown",
   "id": "172a0c3d",
   "metadata": {},
   "source": [
    "### 2- Random forest model"
   ]
  },
  {
   "cell_type": "code",
   "execution_count": 43,
   "id": "04d29dee",
   "metadata": {},
   "outputs": [
    {
     "data": {
      "text/plain": [
       "GridSearchCV(cv=None, error_score=nan,\n",
       "             estimator=RandomForestClassifier(bootstrap=True, ccp_alpha=0.0,\n",
       "                                              class_weight=None,\n",
       "                                              criterion='gini', max_depth=None,\n",
       "                                              max_features='auto',\n",
       "                                              max_leaf_nodes=None,\n",
       "                                              max_samples=None,\n",
       "                                              min_impurity_decrease=0.0,\n",
       "                                              min_impurity_split=None,\n",
       "                                              min_samples_leaf=1,\n",
       "                                              min_samples_split=2,\n",
       "                                              min_weight_fraction_leaf=0.0,\n",
       "                                              n_estimators=100, n_jobs=None,\n",
       "                                              oob_score=False,\n",
       "                                              random_state=None, verbose=0,\n",
       "                                              warm_start=False),\n",
       "             iid='deprecated', n_jobs=None,\n",
       "             param_grid={'criterion': ['gini', 'entropy']},\n",
       "             pre_dispatch='2*n_jobs', refit=True, return_train_score=False,\n",
       "             scoring=None, verbose=0)"
      ]
     },
     "execution_count": 43,
     "metadata": {},
     "output_type": "execute_result"
    }
   ],
   "source": [
    "parameter_space = dict(\n",
    "    criterion = ['gini', 'entropy']\n",
    ")\n",
    "clf_RandF = GridSearchCV(RandomForestClassifier(), parameter_space)\n",
    "clf_RandF.fit(x_train, y_train)"
   ]
  },
  {
   "cell_type": "code",
   "execution_count": 44,
   "id": "388687c5",
   "metadata": {},
   "outputs": [
    {
     "name": "stdout",
     "output_type": "stream",
     "text": [
      "{'accuracy': 0.8441558441558441, 'f1': 0.8125, 'precision': 0.7647058823529411, 'recall': 0.8666666666666667, 'f1_negative': 0.8666666666666666}\n"
     ]
    }
   ],
   "source": [
    "randF_scores = evaluating_func(y_test, clf_RandF.predict(x_test).astype(int))\n",
    "print(randF_scores)"
   ]
  },
  {
   "cell_type": "markdown",
   "id": "f3cc41d0",
   "metadata": {},
   "source": [
    "## 3- Ada boost"
   ]
  },
  {
   "cell_type": "code",
   "execution_count": 50,
   "id": "233f481c",
   "metadata": {},
   "outputs": [
    {
     "data": {
      "text/plain": [
       "GridSearchCV(cv=None, error_score=nan,\n",
       "             estimator=AdaBoostClassifier(algorithm='SAMME.R',\n",
       "                                          base_estimator=None,\n",
       "                                          learning_rate=1.0, n_estimators=50,\n",
       "                                          random_state=None),\n",
       "             iid='deprecated', n_jobs=None,\n",
       "             param_grid={'learning_rate': [0.001, 0.01, 0.1, 0.5, 1, 4],\n",
       "                         'n_estimators': [10, 25, 50, 100, 200]},\n",
       "             pre_dispatch='2*n_jobs', refit=True, return_train_score=False,\n",
       "             scoring=None, verbose=0)"
      ]
     },
     "execution_count": 50,
     "metadata": {},
     "output_type": "execute_result"
    }
   ],
   "source": [
    "parameter_space = dict(\n",
    "    learning_rate = [0.001, 0.01, 0.1, 0.5, 1, 4],\n",
    "    n_estimators = [10, 25, 50, 100, 200]\n",
    ")\n",
    "clf_ada = GridSearchCV(AdaBoostClassifier(), parameter_space)\n",
    "clf_ada.fit(x_train, y_train)"
   ]
  },
  {
   "cell_type": "code",
   "execution_count": 51,
   "id": "823b7b6d",
   "metadata": {},
   "outputs": [
    {
     "name": "stdout",
     "output_type": "stream",
     "text": [
      "{'accuracy': 0.8701298701298701, 'f1': 0.8387096774193549, 'precision': 0.8125, 'recall': 0.8666666666666667, 'f1_negative': 0.891304347826087}\n"
     ]
    }
   ],
   "source": [
    "adaB_scores = evaluating_func(y_test, clf_ada.predict(x_test).astype(int))\n",
    "print(adaB_scores)"
   ]
  },
  {
   "cell_type": "markdown",
   "id": "debca8a3",
   "metadata": {},
   "source": [
    "### 4- Linear regression"
   ]
  },
  {
   "cell_type": "markdown",
   "id": "c04bbb24",
   "metadata": {},
   "source": [
    "#### we did Linear regression in \"R\" and made a \"R-Markdown\" file which is available in directories, and in here we just use the scores which are derive from Linear Regression model"
   ]
  },
  {
   "cell_type": "code",
   "execution_count": 58,
   "id": "948eca36",
   "metadata": {},
   "outputs": [
    {
     "name": "stdout",
     "output_type": "stream",
     "text": [
      "{'accuracy': 0.8876404, 'f1': 0.8863636, 'precision': 0.8125, 'recall': 0.975, 'f1_negative': 0.9375}\n"
     ]
    }
   ],
   "source": [
    "linearReg_scores = {'accuracy':  0.8876404, 'f1':  0.8863636 , 'precision': 0.8125, 'recall': 0.975, 'f1_negative': 0.9375}\n",
    "print(linearReg_scores)"
   ]
  },
  {
   "cell_type": "markdown",
   "id": "a77ab75e",
   "metadata": {},
   "source": [
    "# Result on test data"
   ]
  },
  {
   "cell_type": "code",
   "execution_count": 72,
   "id": "9afc7321",
   "metadata": {},
   "outputs": [
    {
     "data": {
      "text/html": [
       "<div>\n",
       "<style scoped>\n",
       "    .dataframe tbody tr th:only-of-type {\n",
       "        vertical-align: middle;\n",
       "    }\n",
       "\n",
       "    .dataframe tbody tr th {\n",
       "        vertical-align: top;\n",
       "    }\n",
       "\n",
       "    .dataframe thead th {\n",
       "        text-align: right;\n",
       "    }\n",
       "</style>\n",
       "<table border=\"1\" class=\"dataframe\">\n",
       "  <thead>\n",
       "    <tr style=\"text-align: right;\">\n",
       "      <th></th>\n",
       "      <th>MLP</th>\n",
       "      <th>Random_for</th>\n",
       "      <th>ada_boost</th>\n",
       "      <th>linear_reg</th>\n",
       "    </tr>\n",
       "  </thead>\n",
       "  <tbody>\n",
       "    <tr>\n",
       "      <th>accuracy</th>\n",
       "      <td>0.831169</td>\n",
       "      <td>0.844156</td>\n",
       "      <td>0.870130</td>\n",
       "      <td>0.887640</td>\n",
       "    </tr>\n",
       "    <tr>\n",
       "      <th>f1</th>\n",
       "      <td>0.800000</td>\n",
       "      <td>0.812500</td>\n",
       "      <td>0.838710</td>\n",
       "      <td>0.886364</td>\n",
       "    </tr>\n",
       "    <tr>\n",
       "      <th>precision</th>\n",
       "      <td>0.742857</td>\n",
       "      <td>0.764706</td>\n",
       "      <td>0.812500</td>\n",
       "      <td>0.812500</td>\n",
       "    </tr>\n",
       "    <tr>\n",
       "      <th>recall</th>\n",
       "      <td>0.866667</td>\n",
       "      <td>0.866667</td>\n",
       "      <td>0.866667</td>\n",
       "      <td>0.975000</td>\n",
       "    </tr>\n",
       "    <tr>\n",
       "      <th>f1_negative</th>\n",
       "      <td>0.853933</td>\n",
       "      <td>0.866667</td>\n",
       "      <td>0.891304</td>\n",
       "      <td>0.937500</td>\n",
       "    </tr>\n",
       "  </tbody>\n",
       "</table>\n",
       "</div>"
      ],
      "text/plain": [
       "                  MLP  Random_for  ada_boost  linear_reg\n",
       "accuracy     0.831169    0.844156   0.870130    0.887640\n",
       "f1           0.800000    0.812500   0.838710    0.886364\n",
       "precision    0.742857    0.764706   0.812500    0.812500\n",
       "recall       0.866667    0.866667   0.866667    0.975000\n",
       "f1_negative  0.853933    0.866667   0.891304    0.937500"
      ]
     },
     "execution_count": 72,
     "metadata": {},
     "output_type": "execute_result"
    }
   ],
   "source": [
    "listOfScores = {\"MLP\": mlp_scores.values(), \"Random_for\":randF_scores.values(), \"ada_boost\": adaB_scores.values(), \"linear_reg\":linearReg_scores.values()}\n",
    "scores_table = pd.DataFrame(listOfScores, index=['accuracy', 'f1', 'precision', 'recall', 'f1_negative'])\n",
    "scores_table"
   ]
  }
 ],
 "metadata": {
  "kernelspec": {
   "display_name": "Python 3",
   "language": "python",
   "name": "python3"
  },
  "language_info": {
   "codemirror_mode": {
    "name": "ipython",
    "version": 3
   },
   "file_extension": ".py",
   "mimetype": "text/x-python",
   "name": "python",
   "nbconvert_exporter": "python",
   "pygments_lexer": "ipython3",
   "version": "3.7.10"
  }
 },
 "nbformat": 4,
 "nbformat_minor": 5
}
