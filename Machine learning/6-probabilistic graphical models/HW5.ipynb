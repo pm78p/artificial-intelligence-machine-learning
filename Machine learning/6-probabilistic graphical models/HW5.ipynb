{
  "nbformat": 4,
  "nbformat_minor": 0,
  "metadata": {
    "kernelspec": {
      "display_name": "Python 3",
      "language": "python",
      "name": "python3"
    },
    "language_info": {
      "codemirror_mode": {
        "name": "ipython",
        "version": 3
      },
      "file_extension": ".py",
      "mimetype": "text/x-python",
      "name": "python",
      "nbconvert_exporter": "python",
      "pygments_lexer": "ipython3",
      "version": "3.7.10"
    },
    "colab": {
      "name": "practical-problem.ipynb",
      "provenance": []
    }
  },
  "cells": [
    {
      "cell_type": "code",
      "metadata": {
        "id": "OHC_A1XHcW6A"
      },
      "source": [
        "import numpy as np\n",
        "import scipy.io as sio\n",
        "import matplotlib.pyplot as plt"
      ],
      "execution_count": null,
      "outputs": []
    },
    {
      "cell_type": "code",
      "metadata": {
        "id": "lFxrhKZ6cW6B"
      },
      "source": [
        "def loadLDPC(filename):\n",
        "    A = sio.loadmat(filename)\n",
        "    G = A['G']\n",
        "    H = A['H']\n",
        "    return G, H"
      ],
      "execution_count": null,
      "outputs": []
    },
    {
      "cell_type": "code",
      "metadata": {
        "id": "ZsAupfLucW6B"
      },
      "source": [
        "def apply_channel_noise(y, epsilon):\n",
        "    ## TODO, complement each bit with probability epsilon\n",
        "    return np.array([i if np.random.rand() > epsilon else not i for i in y])"
      ],
      "execution_count": null,
      "outputs": []
    },
    {
      "cell_type": "code",
      "metadata": {
        "id": "rzFTb9OmcW6C"
      },
      "source": [
        "def encode_message(x, G):\n",
        "    ## TODO, implement Gx % 2 :-))\n",
        "    new_message = np.dot(G,x)\n",
        "    return new_message % 2"
      ],
      "execution_count": null,
      "outputs": []
    },
    {
      "cell_type": "markdown",
      "metadata": {
        "id": "Oh4JPiSxcW6C"
      },
      "source": [
        "---"
      ]
    },
    {
      "cell_type": "code",
      "metadata": {
        "id": "J8uEvcq4cW6C"
      },
      "source": [
        "class FactorTypeOne():\n",
        "    def __init__(self, y_til, epsilon):\n",
        "        self.y_til = y_til\n",
        "        self.epsilon = epsilon\n",
        "    \n",
        "    def calculate_value(self, y):\n",
        "        return self.epsilon if y != self.y_til else 1 - self.epsilon"
      ],
      "execution_count": null,
      "outputs": []
    },
    {
      "cell_type": "code",
      "metadata": {
        "id": "IzvmsbpLcW6C"
      },
      "source": [
        "class FactorTypeTwo():\n",
        "    def __init__(self, scope):\n",
        "        # consider a factor: \\phi(1, 4, 6), so in this case scope = [1,4,6]\n",
        "        self.scope = np.array(scope)\n",
        "    \n",
        "    def calculate_value(self, scope_assignment):\n",
        "        # if sum(scope_assignment) is even, the value = 1, O.W 0\n",
        "        return 1 if sum(scope_assignment) % 2 == 0 else 0\n",
        "        "
      ],
      "execution_count": null,
      "outputs": []
    },
    {
      "cell_type": "code",
      "metadata": {
        "id": "GONQORVlcW6D"
      },
      "source": [
        "class FactorGraph():\n",
        "    \n",
        "    def __init__(self, H, epsilon, y_tilde):\n",
        "        self.factors_type1 = [] # list of FactorTypeOne\n",
        "        self.factors_type2 = [] # list of FactorTypeTwo\n",
        "        self.var_to_factor = {} # map --> (var, [factors related to this var])\n",
        "        self.factor_to_var = {} # map --> (factor, [vars related to this factor])\n",
        "        self.messagesVarToFactor = {}\n",
        "        self.messagesFactorToVar = {}\n",
        "        \n",
        "        for i,b in enumerate(y_tilde):\n",
        "            self.factors_type1.append(FactorTypeOne(y_tilde[i], epsilon))\n",
        "            self.var_to_factor[i] = [(1, len(self.factors_type1) - 1), ] # 1 means that the factor is from the first type\n",
        "            self.factor_to_var[(1, len(self.factors_type1) - 1)] = [i, ] # 1 means that the factor is from the first type\n",
        "        \n",
        "        for row in H:\n",
        "            scope = [var for var in range(len(y_tilde)) if row[var] == 1]\n",
        "            self.factors_type2.append(FactorTypeTwo(scope))\n",
        "            \n",
        "            for i in scope:\n",
        "                self.var_to_factor[i].append((2, len(self.factors_type2) - 1)) # 2 means that the factor is from the 2nd type\n",
        "                \n",
        "            self.factor_to_var[(2, len(self.factors_type2) - 1)] = scope       # 2 means that the factor is from the 2nd type\n",
        "        \n",
        "        \n",
        "    ############################################################################################################       \n",
        "        \n",
        "        \n",
        "    def assignment_probability(self, assignment):\n",
        "        prob = 1\n",
        "        \n",
        "        # For unary Factors:\n",
        "        for i, b in enumerate(assignment):\n",
        "            prob_this_bit = self.factors_type1[i].calculate_value(b)  #  TODO: implement the easy single line to compute the value of this factor\n",
        "            prob *= prob_this_bit\n",
        "        \n",
        "        # Second Type\n",
        "        for f2 in self.factors_type2:\n",
        "            scope = assignment[f2.scope] #  TODO: compute the scope assignment of this factor, due to the given assignment\n",
        "            prob *= f2.calculate_value(scope)\n",
        "            \n",
        "        return prob\n",
        "    \n",
        "    \n",
        "    ############################################################################################################       \n",
        "    \n",
        "    def normalize(self, arr):\n",
        "        return arr / sum(arr) if sum(arr) != 0 else arr\n",
        "    \n",
        "    \n",
        "    def LoopyBP(self, n_iteration):\n",
        "        \n",
        "        for ite in range(n_iteration):\n",
        "\n",
        "            prevMessagesVarToFactor = {}\n",
        "            prevMessagesFactorToVar = {}\n",
        "            \n",
        "            for i, fcts in enumerate(self.var_to_factor):\n",
        "                factors = self.var_to_factor[fcts]\n",
        "                for s in factors:\n",
        "                    if (i,s) not in self.messagesVarToFactor:\n",
        "                        self.messagesVarToFactor[(i, s)] = np.array([0.5, 0.5])\n",
        "                    prevMessagesVarToFactor[(i, s)] = self.messagesVarToFactor[(i, s)]\n",
        "                    \n",
        "            for s, vrbs in enumerate(self.factor_to_var):\n",
        "                variables = self.factor_to_var[vrbs]\n",
        "                for i in variables:\n",
        "                    if (vrbs, i) not in self.messagesFactorToVar:\n",
        "                        self.messagesFactorToVar[(vrbs, i)] = np.array([0.5, 0.5])\n",
        "                    prevMessagesFactorToVar[(vrbs, i)] = self.messagesFactorToVar[(vrbs, i)]\n",
        "            \n",
        "            # Update the message var -> factor\n",
        "            for i, fcts in enumerate(self.var_to_factor):\n",
        "                factors = self.var_to_factor[fcts]\n",
        "                for fin in factors:\n",
        "                    msg = np.array([1.0, 1.0])\n",
        "                    for fot in factors:\n",
        "                        if fin != fot:\n",
        "                            msg[0] *= prevMessagesFactorToVar[(fot, fcts)][0]\n",
        "                            msg[1] *= prevMessagesFactorToVar[(fot, fcts)][1]\n",
        "                        self.messagesVarToFactor[(fot, i)] = msg / msg.sum()\n",
        "                        \n",
        "            # Update the message factor -> var\n",
        "            for vr in self.factor_to_var:\n",
        "                variables = self.factor_to_var[vr]\n",
        "                if vr[0] == 1:\n",
        "                    fac2var = np.array([self.factors_type1[vr[1]].calculate_value(i) for i in range(2)])\n",
        "                    self.messagesFactorToVar[(vr, variables[0])] = fac2var/sum(fac2var)\n",
        "                else:\n",
        "                    for s, vrbs in enumerate(variables):\n",
        "                        marg = np.array([0.0, 0.0])\n",
        "                        for i in range(2 ** len(variables)):\n",
        "\n",
        "                            changer = [int(digit) for digit in bin(i)[2:]]\n",
        "                            for _ in range(len(variables) - len(changer)):\n",
        "                                changer.insert(0, 0)\n",
        "                            changer = np.array(changer)\n",
        "                            \n",
        "                            var_sum = self.factors_type2[vr[1]].calculate_value(changer)\n",
        "                            for j, k in enumerate(variables):\n",
        "                                if k != vrbs:\n",
        "                                    changer = [int(digit) for digit in bin(i)[2:]]\n",
        "                                    for _ in range(len(variables) - len(changer)):\n",
        "                                        changer.insert(0, 0)\n",
        "                                    changer = np.array(changer)\n",
        "                                    var_sum *= prevMessagesVarToFactor[(k, vr)][changer[j]]\n",
        "                            changer = [int(digit) for digit in bin(i)[2:]]\n",
        "                            for _ in range(len(variables) - len(changer)):\n",
        "                                changer.insert(0, 0)\n",
        "                            changer = np.array(changer)\n",
        "                            marg[changer[s]] += var_sum\n",
        "\n",
        "                        self.messagesFactorToVar[(vr, vrbs)] = marg/sum(marg)\n",
        "                \n",
        "            # Warning: Don't forget to normalize the message at each time.\n",
        "            \n",
        "            \n",
        "            if ite % 10 == 0 and ite > 0:\n",
        "                print(\"Finished Loopy Iteration %s\" % ite)\n",
        "    \n",
        "    \n",
        "    ############################################################################################################       \n",
        "    \n",
        "    \n",
        "    def estimate_marginal_probability(self, var):\n",
        "        '''\n",
        "        This method assumes LoopyBP has been run\n",
        "        '''\n",
        "        res = np.array([1.0, 1.0])\n",
        "        for factor in self.var_to_factor[var]:\n",
        "            for i in range(2):\n",
        "                res[i] *= np.array(self.messagesFactorToVar[(factor, var)])[i]\n",
        "        return res / sum(res)\n",
        "        \n",
        "        \n",
        "    ############################################################################################################       \n",
        "    \n",
        "    \n",
        "    def get_marginal_MAP(self):\n",
        "        output = np.zeros(256)\n",
        "        for i, var in enumerate(range(256)):\n",
        "            output[i] = np.argmax(self.estimate_marginal_probability(i))\n",
        "        return output\n",
        "    \n",
        "        \n",
        "    "
      ],
      "execution_count": null,
      "outputs": []
    },
    {
      "cell_type": "markdown",
      "metadata": {
        "id": "xj6vfrhxcW6E"
      },
      "source": [
        "---"
      ]
    },
    {
      "cell_type": "code",
      "metadata": {
        "id": "OZvc5uSIcW6F",
        "outputId": "9ff66778-d165-4459-fd9f-2a6ba933e328"
      },
      "source": [
        "y_tilde = np.array([[1, 1, 1, 1, 1, 1]]).reshape(6, 1)\n",
        "H = np.array([\n",
        "        [0, 1, 1, 0, 1, 0],\n",
        "        [1, 0, 1, 0, 1, 1],\n",
        "        [0, 1, 0, 1, 1, 0]])\n",
        "epsilon = 0.05\n",
        "\n",
        "Graph = FactorGraph(H, epsilon, y_tilde)\n",
        "\n",
        "ytest1 = np.array([0, 1, 1, 0, 1, 0])\n",
        "ytest2 = np.array([1, 0, 1, 1, 0, 1])\n",
        "ytest3 = np.array([1, 0, 1, 1, 1, 1])\n",
        "\n",
        "print(Graph.assignment_probability(ytest1))\n",
        "print(Graph.assignment_probability(ytest2))\n",
        "print(Graph.assignment_probability(ytest3))\n"
      ],
      "execution_count": null,
      "outputs": [
        {
          "name": "stdout",
          "output_type": "stream",
          "text": [
            "0.0\n",
            "0.0\n",
            "0.038689046874999994\n"
          ]
        }
      ]
    },
    {
      "cell_type": "markdown",
      "metadata": {
        "id": "mJcaokAccW6F"
      },
      "source": [
        "#### do not apply, they also have a greater number of zeros than the third relation H As we expected, the probability of the first two became zero because\n",
        "#### The third relation also has a maximum of 1, it differs from the noise message in a device, so it is logical"
      ]
    },
    {
      "cell_type": "markdown",
      "metadata": {
        "id": "ti24Jw2ecW6G"
      },
      "source": [
        "---"
      ]
    },
    {
      "cell_type": "code",
      "metadata": {
        "id": "fCeYaictcW6G",
        "outputId": "10493da1-6843-46b1-92bd-be7133c5ac90"
      },
      "source": [
        "G, H = loadLDPC('GH.mat')\n",
        "\n",
        "epsilon = 0.05\n",
        "N = G.shape[1]\n",
        "x = np.ones((N, 1), dtype='int32')\n",
        "y = encode_message(x, G)\n",
        "yTilde = apply_channel_noise(y, epsilon)\n",
        "\n",
        "G = FactorGraph(H, epsilon, yTilde)\n",
        "\n",
        "G.LoopyBP(50)\n",
        "\n",
        "best_estimation = G.get_marginal_MAP()\n",
        "print(best_estimation)"
      ],
      "execution_count": null,
      "outputs": [
        {
          "name": "stderr",
          "output_type": "stream",
          "text": [
            "D:\\software\\installs\\lib\\site-packages\\ipykernel_launcher.py:3: VisibleDeprecationWarning: Creating an ndarray from ragged nested sequences (which is a list-or-tuple of lists-or-tuples-or ndarrays with different lengths or shapes) is deprecated. If you meant to do this, you must specify 'dtype=object' when creating the ndarray\n",
            "  This is separate from the ipykernel package so we can avoid doing imports until\n"
          ]
        },
        {
          "name": "stdout",
          "output_type": "stream",
          "text": [
            "Finished Loopy Iteration 10\n",
            "Finished Loopy Iteration 20\n",
            "Finished Loopy Iteration 30\n",
            "Finished Loopy Iteration 40\n",
            "[1. 1. 1. 1. 1. 1. 1. 1. 1. 1. 1. 1. 1. 1. 1. 1. 1. 1. 1. 1. 1. 1. 1. 1.\n",
            " 1. 1. 1. 1. 1. 1. 1. 1. 1. 1. 0. 1. 1. 1. 1. 1. 1. 1. 1. 1. 1. 1. 1. 1.\n",
            " 1. 1. 1. 1. 1. 0. 1. 1. 1. 0. 1. 1. 1. 1. 1. 1. 1. 1. 1. 1. 1. 1. 1. 1.\n",
            " 1. 1. 1. 1. 1. 1. 1. 1. 1. 1. 1. 1. 1. 1. 1. 1. 1. 1. 1. 1. 1. 1. 1. 1.\n",
            " 1. 1. 1. 1. 1. 1. 1. 1. 1. 1. 1. 1. 1. 0. 1. 1. 1. 1. 1. 1. 1. 1. 1. 1.\n",
            " 1. 1. 1. 1. 1. 1. 1. 1. 0. 1. 0. 0. 1. 0. 1. 1. 1. 0. 0. 1. 0. 0. 1. 0.\n",
            " 1. 1. 1. 1. 1. 0. 1. 1. 1. 0. 1. 1. 1. 1. 1. 1. 1. 1. 1. 0. 1. 1. 1. 1.\n",
            " 0. 0. 1. 1. 1. 0. 1. 1. 1. 0. 1. 0. 0. 0. 0. 1. 0. 1. 0. 1. 1. 1. 0. 0.\n",
            " 0. 1. 0. 0. 1. 1. 0. 1. 1. 1. 0. 1. 1. 0. 0. 0. 0. 1. 1. 1. 1. 0. 1. 1.\n",
            " 0. 1. 1. 0. 1. 1. 0. 0. 0. 0. 0. 1. 0. 1. 1. 1. 0. 0. 1. 0. 0. 0. 0. 0.\n",
            " 0. 0. 1. 0. 0. 0. 1. 0. 1. 0. 1. 1. 1. 0. 0. 1.]\n"
          ]
        }
      ]
    },
    {
      "cell_type": "markdown",
      "metadata": {
        "id": "dZ0k_MiFcW6G"
      },
      "source": [
        "#### The incoming message was all the same and the outgoing message was all the same, so the incoming and outgoing messages were the same\n",
        "#### is also true H on the other hand the output message in relation"
      ]
    },
    {
      "cell_type": "code",
      "metadata": {
        "id": "zZlEVAMUcW6G"
      },
      "source": [
        ""
      ],
      "execution_count": null,
      "outputs": []
    }
  ]
}