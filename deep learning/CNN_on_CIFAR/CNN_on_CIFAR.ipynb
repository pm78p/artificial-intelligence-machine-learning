{
 "cells": [
  {
   "cell_type": "markdown",
   "metadata": {
    "id": "slXaK2c-wNlW"
   },
   "source": [
    " # CNN on CIFAR "
   ]
  },
  {
   "cell_type": "markdown",
   "metadata": {
    "id": "sBnutoDBwNlf"
   },
   "source": [
    "In this problem, we will train a CNN on CIFAR-10 database. Next, we will go through the network and visualize its layers to see what is happening there. Then, we use the trained model in a Transfer Learning approach to classifying the CIFAR-100 database."
   ]
  },
  {
   "cell_type": "markdown",
   "metadata": {
    "id": "FaG_lspJwNli"
   },
   "source": [
    "Let's start with loading data. First load the data by runing the code below:"
   ]
  },
  {
   "cell_type": "code",
   "execution_count": 2,
   "metadata": {
    "colab": {
     "base_uri": "https://localhost:8080/"
    },
    "id": "bxa9IaiF93WY",
    "outputId": "4af5cedd-de10-452b-88b9-1a315fc6af97"
   },
   "outputs": [
    {
     "name": "stdout",
     "output_type": "stream",
     "text": [
      "TensorFlow 1.x selected.\n"
     ]
    }
   ],
   "source": [
    "%tensorflow_version 1.x "
   ]
  },
  {
   "cell_type": "code",
   "execution_count": 3,
   "metadata": {
    "colab": {
     "base_uri": "https://localhost:8080/",
     "height": 73,
     "resources": {
      "http://localhost:8080/nbextensions/google.colab/files.js": {
       "data": "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",
       "headers": [
        [
         "content-type",
         "application/javascript"
        ]
       ],
       "ok": true,
       "status": 200,
       "status_text": ""
      }
     }
    },
    "id": "g8l3WQmGZJbB",
    "outputId": "44ee0558-d157-4b16-d474-3cf3f0428ad1"
   },
   "outputs": [
    {
     "data": {
      "text/html": [
       "\n",
       "     <input type=\"file\" id=\"files-ee8cbddb-5ed9-4fba-87de-8ab6e8cd9c0a\" name=\"files[]\" multiple disabled\n",
       "        style=\"border:none\" />\n",
       "     <output id=\"result-ee8cbddb-5ed9-4fba-87de-8ab6e8cd9c0a\">\n",
       "      Upload widget is only available when the cell has been executed in the\n",
       "      current browser session. Please rerun this cell to enable.\n",
       "      </output>\n",
       "      <script src=\"/nbextensions/google.colab/files.js\"></script> "
      ],
      "text/plain": [
       "<IPython.core.display.HTML object>"
      ]
     },
     "metadata": {
      "tags": []
     },
     "output_type": "display_data"
    },
    {
     "name": "stdout",
     "output_type": "stream",
     "text": [
      "Saving load_data.py to load_data.py\n"
     ]
    }
   ],
   "source": [
    "#this cell is order to use google colab and file directory of google drive\n",
    "\n",
    "from google.colab import files\n",
    "src = list(files.upload().values())[0]\n",
    "open('load_data.py','wb').write(src)\n",
    "import load_data"
   ]
  },
  {
   "cell_type": "code",
   "execution_count": 4,
   "metadata": {
    "colab": {
     "base_uri": "https://localhost:8080/"
    },
    "id": "5zXg3kcqhBl3",
    "outputId": "2872a88e-360a-4372-eec3-b7f455d4dbc6"
   },
   "outputs": [
    {
     "name": "stdout",
     "output_type": "stream",
     "text": [
      "1.15.2\n"
     ]
    }
   ],
   "source": [
    "import tensorflow as tf\n",
    "print(tf.__version__)"
   ]
  },
  {
   "cell_type": "code",
   "execution_count": 5,
   "metadata": {
    "colab": {
     "base_uri": "https://localhost:8080/"
    },
    "id": "J6R8u_ewaE9N",
    "outputId": "394c1f1e-de77-4546-a02b-b4ee85a8d629"
   },
   "outputs": [
    {
     "name": "stdout",
     "output_type": "stream",
     "text": [
      "Mounted at /content/drive\n"
     ]
    }
   ],
   "source": [
    "#this cell is order to use google colab and file directory of google drive\n",
    "\n",
    "from google.colab import drive\n",
    "drive.mount('/content/drive')\n"
   ]
  },
  {
   "cell_type": "code",
   "execution_count": 6,
   "metadata": {
    "id": "hqHqgh31wNln"
   },
   "outputs": [],
   "source": [
    "from load_data import load_cifar10 #this function provided in the attached file loads the data of CIFAR10 database\n",
    "\n",
    "def load_cifar10_data():\n",
    "    dataset_dir = 'drive/MyDrive/colabs/CNN on CIFAR/data/cifar-10-batches-py'\n",
    "    \n",
    "    X_train, y_train, X_test, y_test = load_cifar10(dataset_dir)\n",
    "    X_train, X_val = X_train[:45000], X_train[45000:]\n",
    "    y_train, y_val = y_train[:45000], y_train[45000:]\n",
    "    \n",
    "    return X_train, y_train, X_val, y_val, X_test, y_test"
   ]
  },
  {
   "cell_type": "code",
   "execution_count": 7,
   "metadata": {
    "colab": {
     "base_uri": "https://localhost:8080/",
     "height": 384
    },
    "id": "NdwC55CCwNl5",
    "outputId": "4af8dadf-69e6-49d7-fc13-902b889048b1"
   },
   "outputs": [
    {
     "name": "stderr",
     "output_type": "stream",
     "text": [
      "Clipping input data to the valid range for imshow with RGB data ([0..1] for floats or [0..255] for integers).\n"
     ]
    },
    {
     "name": "stdout",
     "output_type": "stream",
     "text": [
      "X_train shape: (45000, 32, 32, 3)\n",
      "y_train shape: (45000, 1)\n",
      "X_val shape: (5000, 32, 32, 3)\n",
      "y_val shape: (5000, 1)\n",
      "X_test shape: (10000, 32, 32, 3)\n",
      "y_test shape: (10000, 1)\n"
     ]
    },
    {
     "data": {
      "image/png": "[encoded data removed]",
      "text/plain": [
       "<Figure size 432x288 with 1 Axes>"
      ]
     },
     "metadata": {
      "needs_background": "light",
      "tags": []
     },
     "output_type": "display_data"
    }
   ],
   "source": [
    "X_train, y_train, X_val, y_val, X_test, y_test = load_cifar10_data()\n",
    "\n",
    "print('X_train shape:', X_train.shape)\n",
    "print('y_train shape:', y_train.shape)\n",
    "print('X_val shape:', X_val.shape)\n",
    "print('y_val shape:', y_val.shape)\n",
    "print('X_test shape:', X_test.shape)\n",
    "print('y_test shape:', y_test.shape)\n",
    "\n",
    "import matplotlib.pyplot as plt\n",
    "plt.imshow(X_train[100])#represnting a sample data from CIFAR-10\n",
    "plt.show()"
   ]
  },
  {
   "cell_type": "markdown",
   "metadata": {
    "id": "aEoqTL_HwNmK"
   },
   "source": [
    "By successfully runing the above code, we have loaded the data and also we can see a sample data from CIFAR-10."
   ]
  },
  {
   "cell_type": "markdown",
   "metadata": {
    "id": "rFVsKedowNmM"
   },
   "source": [
    "The below code will convert the labels to one-hot codes which will be later used for the classification."
   ]
  },
  {
   "cell_type": "code",
   "execution_count": 8,
   "metadata": {
    "id": "J0BonbT0wNmP"
   },
   "outputs": [],
   "source": [
    "import numpy as np\n",
    "\n",
    "from sklearn.preprocessing import OneHotEncoder # this function is used to prepare one-hot encoded labels\n",
    "encoder = OneHotEncoder(sparse=False)\n",
    "\n",
    "encoder.fit(y_train)#this line will fit 'encoder' to encode the labels\n",
    "\n",
    "y_train_onehot = encoder.transform(y_train)# encoding train labels (one-hot coding)\n",
    "y_val_onehot   = encoder.transform(y_val)  # encoding train labels (one-hot coding)\n",
    "y_test_onehot  = encoder.transform(y_test) # encoding test  labels (one-hot coding)"
   ]
  },
  {
   "cell_type": "markdown",
   "metadata": {
    "id": "lspoodjLwNma"
   },
   "source": [
    "The function below is for converting data to several batches which we will use in training."
   ]
  },
  {
   "cell_type": "code",
   "execution_count": 9,
   "metadata": {
    "id": "qnOXlQ7AwNmf"
   },
   "outputs": [],
   "source": [
    "def make_batches(x, y, batch_size):\n",
    "    n = len(y)\n",
    "    steps = n // batch_size\n",
    "    if n % batch_size != 0:\n",
    "        steps += 1\n",
    "    x_batches = np.array_split(x, steps)\n",
    "    y_batches = np.array_split(y, steps)\n",
    "    return x_batches, y_batches"
   ]
  },
  {
   "cell_type": "markdown",
   "metadata": {
    "id": "vT6nm9pSwNmx"
   },
   "source": [
    "## Part1: Trainig a CNN "
   ]
  },
  {
   "cell_type": "markdown",
   "metadata": {
    "id": "qj_vXQlIwNmz"
   },
   "source": [
    "In this part, we are going to train a Convolutional Neural Network (CNN) with the below structure:"
   ]
  },
  {
   "cell_type": "markdown",
   "metadata": {
    "id": "0cQKYzjowNm0"
   },
   "source": [
    "1. 16 * conv(5,5), activation function =ReLU\n",
    "2. 16 * conv(5,5), activation function =ReLU\n",
    "3. Max-pooling(3,3), stride=(2,2)\n",
    "4. 32 * conv(5,5), activation function =ReLU\n",
    "5. 32 * conv(5,5), activation function =ReLU\n",
    "6. Max-pooling(3,3), stride=(2,2)\n",
    "7. 64 * conv(5,5), activation function =ReLU\n",
    "8. FC(128), activation function =ReLU\n",
    "9. FC(128), activation function =ReLU\n",
    "10. FC(10), activation function =softmax"
   ]
  },
  {
   "cell_type": "markdown",
   "metadata": {
    "id": "Vclxh0QOwNm2"
   },
   "source": [
    "Let's go to implement the model in the below box."
   ]
  },
  {
   "cell_type": "code",
   "execution_count": 23,
   "metadata": {
    "colab": {
     "base_uri": "https://localhost:8080/"
    },
    "id": "ieNwpEPowNm4",
    "outputId": "75880455-22bc-41dc-be93-d4c3387ad855"
   },
   "outputs": [
    {
     "name": "stdout",
     "output_type": "stream",
     "text": [
      "(?, 4096)\n"
     ]
    }
   ],
   "source": [
    "\n",
    "tf.reset_default_graph()\n",
    "\n",
    "x = tf.placeholder(tf.float32, [None, 32, 32, 3]) # placeholder for input data\n",
    "y = tf.placeholder(tf.float32, [None, 10])# placeholder for labels (one-hot encoded)\n",
    "\n",
    "###################################################################\n",
    "#########       code for implementing the network       ###########\n",
    "###################################################################\n",
    "\n",
    "# Define the needed Variables here:\n",
    "# e.g., W_conv1 has the shape of shape=[5, 5, 3, 16] and B_conv1 has the shape of shape=[16]\n",
    "\n",
    "\n",
    "W_conv1 = tf.Variable(tf.random.normal([5, 5, 3, 16], mean= 0, stddev= 0.1), name=\"wc1\")\n",
    "W_conv2 = tf.Variable(tf.random.normal([5, 5, 16, 16], mean= 0, stddev= 0.1), name=\"wc2\")\n",
    "W_conv3 = tf.Variable(tf.random.normal([5, 5, 16, 32], mean= 0, stddev= 0.1), name=\"wc3\")\n",
    "W_conv4 = tf.Variable(tf.random.normal([5, 5, 32, 32], mean= 0, stddev= 0.1), name=\"wc4\")\n",
    "W_conv5 = tf.Variable(tf.random.normal([5, 5, 32, 64], mean= 0, stddev= 0.1), name=\"wc5\")\n",
    "\n",
    "B_conv1 = tf.Variable(tf.zeros((16)))\n",
    "B_conv2 = tf.Variable(tf.zeros((16)))\n",
    "B_conv3 = tf.Variable(tf.zeros((32)))\n",
    "B_conv4 = tf.Variable(tf.zeros((32)))\n",
    "B_conv5 = tf.Variable(tf.zeros((64)))\n",
    "\n",
    "FC1_size = 128\n",
    "FC2_size = 128\n",
    "FC3_size = 10\n",
    "\n",
    "###\n",
    "# Define the layers here:\n",
    "conv1 = tf.nn.conv2d(x, W_conv1, strides=[1, 1, 1, 1], padding='SAME') + B_conv1\n",
    "conv1_relu = tf.nn.relu(conv1)\n",
    "conv2 = tf.nn.conv2d(conv1_relu, W_conv2, strides=[1, 1, 1, 1], padding='SAME') + B_conv2\n",
    "conv2_relu = tf.nn.relu(conv2)\n",
    "pooling1 = tf.nn.max_pool(conv2_relu, ksize=[1, 3, 3, 1], strides=[1, 2, 2, 1], padding='SAME')\n",
    "\n",
    "# continue the same for other layers:\n",
    "conv3 = tf.nn.conv2d(pooling1, W_conv3, strides=[1, 1, 1, 1], padding='SAME') + B_conv3\n",
    "conv3_relu = tf.nn.relu(conv3)\n",
    "conv4 = tf.nn.conv2d(conv3_relu, W_conv4, strides=[1, 1, 1, 1], padding='SAME') + B_conv4\n",
    "conv4_relu = tf.nn.relu(conv4)\n",
    "pooling2 = tf.nn.max_pool(conv4_relu, ksize=[1, 3, 3, 1], strides=[1, 2, 2, 1], padding='SAME')\n",
    "\n",
    "#\n",
    "conv5 = tf.nn.conv2d(pooling2, W_conv5, strides=[1, 1, 1, 1], padding='SAME') + B_conv5\n",
    "conv5_relu = tf.nn.relu(conv5)\n",
    "###\n",
    "\n",
    "flaten = tf.layers.flatten(conv5_relu)\n",
    "print(flaten.shape)\n",
    "\n",
    "###FC1\n",
    "w1 = tf.get_variable(name=\"w1\", shape=(flaten.shape[1], FC1_size), dtype=tf.float32,\n",
    "                    initializer=tf.initializers.random_normal(mean=0.,stddev=0.01))\n",
    "b1 = tf.get_variable(name=\"b1\", shape=(FC1_size,), dtype=tf.float32,\n",
    "                    initializer=tf.initializers.zeros())\n",
    "out1 = tf.nn.relu(tf.nn.xw_plus_b(flaten,w1,b1), name=\"FC1_output\")\n",
    "\n",
    "###FC2\n",
    "w2 = tf.get_variable(name=\"w2\", shape=(FC1_size, FC2_size), dtype=tf.float32,\n",
    "                    initializer=tf.initializers.random_normal(mean=0.,stddev=0.01))\n",
    "b2 = tf.get_variable(name=\"b2\", shape=(FC2_size,), dtype=tf.float32,\n",
    "                    initializer=tf.initializers.zeros())\n",
    "out2 = tf.nn.relu(tf.nn.xw_plus_b(out1,w2,b2), name=\"FC2_output\")\n",
    "\n",
    "###FC3\n",
    "w3 = tf.get_variable(name=\"w3\", shape=(FC2_size, FC3_size), dtype=tf.float32,\n",
    "                    initializer=tf.initializers.random_normal(mean=0.,stddev=0.01))\n",
    "b3 = tf.get_variable(name=\"b3\", shape=(FC3_size,), dtype=tf.float32,\n",
    "                    initializer=tf.initializers.zeros())\n",
    "out3 = tf.nn.xw_plus_b(out2,w3,b3)\n",
    "y_hat = tf.nn.softmax(out3, name=\"FC3_output\")\n"
   ]
  },
  {
   "cell_type": "markdown",
   "metadata": {
    "id": "C0sa7Vq0wNnD"
   },
   "source": [
    "Now we need to define an optimizer."
   ]
  },
  {
   "cell_type": "code",
   "execution_count": 24,
   "metadata": {
    "colab": {
     "base_uri": "https://localhost:8080/",
     "height": 35
    },
    "id": "0_DW15PowNnF",
    "outputId": "4ff9adaf-a11f-44a5-a0b6-27596c02ad39"
   },
   "outputs": [
    {
     "data": {
      "application/vnd.google.colaboratory.intrinsic+json": {
       "type": "string"
      },
      "text/plain": [
       "'correct_preds = tf.math.argmax(y_hat)\\nequality = tf.math.equal(correct_preds, \\naccuracy = tf.math.reduce_mean(tf.cast(equality, tf.float32))'"
      ]
     },
     "execution_count": 24,
     "metadata": {
      "tags": []
     },
     "output_type": "execute_result"
    }
   ],
   "source": [
    "cross_entropy = tf.reduce_mean(tf.nn.softmax_cross_entropy_with_logits_v2(logits=out3, labels=y))\n",
    "\n",
    "############ Adam optimizer ################################\n",
    "lr = 1e-4 # learning rate\n",
    "optimizer = tf.train.AdamOptimizer(learning_rate=lr)\n",
    "trainer = optimizer.minimize(cross_entropy)\n",
    "\n",
    "############################################################\n",
    "#                  Implement Accuracy                      #\n",
    "############################################################\n",
    "correct_preds = tf.equal(tf.argmax(y_hat,1), tf.argmax(y,1))\n",
    "accuracy = tf.reduce_mean(tf.cast(correct_preds, tf.float32))\n"
   ]
  },
  {
   "cell_type": "code",
   "execution_count": 27,
   "metadata": {
    "colab": {
     "base_uri": "https://localhost:8080/",
     "height": 741
    },
    "id": "_xQWnoDvwNnR",
    "outputId": "5fff2c8d-2668-44bd-ef4d-b654cdcabba0"
   },
   "outputs": [
    {
     "name": "stdout",
     "output_type": "stream",
     "text": [
      "\n",
      "********** Epoch   0 **********\n",
      "Train:\t\tAccuracy= 0.4225 \tLoss= 1.6087\n",
      "Validation:\tAccuracy= 0.4734 \tLoss= 1.4677\n",
      "\n",
      "********** Epoch   1 **********\n",
      "Train:\t\tAccuracy= 0.5402 \tLoss= 1.2961\n",
      "Validation:\tAccuracy= 0.5238 \tLoss= 1.3262\n",
      "\n",
      "********** Epoch   2 **********\n",
      "Train:\t\tAccuracy= 0.5960 \tLoss= 1.1504\n",
      "Validation:\tAccuracy= 0.5652 \tLoss= 1.2394\n",
      "\n",
      "********** Epoch   3 **********\n",
      "Train:\t\tAccuracy= 0.6373 \tLoss= 1.0335\n",
      "Validation:\tAccuracy= 0.5838 \tLoss= 1.2030\n",
      "\n",
      "********** Epoch   4 **********\n",
      "Train:\t\tAccuracy= 0.6760 \tLoss= 0.9293\n",
      "Validation:\tAccuracy= 0.5932 \tLoss= 1.2142\n",
      "\n",
      "********** Epoch   5 **********\n",
      "Train:\t\tAccuracy= 0.7068 \tLoss= 0.8390\n",
      "Validation:\tAccuracy= 0.5896 \tLoss= 1.2740\n",
      "\n",
      "********** Epoch   6 **********\n",
      "Train:\t\tAccuracy= 0.7380 \tLoss= 0.7528\n",
      "Validation:\tAccuracy= 0.5996 \tLoss= 1.2951\n",
      "\n",
      "********** Epoch   7 **********\n",
      "Train:\t\tAccuracy= 0.7700 \tLoss= 0.6673\n",
      "Validation:\tAccuracy= 0.5804 \tLoss= 1.4208\n",
      "\n",
      "********** Epoch   8 **********\n",
      "Train:\t\tAccuracy= 0.7884 \tLoss= 0.6091\n",
      "Validation:\tAccuracy= 0.5830 \tLoss= 1.4799\n",
      "\n",
      "********** Epoch   9 **********\n",
      "Train:\t\tAccuracy= 0.8071 \tLoss= 0.5573\n",
      "Validation:\tAccuracy= 0.5932 \tLoss= 1.4782\n",
      "Test accuracy:  0.1045\n"
     ]
    },
    {
     "data": {
      "application/vnd.google.colaboratory.intrinsic+json": {
       "type": "string"
      },
      "text/plain": [
       "'with tf.Session() as sess:\\n  sess.run(tf.global_variables_initializer())\\n  test_acc = accuracy.eval(feed_dict={x: X_test, y:y_test_onehot})*100\\n  print(\"Test:\\tAccuracy= %0.4f\"%(test_acc))\\n  sess.close()'"
      ]
     },
     "execution_count": 27,
     "metadata": {
      "tags": []
     },
     "output_type": "execute_result"
    }
   ],
   "source": [
    "########## Training ##########\n",
    "batch_size = 64 \n",
    "y_train_batches = make_batches(X_train, y_train_onehot, batch_size)\n",
    "epochs = 10\n",
    "N_Batches = len(x_train_batches)\n",
    "\n",
    "train_acc  = np.zeros(epochs)\n",
    "train_loss = np.zeros(epochs)\n",
    "val_acc  = np.zeros(epochs)\n",
    "val_loss = np.zeros(epochs)\n",
    "\n",
    "with tf.Session() as sess:\n",
    "    sess.run(tf.global_variables_initializer())\n",
    "\n",
    "    for epoch in range(epochs):\n",
    "        print()\n",
    "        print(\"*\" * 10, \"Epoch %3i\"%epoch, \"*\" * 10)\n",
    "\n",
    "        batch_acc = np.zeros(N_Batches)\n",
    "        batch_loss = np.zeros(N_Batches)\n",
    "        for n in range(N_Batches):\n",
    "            _, batch_acc[n], batch_loss[n] = sess.run([trainer, accuracy, cross_entropy],\n",
    "                                                      {x: x_train_batches[n], y: y_train_batches[n]})\n",
    "            #print(\"Batch %3d/%d: Acc:%0.4f , Loss:%0.4f\"%(n, N_Batches, batch_acc[n], batch_loss[n]))\n",
    "\n",
    "        train_acc[epoch] = np.mean(batch_acc)\n",
    "        train_loss[epoch] = np.mean(batch_loss)\n",
    "        print(\"Train:\\t\\tAccuracy= %0.4f \\tLoss= %0.4f\"%(train_acc[epoch], train_loss[epoch]))\n",
    "\n",
    "        ########## Validation ##########\n",
    "        val_acc[epoch], val_loss[epoch] = sess.run([accuracy, cross_entropy],\n",
    "                                                   {x: X_val, y: y_val_onehot})\n",
    "        print(\"Validation:\\tAccuracy= %0.4f \\tLoss= %0.4f\"%(val_acc[epoch], val_loss[epoch]))\n",
    "        "
   ]
  },
  {
   "cell_type": "markdown",
   "metadata": {
    "id": "cY2Xy-T-wNnY"
   },
   "source": [
    "### Training Diagram"
   ]
  },
  {
   "cell_type": "code",
   "execution_count": 28,
   "metadata": {
    "colab": {
     "base_uri": "https://localhost:8080/",
     "height": 573
    },
    "id": "YPhA7yJZwNnb",
    "outputId": "a94868d3-4110-461f-c542-cc0c56cc6778"
   },
   "outputs": [
    {
     "data": {
      "image/png": "[encoded data removed]",
      "text/plain": [
       "<Figure size 432x288 with 1 Axes>"
      ]
     },
     "metadata": {
      "needs_background": "light",
      "tags": []
     },
     "output_type": "display_data"
    },
    {
     "data": {
      "image/png": "[encoded data removed]",
      "text/plain": [
       "<Figure size 432x288 with 1 Axes>"
      ]
     },
     "metadata": {
      "needs_background": "light",
      "tags": []
     },
     "output_type": "display_data"
    }
   ],
   "source": [
    "########## Plot metrics #########################\n",
    "fig = plt.figure()\n",
    "plt.plot(range(epochs), train_acc, label='Train')\n",
    "plt.plot(range(epochs), val_acc, label='Validation')\n",
    "plt.title(\"Training and Validation Accuracy\")\n",
    "plt.xlabel(\"epoch\")\n",
    "plt.ylabel(\"Accuracy\")\n",
    "plt.grid(True)\n",
    "plt.legend(loc=0)\n",
    "plt.show()\n",
    "\n",
    "fig = plt.figure()\n",
    "plt.plot(range(epochs), train_loss, label='Train')\n",
    "plt.plot(range(epochs), val_loss, label='Validation')\n",
    "plt.title(\"Training and Validation Loss\")\n",
    "plt.xlabel(\"epoch\")\n",
    "plt.ylabel(\"Cross entropy\")\n",
    "plt.grid(True)\n",
    "plt.legend(loc=0)\n",
    "plt.show()"
   ]
  }
 ],
 "metadata": {
  "accelerator": "GPU",
  "colab": {
   "collapsed_sections": [],
   "name": "CNN_on_CIFAR.ipynb",
   "provenance": []
  },
  "kernelspec": {
   "display_name": "Python 3",
   "language": "python",
   "name": "python3"
  },
  "language_info": {
   "codemirror_mode": {
    "name": "ipython",
    "version": 3
   },
   "file_extension": ".py",
   "mimetype": "text/x-python",
   "name": "python",
   "nbconvert_exporter": "python",
   "pygments_lexer": "ipython3",
   "version": "3.7.3"
  }
 },
 "nbformat": 4,
 "nbformat_minor": 1
}
