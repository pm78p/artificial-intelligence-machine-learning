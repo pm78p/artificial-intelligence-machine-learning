{
 "cells": [
  {
   "cell_type": "code",
   "execution_count": 1,
   "metadata": {
    "id": "GUeqCdFFYnt4"
   },
   "outputs": [],
   "source": [
    "#i use google colab and google drive so these first two cells are used for that porpuse"
   ]
  },
  {
   "cell_type": "code",
   "execution_count": 1,
   "metadata": {
    "colab": {
     "base_uri": "https://localhost:8080/"
    },
    "id": "bJm8uxUqYrhW",
    "outputId": "a0b230a2-f0a4-4bce-c7c1-75782e244a84"
   },
   "outputs": [
    {
     "name": "stdout",
     "output_type": "stream",
     "text": [
      "Drive already mounted at /content/drive; to attempt to forcibly remount, call drive.mount(\"/content/drive\", force_remount=True).\n"
     ]
    }
   ],
   "source": [
    "from google.colab import drive\n",
    "drive.mount('/content/drive')"
   ]
  },
  {
   "cell_type": "code",
   "execution_count": 2,
   "metadata": {
    "id": "0CraeN3GZBaR"
   },
   "outputs": [],
   "source": [
    "root = 'drive/MyDrive/colabs/7/data/'"
   ]
  },
  {
   "cell_type": "code",
   "execution_count": 3,
   "metadata": {
    "colab": {
     "base_uri": "https://localhost:8080/"
    },
    "id": "74Mu652z9YXj",
    "outputId": "dcea0cf6-cbdd-4e8b-dfac-e562318f5132"
   },
   "outputs": [
    {
     "name": "stdout",
     "output_type": "stream",
     "text": [
      "Requirement already satisfied: torchsummary in /usr/local/lib/python3.6/dist-packages (1.5.1)\n"
     ]
    }
   ],
   "source": [
    "import os\n",
    "import tarfile\n",
    "import torch\n",
    "import numpy as np\n",
    "\n",
    "import torchvision\n",
    "from torchvision.datasets.utils import download_url\n",
    "from torchvision.datasets import ImageFolder\n",
    "from torchvision.transforms import ToTensor\n",
    "import torchvision.transforms as transforms\n",
    "from torchvision import datasets\n",
    "from torch.utils.data import random_split\n",
    "from torch.utils.data.dataloader import DataLoader\n",
    "from torch.utils.data import TensorDataset\n",
    "\n",
    "import torch.nn as nn\n",
    "from torch.nn import AvgPool2d\n",
    "import torch.nn.functional as F\n",
    "\n",
    "import matplotlib.pyplot as plt\n",
    "%matplotlib inline\n",
    "\n",
    "!pip install torchsummary\n",
    "from torchsummary import summary\n",
    "\n",
    "from scipy.io import loadmat\n",
    "\n",
    "from numpy import genfromtxt\n",
    "import pandas as pd\n",
    "import seaborn as sns"
   ]
  },
  {
   "cell_type": "code",
   "execution_count": 4,
   "metadata": {
    "colab": {
     "base_uri": "https://localhost:8080/"
    },
    "id": "ZbWj0QW513KY",
    "outputId": "0275a090-51b8-4b20-e665-013cbbb81309"
   },
   "outputs": [
    {
     "name": "stdout",
     "output_type": "stream",
     "text": [
      "Shape of train inputs:  (27455, 784) ; Shape of train labels: (27455,)\n",
      "Shape of test inputs:  (7172, 784) ; Shape of test labels: (7172,)\n"
     ]
    }
   ],
   "source": [
    "\n",
    "import os\n",
    "import pandas as pd\n",
    "import string\n",
    "\n",
    "train_path = root + 'sign_mnist_train.csv'\n",
    "test_path = root + 'sign_mnist_test.csv'\n",
    "dataset = pd.read_csv(train_path)\n",
    "testdataset = pd.read_csv(test_path)\n",
    "num_rows = dataset.shape[0]\n",
    "# To map each label number to its corresponding letter\n",
    "letters = dict(enumerate(string.ascii_uppercase))\n",
    "\n",
    "def dataframe_to_array(dataframe):\n",
    "    # Make a copy of the original dataframe\n",
    "    dataframe1 = dataframe.copy(deep=True)\n",
    "    # Extract input & outupts as numpy arrays\n",
    "    inputs_array = dataframe1.iloc[:, 1:].to_numpy()\n",
    "    targets_array = dataframe1['label'].to_numpy()\n",
    "    return inputs_array, targets_array\n",
    "\n",
    "inputs_array, targets_array = dataframe_to_array(dataset)\n",
    "testinputs_array, testtargets_array = dataframe_to_array(testdataset)\n",
    "\n",
    "print(\"Shape of train inputs:  {} ; Shape of train labels: {}\".format(inputs_array.shape, targets_array.shape))\n",
    "print(\"Shape of test inputs:  {} ; Shape of test labels: {}\".format(testinputs_array.shape, testtargets_array.shape))"
   ]
  },
  {
   "cell_type": "code",
   "execution_count": 5,
   "metadata": {
    "colab": {
     "base_uri": "https://localhost:8080/"
    },
    "id": "CcAOQamp13KY",
    "outputId": "11ccf4f8-7d48-48ae-a7dc-637b8bdcd323"
   },
   "outputs": [
    {
     "name": "stdout",
     "output_type": "stream",
     "text": [
      "A: 1126\n",
      "B: 1010\n",
      "C: 1144\n",
      "D: 1196\n",
      "E: 957\n",
      "F: 1204\n",
      "G: 1090\n",
      "H: 1013\n",
      "I: 1162\n",
      "K: 1114\n",
      "L: 1241\n",
      "M: 1055\n",
      "N: 1151\n",
      "O: 1196\n",
      "P: 1088\n",
      "Q: 1279\n",
      "R: 1294\n",
      "S: 1199\n",
      "T: 1186\n",
      "U: 1161\n",
      "V: 1082\n",
      "W: 1225\n",
      "X: 1164\n",
      "Y: 1118\n"
     ]
    }
   ],
   "source": [
    "unique, counts = np.unique(targets_array, return_counts=True)\n",
    "for i in range(9):\n",
    "    print(\"{}: {}\".format(letters[i],counts[i]))\n",
    "for i in range(10,25):\n",
    "    print(\"{}: {}\".format(letters[i],counts[i-1]))"
   ]
  },
  {
   "cell_type": "code",
   "execution_count": 6,
   "metadata": {
    "colab": {
     "base_uri": "https://localhost:8080/",
     "height": 1000
    },
    "id": "-xHnLGcr13KZ",
    "outputId": "299aafbd-3620-4649-b553-804357eb90eb"
   },
   "outputs": [
    {
     "name": "stdout",
     "output_type": "stream",
     "text": [
      "Letter:  D\n",
      "Letter:  G\n",
      "Letter:  C\n",
      "Letter:  C\n",
      "Letter:  N\n"
     ]
    },
    {
     "data": {
      "image/png": "[encoded data removed]",
      "text/plain": [
       "<Figure size 432x288 with 1 Axes>"
      ]
     },
     "metadata": {
      "needs_background": "light",
      "tags": []
     },
     "output_type": "display_data"
    },
    {
     "data": {
      "image/png": "[encoded data removed]",
      "text/plain": [
       "<Figure size 432x288 with 1 Axes>"
      ]
     },
     "metadata": {
      "needs_background": "light",
      "tags": []
     },
     "output_type": "display_data"
    },
    {
     "data": {
      "image/png": "[encoded data removed]",
      "text/plain": [
       "<Figure size 432x288 with 1 Axes>"
      ]
     },
     "metadata": {
      "needs_background": "light",
      "tags": []
     },
     "output_type": "display_data"
    },
    {
     "data": {
      "image/png": "[encoded data removed]",
      "text/plain": [
       "<Figure size 432x288 with 1 Axes>"
      ]
     },
     "metadata": {
      "needs_background": "light",
      "tags": []
     },
     "output_type": "display_data"
    },
    {
     "data": {
      "image/png": "[encoded data removed]",
      "text/plain": [
       "<Figure size 432x288 with 1 Axes>"
      ]
     },
     "metadata": {
      "needs_background": "light",
      "tags": []
     },
     "output_type": "display_data"
    }
   ],
   "source": [
    "def show(image):\n",
    "  ig, axes = plt.subplots()\n",
    "  plt.imshow(image)\n",
    "pic = []\n",
    "for i in range(5):\n",
    "    pic.append(np.reshape(inputs_array[i], (28, 28)))\n",
    "    print(\"Letter: \", letters[targets_array[i].item()])\n",
    "    show(pic[i])\n",
    " "
   ]
  },
  {
   "cell_type": "code",
   "execution_count": 7,
   "metadata": {
    "colab": {
     "base_uri": "https://localhost:8080/",
     "height": 1000
    },
    "id": "01bv7Ge-13KZ",
    "outputId": "1e77c528-1ab3-49c4-bdbb-196b9ca34619"
   },
   "outputs": [
    {
     "name": "stdout",
     "output_type": "stream",
     "text": [
      "Letter:  G\n",
      "Letter:  F\n",
      "Letter:  K\n",
      "Letter:  A\n",
      "Letter:  D\n"
     ]
    },
    {
     "data": {
      "image/png": "[encoded data removed]",
      "text/plain": [
       "<Figure size 432x288 with 1 Axes>"
      ]
     },
     "metadata": {
      "needs_background": "light",
      "tags": []
     },
     "output_type": "display_data"
    },
    {
     "data": {
      "image/png": "[encoded data removed]",
      "text/plain": [
       "<Figure size 432x288 with 1 Axes>"
      ]
     },
     "metadata": {
      "needs_background": "light",
      "tags": []
     },
     "output_type": "display_data"
    },
    {
     "data": {
      "image/png": "[encoded data removed]",
      "text/plain": [
       "<Figure size 432x288 with 1 Axes>"
      ]
     },
     "metadata": {
      "needs_background": "light",
      "tags": []
     },
     "output_type": "display_data"
    },
    {
     "data": {
      "image/png": "[encoded data removed]",
      "text/plain": [
       "<Figure size 432x288 with 1 Axes>"
      ]
     },
     "metadata": {
      "needs_background": "light",
      "tags": []
     },
     "output_type": "display_data"
    },
    {
     "data": {
      "image/png": "[encoded data removed]",
      "text/plain": [
       "<Figure size 432x288 with 1 Axes>"
      ]
     },
     "metadata": {
      "needs_background": "light",
      "tags": []
     },
     "output_type": "display_data"
    }
   ],
   "source": [
    "def show(image):\n",
    "  ig, axes = plt.subplots()\n",
    "  plt.imshow(image)\n",
    "pic = []\n",
    "for i in range(5):\n",
    "    pic.append(np.reshape(testinputs_array[i], (28, 28)))\n",
    "    print(\"Letter: \", letters[testtargets_array[i].item()])\n",
    "    show(pic[i])\n",
    " "
   ]
  },
  {
   "cell_type": "code",
   "execution_count": 8,
   "metadata": {
    "colab": {
     "base_uri": "https://localhost:8080/"
    },
    "id": "MWEqD_0s13Ka",
    "outputId": "99e2c17a-472a-4106-85a6-ffcb9aadfa2b"
   },
   "outputs": [
    {
     "name": "stdout",
     "output_type": "stream",
     "text": [
      "train data shape:  torch.Size([20668, 1, 28, 28])\n",
      "train lables data shape:  torch.Size([20668])\n",
      "validation data shape:  torch.Size([6787, 1, 28, 28])\n",
      "validation labels data shape:  torch.Size([6787])\n",
      "test data shape:  torch.Size([7172, 1, 28, 28])\n",
      "test labels data shape:  torch.Size([7172])\n"
     ]
    }
   ],
   "source": [
    "import random\n",
    "#p is probability of a data participate as validation data set and \n",
    "#so 1- p is probability of a data participate as train data set \n",
    "p = 0.25\n",
    "\n",
    "train_data = []\n",
    "train_target = []\n",
    "val_data = []\n",
    "val_target = []\n",
    "\n",
    "for i,j in zip(inputs_array, targets_array):\n",
    "    p_hat = random.random()\n",
    "    if p_hat > p:\n",
    "        #normalize\n",
    "        train_data.append(i/255)\n",
    "        train_target.append(j)\n",
    "    else:\n",
    "        #normalize\n",
    "        val_data.append(i/255)\n",
    "        val_target.append(j)\n",
    "\n",
    "train_data = np.array(train_data).reshape(-1,1,28,28)\n",
    "train_target = np.array(train_target)\n",
    "val_data = np.array(val_data).reshape(-1,1,28,28)\n",
    "val_target = np.array(val_target)\n",
    "testinputs_array = np.array(testinputs_array).reshape(-1,1,28,28)\n",
    "testtargets_array = np.array(testtargets_array)\n",
    "\n",
    "train_data = torch.from_numpy(train_data).float()\n",
    "train_target = torch.from_numpy(train_target).long()\n",
    "val_data = torch.from_numpy(val_data).float()\n",
    "val_target = torch.from_numpy(val_target).long()\n",
    "testinputs_array = torch.from_numpy(testinputs_array).float()\n",
    "testtargets_array = torch.from_numpy(testtargets_array).long()\n",
    "\n",
    "print(\"train data shape: \",train_data.shape)\n",
    "print(\"train lables data shape: \",train_target.shape)\n",
    "print(\"validation data shape: \",val_data.shape)\n",
    "print(\"validation labels data shape: \",val_target.shape)\n",
    "print(\"test data shape: \",testinputs_array.shape)\n",
    "print(\"test labels data shape: \",testtargets_array.shape)"
   ]
  },
  {
   "cell_type": "code",
   "execution_count": null,
   "metadata": {},
   "outputs": [],
   "source": [
    "lr = 0.0001\n",
    "input_size = 28*28\n",
    "num_classes = 26\n",
    "batch_size = 128\n",
    "dropout1_rate = 0.3\n",
    "dropout2_rate = 0.4\n"
   ]
  },
  {
   "cell_type": "code",
   "execution_count": 9,
   "metadata": {
    "id": "fX0BHoEZ13Kb"
   },
   "outputs": [],
   "source": [
    "from torch.utils.data import DataLoader\n",
    "from torch.utils.data import TensorDataset\n",
    "\n",
    "train_dataset = TensorDataset(train_data, train_target)\n",
    "val_dataset = TensorDataset(val_data, val_target)\n",
    "test_dataset = TensorDataset(testinputs_array, testtargets_array)\n",
    "\n",
    "# Dataloaders\n",
    "train_dl = DataLoader(train_dataset, batch_size, shuffle=True)\n",
    "val_dl = DataLoader(val_dataset, batch_size)\n",
    "test_dl = DataLoader(test_dataset, batch_size)"
   ]
  },
  {
   "cell_type": "code",
   "execution_count": 11,
   "metadata": {
    "id": "KsxjSQ6V0Wv2"
   },
   "outputs": [],
   "source": [
    "class MnistModel(nn.Module):\n",
    "    def __init__(self):\n",
    "        super().__init__()\n",
    "        self.network = nn.Sequential(\n",
    "            nn.Conv2d(in_channels=1,out_channels=16,kernel_size=3,padding=1),\n",
    "            nn.ReLU(),\n",
    "            nn.MaxPool2d(2,2),\n",
    "            #nn.BatchNorm2d(16),\n",
    "\n",
    "            nn.Conv2d(in_channels=16,out_channels=32,kernel_size=3,padding=1),\n",
    "            nn.ReLU(),\n",
    "            nn.Dropout2d(dropout1_rate),\n",
    "            \n",
    "            nn.Conv2d(in_channels=32,out_channels=64,kernel_size=3,padding=1),\n",
    "            nn.ReLU(),\n",
    "            nn.MaxPool2d(2,2),\n",
    "            nn.BatchNorm2d(64),\n",
    "\n",
    "            nn.Flatten(),\n",
    "            nn.Linear(in_features=64*7*7, out_features=128),\n",
    "            nn.Dropout(dropout2_rate),\n",
    "            nn.Linear(in_features=128, out_features=26),\n",
    "\n",
    "        )\n",
    "        \n",
    "    def forward(self, xb):\n",
    "        return self.network(xb)\n",
    "    \n",
    "    def training_step(self, batch):\n",
    "        images, labels = batch \n",
    "        out = self(images)                  # Generate predictions\n",
    "        loss = F.cross_entropy(out, labels) # Calculate loss\n",
    "        return loss\n",
    "    \n",
    "    def validation_step(self, batch):\n",
    "        images, labels = batch \n",
    "        out = self(images)                    # Generate predictions\n",
    "        loss = F.cross_entropy(out, labels)   # Calculate loss\n",
    "        acc = accuracy(out, labels)           # Calculate accuracy\n",
    "        return {'val_loss': loss.detach(), 'val_acc': acc.detach()}\n",
    "        \n",
    "    def validation_epoch_end(self, outputs):\n",
    "        batch_losses = [x['val_loss'] for x in outputs]\n",
    "        epoch_loss = torch.stack(batch_losses).mean()   # Combine losses\n",
    "        batch_accs = [x['val_acc'] for x in outputs]\n",
    "        epoch_acc = torch.stack(batch_accs).mean()      # Combine accuracies\n",
    "        return {'val_loss': epoch_loss.item(), 'val_acc': epoch_acc.item()}\n",
    "    \n",
    "    def epoch_end(self, epoch, result):\n",
    "      print(\"Epoch [{}], train_loss: {:.4f}, val_loss: {:.4f}, val_acc: {:.4f}\".format(\n",
    "          epoch, result['train_loss'], result['val_loss'], result['val_acc']))\n",
    "    \n",
    "model = MnistModel()"
   ]
  },
  {
   "cell_type": "code",
   "execution_count": 12,
   "metadata": {
    "id": "5ZgaLYuo0XrV"
   },
   "outputs": [],
   "source": [
    "def accuracy(outputs, labels):\n",
    "    _, preds = torch.max(outputs, dim=1)\n",
    "    return torch.tensor(torch.sum(preds == labels).item() / len(preds))"
   ]
  },
  {
   "cell_type": "code",
   "execution_count": 13,
   "metadata": {
    "id": "zqT79s-W0Z-i"
   },
   "outputs": [],
   "source": [
    "def evaluate(model, val_loader):\n",
    "    outputs = [model.validation_step(batch) for batch in val_loader]\n",
    "    return model.validation_epoch_end(outputs)\n",
    "\n",
    "def fit(epochs, lr, model, train_loader, val_loader, opt_func=torch.optim.SGD):\n",
    "    history = []\n",
    "    optimizer = opt_func(model.parameters(), lr)\n",
    "    for epoch in range(epochs):\n",
    "        # Training Phase \n",
    "        train_losses = []\n",
    "        for batch in train_loader:\n",
    "            loss = model.training_step(batch)\n",
    "            train_losses.append(loss)\n",
    "            loss.backward()\n",
    "            optimizer.step()\n",
    "            optimizer.zero_grad()\n",
    "        # Validation phase\n",
    "        result = evaluate(model, val_loader)\n",
    "        result['train_loss'] = torch.stack(train_losses).mean().item()\n",
    "        model.epoch_end(epoch, result)\n",
    "        history.append(result)\n",
    "        \n",
    "    return history"
   ]
  },
  {
   "cell_type": "code",
   "execution_count": 14,
   "metadata": {
    "colab": {
     "base_uri": "https://localhost:8080/"
    },
    "id": "LDI1MXVW0cKd",
    "outputId": "1e947d36-1159-48f0-b86a-18539343950a"
   },
   "outputs": [
    {
     "data": {
      "text/plain": [
       "{'val_acc': 0.03226273134350777, 'val_loss': 3.3645129203796387}"
      ]
     },
     "execution_count": 14,
     "metadata": {
      "tags": []
     },
     "output_type": "execute_result"
    }
   ],
   "source": [
    "evaluate(model, val_dl)"
   ]
  },
  {
   "cell_type": "code",
   "execution_count": 15,
   "metadata": {
    "colab": {
     "base_uri": "https://localhost:8080/"
    },
    "id": "PWfIskcP0gnZ",
    "outputId": "e88e266d-0f54-43c0-c3cd-82e53c181c1e"
   },
   "outputs": [
    {
     "name": "stdout",
     "output_type": "stream",
     "text": [
      "Epoch [0], train_loss: 2.3387, val_loss: 1.4223, val_acc: 0.6030\n",
      "Epoch [1], train_loss: 1.0036, val_loss: 0.7373, val_acc: 0.8012\n",
      "Epoch [2], train_loss: 0.5536, val_loss: 0.4333, val_acc: 0.8900\n",
      "Epoch [3], train_loss: 0.3351, val_loss: 0.2684, val_acc: 0.9434\n",
      "Epoch [4], train_loss: 0.2095, val_loss: 0.1787, val_acc: 0.9701\n",
      "Epoch [5], train_loss: 0.1389, val_loss: 0.1247, val_acc: 0.9796\n",
      "Epoch [6], train_loss: 0.0974, val_loss: 0.0835, val_acc: 0.9929\n",
      "Epoch [7], train_loss: 0.0694, val_loss: 0.0638, val_acc: 0.9928\n",
      "Epoch [8], train_loss: 0.0522, val_loss: 0.0487, val_acc: 0.9967\n",
      "Epoch [9], train_loss: 0.0413, val_loss: 0.0382, val_acc: 0.9970\n"
     ]
    }
   ],
   "source": [
    "history = fit(10, 1e-4, model, train_dl, val_dl,torch.optim.Adam)"
   ]
  },
  {
   "cell_type": "code",
   "execution_count": 16,
   "metadata": {
    "colab": {
     "base_uri": "https://localhost:8080/",
     "height": 312
    },
    "id": "5JacPKbG0jCY",
    "outputId": "eb2c6daa-38b1-4169-fae9-52b50ea94643"
   },
   "outputs": [
    {
     "data": {
      "text/plain": [
       "Text(0.5, 1.0, 'Accuracy vs. No. of epochs')"
      ]
     },
     "execution_count": 16,
     "metadata": {
      "tags": []
     },
     "output_type": "execute_result"
    },
    {
     "data": {
      "image/png": "[encoded data removed]",
      "text/plain": [
       "<Figure size 432x288 with 1 Axes>"
      ]
     },
     "metadata": {
      "needs_background": "light",
      "tags": []
     },
     "output_type": "display_data"
    }
   ],
   "source": [
    "accuracies = [r['val_acc'] for r in history]\n",
    "plt.plot(accuracies, '-x')\n",
    "plt.xlabel('epoch')\n",
    "plt.ylabel('accuracy')\n",
    "plt.title('Accuracy vs. No. of epochs')"
   ]
  },
  {
   "cell_type": "code",
   "execution_count": 17,
   "metadata": {
    "colab": {
     "base_uri": "https://localhost:8080/",
     "height": 295
    },
    "id": "AmgDCRDb7FLC",
    "outputId": "8301c613-d87e-42c1-a57b-69566320edeb"
   },
   "outputs": [
    {
     "data": {
      "image/png": "[encoded data removed]",
      "text/plain": [
       "<Figure size 432x288 with 1 Axes>"
      ]
     },
     "metadata": {
      "needs_background": "light",
      "tags": []
     },
     "output_type": "display_data"
    }
   ],
   "source": [
    "train_losses = [x.get('train_loss') for x in history]\n",
    "val_losses = [x['val_loss'] for x in history]\n",
    "plt.plot(train_losses, '-bx')\n",
    "plt.plot(val_losses, '-rx')\n",
    "plt.xlabel('epoch')\n",
    "plt.ylabel('loss')\n",
    "plt.legend(['Training', 'Validation'])\n",
    "plt.title('Loss vs. No. of epochs');"
   ]
  },
  {
   "cell_type": "code",
   "execution_count": 18,
   "metadata": {
    "colab": {
     "base_uri": "https://localhost:8080/"
    },
    "id": "DCYw-DqC-BQ9",
    "outputId": "164a724e-3b5b-49b8-be41-1fd7cd72ce77"
   },
   "outputs": [
    {
     "data": {
      "text/plain": [
       "{'val_acc': 0.7816612124443054, 'val_loss': 0.7027860879898071}"
      ]
     },
     "execution_count": 18,
     "metadata": {
      "tags": []
     },
     "output_type": "execute_result"
    }
   ],
   "source": [
    "result = evaluate(model, test_dl)\n",
    "result"
   ]
  },
  {
   "cell_type": "code",
   "execution_count": 19,
   "metadata": {
    "id": "NokZWc977F9O"
   },
   "outputs": [],
   "source": [
    "torch.save(model.state_dict(), 'signMnist_cnn.pth')"
   ]
  },
  {
   "cell_type": "code",
   "execution_count": 37,
   "metadata": {
    "colab": {
     "base_uri": "https://localhost:8080/",
     "height": 248
    },
    "id": "RXH2-ZsZJdV-",
    "outputId": "c91483d3-6109-45d1-b849-d5f49039aa16"
   },
   "outputs": [
    {
     "data": {
      "image/png": "[encoded data removed]",
      "text/plain": [
       "<Figure size 432x288 with 16 Axes>"
      ]
     },
     "metadata": {
      "needs_background": "light",
      "tags": []
     },
     "output_type": "display_data"
    }
   ],
   "source": [
    "for j in model.parameters():\n",
    "  for i, filter in enumerate(j):\n",
    "      plt.subplot(4, 4, i+1) # (8, 8) because in conv0 we have 7x7 filters and total of 64 (see printed shapes)\n",
    "      plt.imshow(filter[0, :, :].detach(), cmap='gray')\n",
    "      plt.axis('off')\n",
    "  plt.show()\n",
    "  break\n"
   ]
  }
 ],
 "metadata": {
  "accelerator": "GPU",
  "colab": {
   "collapsed_sections": [],
   "name": "7.ipynb",
   "provenance": []
  },
  "kernelspec": {
   "display_name": "Python 3",
   "language": "python",
   "name": "python3"
  },
  "language_info": {
   "codemirror_mode": {
    "name": "ipython",
    "version": 3
   },
   "file_extension": ".py",
   "mimetype": "text/x-python",
   "name": "python",
   "nbconvert_exporter": "python",
   "pygments_lexer": "ipython3",
   "version": "3.7.3"
  }
 },
 "nbformat": 4,
 "nbformat_minor": 1
}
