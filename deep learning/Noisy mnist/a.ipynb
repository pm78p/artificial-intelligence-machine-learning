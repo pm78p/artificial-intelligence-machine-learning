{
 "cells": [
  {
   "cell_type": "code",
   "execution_count": 1,
   "metadata": {
    "colab": {
     "base_uri": "https://localhost:8080/"
    },
    "id": "dJ_df94bZ-3A",
    "outputId": "cab17f4b-2a38-4af0-b901-6889d03e2595"
   },
   "outputs": [
    {
     "name": "stdout",
     "output_type": "stream",
     "text": [
      "TensorFlow 1.x selected.\n"
     ]
    }
   ],
   "source": [
    "%tensorflow_version 1.x"
   ]
  },
  {
   "cell_type": "code",
   "execution_count": 2,
   "metadata": {
    "id": "IaPrZIPUaQM3"
   },
   "outputs": [],
   "source": [
    "import numpy as np\n",
    "import tensorflow as tf\n",
    "from tensorflow.keras.datasets import mnist\n",
    "from matplotlib import pyplot as plt\n",
    "import random\n",
    "import timeit"
   ]
  },
  {
   "cell_type": "code",
   "execution_count": 41,
   "metadata": {
    "id": "047WfOubZ-3H"
   },
   "outputs": [],
   "source": [
    "(x_train, y_train), (x_test, y_test) = mnist.load_data()\n",
    "x_train = x_train.reshape(-1,784)\n",
    "x_test = x_test.reshape(-1,784)\n",
    "x_train = x_train/255\n",
    "y_train = np.squeeze(np.eye(10)[y_train]).reshape(-1,10)\n"
   ]
  },
  {
   "cell_type": "code",
   "execution_count": 35,
   "metadata": {
    "id": "93IZy_tyZ-3I"
   },
   "outputs": [],
   "source": [
    "def batch_index_generator(N_Samples, Batch_Size):\n",
    "    NumBatches = N_Samples//Batch_Size\n",
    "    NumbersArray = np.arange(0, NumBatches*Batch_Size)\n",
    "    MixedNumbers = np.random.permutation(NumbersArray)\n",
    "    return np.reshape(MixedNumbers, (Batch_Size, NumBatches))"
   ]
  },
  {
   "cell_type": "code",
   "execution_count": 36,
   "metadata": {
    "id": "m83_58tXZ-3I"
   },
   "outputs": [],
   "source": [
    "input_num = 784\n",
    "middle_num0 = 512\n",
    "middle_num1 = 256\n",
    "middle_num2 = 128\n",
    "target_num = 64\n",
    "l_rate = 0.001\n",
    "nEpochs = 50\n",
    "batch_size = 128\n",
    "dropout_rate = 0\n",
    "tensorflow_dropout = True\n",
    "verbose = False \n",
    "\n",
    "tf.reset_default_graph()\n",
    "Input_tf = tf.placeholder(dtype=tf.float32, shape=(None, input_num), name=\"inputs\")\n",
    "target_tf = tf.placeholder(dtype=tf.float32, shape=(None, input_num), name=\"targets\")\n",
    "\n",
    "w0 = tf.get_variable(name=\"w0_enc\", shape=(input_num, middle_num0), dtype=tf.float32,\n",
    "                    initializer=tf.initializers.random_normal(mean=0.,stddev=0.01))\n",
    "\n",
    "w1 = tf.get_variable(name=\"w1_enc\", shape=(middle_num0, middle_num1), dtype=tf.float32,\n",
    "                    initializer=tf.initializers.random_normal(mean=0.,stddev=0.01))\n",
    "\n",
    "w2 = tf.get_variable(name=\"w2_enc\", shape=(middle_num1, middle_num2), dtype=tf.float32,\n",
    "                    initializer=tf.initializers.random_normal(mean=0.,stddev=0.01))\n",
    "\n",
    "w3 = tf.get_variable(name=\"w3_enc\", shape=(middle_num2, target_num), dtype=tf.float32,\n",
    "                    initializer=tf.initializers.random_normal(mean=0.,stddev=0.01))\n",
    "\n",
    "b0 = tf.get_variable(name=\"b0_enc\", shape=(middle_num0,), dtype=tf.float32,\n",
    "                    initializer=tf.initializers.zeros())\n",
    "\n",
    "b1 = tf.get_variable(name=\"b1_enc\", shape=(middle_num1,), dtype=tf.float32,\n",
    "                    initializer=tf.initializers.zeros())\n",
    "\n",
    "b2 = tf.get_variable(name=\"b2_enc\", shape=(middle_num2,), dtype=tf.float32,\n",
    "                    initializer=tf.initializers.zeros())\n",
    "\n",
    "b3 = tf.get_variable(name=\"b3_enc\", shape=(target_num,), dtype=tf.float32,\n",
    "                    initializer=tf.initializers.zeros())\n",
    "\n",
    "w1_dec = tf.get_variable(name=\"w1_dec\", shape=(target_num, middle_num2), dtype=tf.float32,\n",
    "                    initializer=tf.initializers.random_normal(mean=0.,stddev=0.01))\n",
    "\n",
    "w2_dec = tf.get_variable(name=\"w2_dec\", shape=(middle_num2, middle_num1), dtype=tf.float32,\n",
    "                    initializer=tf.initializers.random_normal(mean=0.,stddev=0.01))\n",
    "\n",
    "w3_dec = tf.get_variable(name=\"w3_dec\", shape=(middle_num1, middle_num0), dtype=tf.float32,\n",
    "                    initializer=tf.initializers.random_normal(mean=0.,stddev=0.01))\n",
    "\n",
    "w4_dec = tf.get_variable(name=\"w4_dec\", shape=(middle_num0, input_num), dtype=tf.float32,\n",
    "                    initializer=tf.initializers.random_normal(mean=0.,stddev=0.01))\n",
    "\n",
    "b1_dec = tf.get_variable(name=\"b1_dec\", shape=(middle_num2,), dtype=tf.float32,\n",
    "                    initializer=tf.initializers.zeros())\n",
    "\n",
    "b2_dec = tf.get_variable(name=\"b2_dec\", shape=(middle_num1,), dtype=tf.float32,\n",
    "                    initializer=tf.initializers.zeros())\n",
    "\n",
    "b3_dec = tf.get_variable(name=\"b3_dec\", shape=(middle_num0,), dtype=tf.float32,\n",
    "                    initializer=tf.initializers.zeros())\n",
    "\n",
    "b4_dec = tf.get_variable(name=\"b4_dec\", shape=(input_num,), dtype=tf.float32,\n",
    "                    initializer=tf.initializers.zeros())\n",
    "\n",
    "out0 = tf.nn.leaky_relu(tf.nn.xw_plus_b(Input_tf,w0,b0), name=\"layer0_output\")\n",
    "out1 = tf.nn.leaky_relu(tf.nn.xw_plus_b(out0,w1,b1), name=\"layer1_output\")\n",
    "out2 = tf.nn.leaky_relu(tf.nn.xw_plus_b(out1,w2,b2), name=\"layer2_output\")\n",
    "out3 = tf.nn.leaky_relu(tf.nn.xw_plus_b(out2,w3,b3), name=\"layer3_output\")\n",
    "out4 = tf.nn.leaky_relu(tf.nn.xw_plus_b(out3,w1_dec,b1_dec), name=\"layer4_output\")\n",
    "out5 = tf.nn.leaky_relu(tf.nn.xw_plus_b(out4,w2_dec,b2_dec), name=\"layer5_output\")\n",
    "out6 = tf.nn.leaky_relu(tf.nn.xw_plus_b(out5,w3_dec,b3_dec), name=\"layer6_output\")\n",
    "out7 = tf.nn.leaky_relu(tf.nn.xw_plus_b(out6,w4_dec,b4_dec), name=\"layer7_output\")\n",
    "\n",
    "loss_tf = tf.reduce_mean(tf.square(out7-target_tf), name=\"loss\")\n",
    "\n",
    "loss_minimize = tf.train.AdamOptimizer(learning_rate= l_rate).minimize(loss_tf)\n",
    "\n",
    "verbose = True"
   ]
  },
  {
   "cell_type": "code",
   "execution_count": 46,
   "metadata": {
    "colab": {
     "base_uri": "https://localhost:8080/"
    },
    "id": "xFnSM70VZ-3J",
    "outputId": "654a4f11-44ef-4c40-dfc6-78c71e55084e"
   },
   "outputs": [
    {
     "name": "stderr",
     "output_type": "stream",
     "text": [
      "/tensorflow-1.15.2/python3.6/tensorflow_core/python/client/session.py:1750: UserWarning: An interactive session is already active. This can cause out-of-memory errors in some cases. You must explicitly call `InteractiveSession.close()` to release resources held by the other session(s).\n",
      "  warnings.warn('An interactive session is already active. This can '\n"
     ]
    },
    {
     "name": "stdout",
     "output_type": "stream",
     "text": [
      "##############    Epoch 00    ##############\n",
      "iteration 468: loss=0.051378824\n",
      "##############    Epoch 01    ##############\n",
      "iteration 936: loss=0.03553723\n",
      "##############    Epoch 02    ##############\n",
      "iteration 1404: loss=0.025885548\n",
      "##############    Epoch 03    ##############\n",
      "iteration 1872: loss=0.020207461\n",
      "##############    Epoch 04    ##############\n",
      "iteration 2340: loss=0.017486317\n",
      "##############    Epoch 05    ##############\n",
      "iteration 2808: loss=0.01501422\n",
      "##############    Epoch 06    ##############\n",
      "iteration 3276: loss=0.015196608\n",
      "##############    Epoch 07    ##############\n",
      "iteration 3744: loss=0.013994439\n",
      "##############    Epoch 08    ##############\n",
      "iteration 4212: loss=0.01217003\n",
      "##############    Epoch 09    ##############\n",
      "iteration 4680: loss=0.011499587\n",
      "##############    Epoch 10    ##############\n",
      "iteration 5148: loss=0.011198539\n",
      "##############    Epoch 11    ##############\n",
      "iteration 5616: loss=0.00981595\n",
      "##############    Epoch 12    ##############\n",
      "iteration 6084: loss=0.009446613\n",
      "##############    Epoch 13    ##############\n",
      "iteration 6552: loss=0.00961149\n",
      "##############    Epoch 14    ##############\n",
      "iteration 7020: loss=0.0098253805\n",
      "##############    Epoch 15    ##############\n",
      "iteration 7488: loss=0.009370233\n",
      "##############    Epoch 16    ##############\n",
      "iteration 7956: loss=0.008130303\n",
      "##############    Epoch 17    ##############\n",
      "iteration 8424: loss=0.008179539\n",
      "##############    Epoch 18    ##############\n",
      "iteration 8892: loss=0.008891166\n",
      "##############    Epoch 19    ##############\n",
      "iteration 9360: loss=0.0076941825\n",
      "##############    Epoch 20    ##############\n",
      "iteration 9828: loss=0.0073943613\n",
      "##############    Epoch 21    ##############\n",
      "iteration 10296: loss=0.0072666006\n",
      "##############    Epoch 22    ##############\n",
      "iteration 10764: loss=0.00719051\n",
      "##############    Epoch 23    ##############\n",
      "iteration 11232: loss=0.0072891884\n",
      "##############    Epoch 24    ##############\n",
      "iteration 11700: loss=0.0072381753\n",
      "##############    Epoch 25    ##############\n",
      "iteration 12168: loss=0.0061307363\n",
      "##############    Epoch 26    ##############\n",
      "iteration 12636: loss=0.0067467736\n",
      "##############    Epoch 27    ##############\n",
      "iteration 13104: loss=0.00671829\n",
      "##############    Epoch 28    ##############\n",
      "iteration 13572: loss=0.006252181\n",
      "##############    Epoch 29    ##############\n",
      "iteration 14040: loss=0.0061868923\n",
      "##############    Epoch 30    ##############\n",
      "iteration 14508: loss=0.006547556\n",
      "##############    Epoch 31    ##############\n",
      "iteration 14976: loss=0.0070345476\n",
      "##############    Epoch 32    ##############\n",
      "iteration 15444: loss=0.0065772356\n",
      "##############    Epoch 33    ##############\n",
      "iteration 15912: loss=0.0063779275\n",
      "##############    Epoch 34    ##############\n",
      "iteration 16380: loss=0.0062677856\n",
      "##############    Epoch 35    ##############\n",
      "iteration 16848: loss=0.00552126\n",
      "##############    Epoch 36    ##############\n",
      "iteration 17316: loss=0.005759699\n",
      "##############    Epoch 37    ##############\n",
      "iteration 17784: loss=0.0058199107\n",
      "##############    Epoch 38    ##############\n",
      "iteration 18252: loss=0.0060291626\n",
      "##############    Epoch 39    ##############\n",
      "iteration 18720: loss=0.005903204\n",
      "##############    Epoch 40    ##############\n",
      "iteration 19188: loss=0.0060284873\n",
      "##############    Epoch 41    ##############\n",
      "iteration 19656: loss=0.0059441505\n",
      "##############    Epoch 42    ##############\n",
      "iteration 20124: loss=0.005359516\n",
      "##############    Epoch 43    ##############\n",
      "iteration 20592: loss=0.005590153\n",
      "##############    Epoch 44    ##############\n",
      "iteration 21060: loss=0.0054814816\n",
      "##############    Epoch 45    ##############\n",
      "iteration 21528: loss=0.005272712\n",
      "##############    Epoch 46    ##############\n",
      "iteration 21996: loss=0.0054881983\n",
      "##############    Epoch 47    ##############\n",
      "iteration 22464: loss=0.004974296\n",
      "##############    Epoch 48    ##############\n",
      "iteration 22932: loss=0.0051627127\n",
      "##############    Epoch 49    ##############\n",
      "iteration 23400: loss=0.00527765\n"
     ]
    }
   ],
   "source": [
    "sess = tf.InteractiveSession()\n",
    "\n",
    "start = timeit.default_timer()\n",
    "\n",
    "sess.run(tf.global_variables_initializer())\n",
    "\n",
    "IterNum = 0\n",
    "for epoch in range(nEpochs):    \n",
    "    BatchIndeces = batch_index_generator(x_train.shape[0], batch_size)\n",
    "    loss_np = 0\n",
    "    print(\"##############    Epoch \"+str(epoch).zfill(2)+\"    ##############\")\n",
    "    for i in range(BatchIndeces.shape[1]):\n",
    "        IterNum += 1\n",
    "        # =================================== Training for one step ========================================            \n",
    "        X_batch = x_train[BatchIndeces[:,i],:]\n",
    "        Y_batch = y_train[BatchIndeces[:,i]]\n",
    "        loss_np, _ =  sess.run([loss_tf, loss_minimize],\n",
    "                               feed_dict={Input_tf: X_batch, \n",
    "                                          target_tf: X_batch})\n",
    "        # verbose:\n",
    "        if verbose and i == BatchIndeces.shape[1]-1:\n",
    "            print(\"iteration \"+str(IterNum).zfill(3)+\": loss=\"+str(loss_np))\n",
    "    #print(\"loss is: \", loss_np)\n",
    "stop = timeit.default_timer()\n",
    "\n",
    "\n",
    "predicts = out7.eval({Input_tf: x_test, target_tf: x_test})\n"
   ]
  },
  {
   "cell_type": "code",
   "execution_count": 47,
   "metadata": {
    "colab": {
     "base_uri": "https://localhost:8080/"
    },
    "id": "IignZj1Owjal",
    "outputId": "89fc84bd-d477-4ffa-fc05-8d96fbddc0d0"
   },
   "outputs": [
    {
     "name": "stdout",
     "output_type": "stream",
     "text": [
      "(10000, 784)\n",
      "<class 'numpy.ndarray'>\n"
     ]
    }
   ],
   "source": [
    "print(predicts.shape)\n",
    "print(type(predicts))\n"
   ]
  },
  {
   "cell_type": "code",
   "execution_count": 48,
   "metadata": {
    "colab": {
     "base_uri": "https://localhost:8080/",
     "height": 248
    },
    "id": "8EkcRGjMbJsR",
    "outputId": "cf982e98-372b-4faf-a44f-ac7d4334600e"
   },
   "outputs": [
    {
     "data": {
      "image/png": "[encoded data removed]",
      "text/plain": [
       "<Figure size 1440x288 with 20 Axes>"
      ]
     },
     "metadata": {
      "needs_background": "light",
      "tags": []
     },
     "output_type": "display_data"
    }
   ],
   "source": [
    "n = 10\n",
    "plt.figure(figsize=(20, 4))\n",
    "for i in range(1, n + 1):\n",
    "    # Display original\n",
    "    ax = plt.subplot(2, n, i)\n",
    "    plt.imshow(x_test[i].reshape(28, 28))\n",
    "    plt.gray()\n",
    "    ax.get_xaxis().set_visible(False)\n",
    "    ax.get_yaxis().set_visible(False)\n",
    "\n",
    "    # Display reconstruction\n",
    "    ax = plt.subplot(2, n, i + n)\n",
    "    plt.imshow(predicts[i].reshape(28, 28))\n",
    "    plt.gray()\n",
    "    ax.get_xaxis().set_visible(False)\n",
    "    ax.get_yaxis().set_visible(False)\n",
    "plt.show()"
   ]
  },
  {
   "cell_type": "code",
   "execution_count": null,
   "metadata": {
    "id": "FTjxhG9sxAGR"
   },
   "outputs": [],
   "source": []
  }
 ],
 "metadata": {
  "accelerator": "GPU",
  "colab": {
   "collapsed_sections": [],
   "name": "Untitled1.ipynb",
   "provenance": []
  },
  "kernelspec": {
   "display_name": "Python 3",
   "language": "python",
   "name": "python3"
  },
  "language_info": {
   "codemirror_mode": {
    "name": "ipython",
    "version": 3
   },
   "file_extension": ".py",
   "mimetype": "text/x-python",
   "name": "python",
   "nbconvert_exporter": "python",
   "pygments_lexer": "ipython3",
   "version": "3.7.3"
  }
 },
 "nbformat": 4,
 "nbformat_minor": 1
}
