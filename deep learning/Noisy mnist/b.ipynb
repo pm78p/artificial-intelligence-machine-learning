{
 "cells": [
  {
   "cell_type": "code",
   "execution_count": 11,
   "metadata": {
    "id": "IaPrZIPUaQM3"
   },
   "outputs": [],
   "source": [
    "import numpy as np\n",
    "import tensorflow as tf\n",
    "from tensorflow.keras.datasets import mnist\n",
    "from matplotlib import pyplot as plt\n",
    "import random\n",
    "import timeit"
   ]
  },
  {
   "cell_type": "code",
   "execution_count": 14,
   "metadata": {
    "id": "047WfOubZ-3H"
   },
   "outputs": [],
   "source": [
    "(x_train, y_train), (x_test, y_test) = mnist.load_data()\n",
    "x_train = x_train/255\n",
    "x_test = x_test/255\n",
    "x_train = x_train.reshape(-1,28,28,1)\n",
    "x_test = x_test.reshape(-1,28,28,1)\n"
   ]
  },
  {
   "cell_type": "code",
   "execution_count": 26,
   "metadata": {
    "id": "m83_58tXZ-3I"
   },
   "outputs": [],
   "source": [
    "import keras\n",
    "from keras import layers\n",
    "\n",
    "input_img = keras.Input(shape=(28, 28, 1))\n",
    "\n",
    "x = layers.Conv2D(32, (3, 3), activation='relu', padding='same')(input_img)\n",
    "x = layers.MaxPooling2D((2, 2), padding='same')(x)\n",
    "x = layers.Conv2D(16, (3, 3), activation='relu', padding='same')(x)\n",
    "x = layers.MaxPooling2D((2, 2), padding='same')(x)\n",
    "x = layers.Conv2D(8, (3, 3), activation='relu', padding='same')(x)\n",
    "x = layers.MaxPooling2D((2, 2), padding='same')(x)\n",
    "\n",
    "x = layers.Conv2D(8, (3, 3), activation='relu', padding='same')(x)\n",
    "x = layers.UpSampling2D((2, 2))(x)\n",
    "x = layers.Conv2D(16, (3, 3), activation='relu', padding='same')(x)\n",
    "x = layers.UpSampling2D((2, 2))(x)\n",
    "x = layers.Conv2D(32, (3, 3), activation='relu')(x)\n",
    "x = layers.UpSampling2D((2, 2))(x)\n",
    "x = layers.Conv2D(1, (3, 3), activation='sigmoid', padding='same')(x)\n",
    "\n",
    "autoencoder = keras.Model(input_img, x)\n",
    "autoencoder.compile(optimizer='adam', loss='binary_crossentropy')"
   ]
  },
  {
   "cell_type": "code",
   "execution_count": 27,
   "metadata": {
    "colab": {
     "base_uri": "https://localhost:8080/"
    },
    "id": "xFnSM70VZ-3J",
    "outputId": "2b0aa1b5-f370-4b69-c740-1fe54f642670"
   },
   "outputs": [
    {
     "name": "stdout",
     "output_type": "stream",
     "text": [
      "Epoch 1/50\n",
      "469/469 [==============================] - 3s 7ms/step - loss: 0.1850 - val_loss: 0.1289\n",
      "Epoch 2/50\n",
      "469/469 [==============================] - 3s 6ms/step - loss: 0.1200 - val_loss: 0.1118\n",
      "Epoch 3/50\n",
      "469/469 [==============================] - 3s 6ms/step - loss: 0.1091 - val_loss: 0.1048\n",
      "Epoch 4/50\n",
      "469/469 [==============================] - 3s 6ms/step - loss: 0.1040 - val_loss: 0.1015\n",
      "Epoch 5/50\n",
      "469/469 [==============================] - 3s 6ms/step - loss: 0.1011 - val_loss: 0.0993\n",
      "Epoch 6/50\n",
      "469/469 [==============================] - 3s 6ms/step - loss: 0.0989 - val_loss: 0.0968\n",
      "Epoch 7/50\n",
      "469/469 [==============================] - 3s 6ms/step - loss: 0.0973 - val_loss: 0.0954\n",
      "Epoch 8/50\n",
      "469/469 [==============================] - 3s 6ms/step - loss: 0.0960 - val_loss: 0.0942\n",
      "Epoch 9/50\n",
      "469/469 [==============================] - 3s 6ms/step - loss: 0.0949 - val_loss: 0.0932\n",
      "Epoch 10/50\n",
      "469/469 [==============================] - 3s 6ms/step - loss: 0.0939 - val_loss: 0.0934\n",
      "Epoch 11/50\n",
      "469/469 [==============================] - 3s 6ms/step - loss: 0.0931 - val_loss: 0.0922\n",
      "Epoch 12/50\n",
      "469/469 [==============================] - 3s 6ms/step - loss: 0.0923 - val_loss: 0.0907\n",
      "Epoch 13/50\n",
      "469/469 [==============================] - 3s 6ms/step - loss: 0.0916 - val_loss: 0.0903\n",
      "Epoch 14/50\n",
      "469/469 [==============================] - 3s 6ms/step - loss: 0.0910 - val_loss: 0.0895\n",
      "Epoch 15/50\n",
      "469/469 [==============================] - 3s 6ms/step - loss: 0.0903 - val_loss: 0.0891\n",
      "Epoch 16/50\n",
      "469/469 [==============================] - 3s 6ms/step - loss: 0.0899 - val_loss: 0.0885\n",
      "Epoch 17/50\n",
      "469/469 [==============================] - 3s 6ms/step - loss: 0.0893 - val_loss: 0.0881\n",
      "Epoch 18/50\n",
      "469/469 [==============================] - 3s 6ms/step - loss: 0.0889 - val_loss: 0.0878\n",
      "Epoch 19/50\n",
      "469/469 [==============================] - 3s 6ms/step - loss: 0.0885 - val_loss: 0.0874\n",
      "Epoch 20/50\n",
      "469/469 [==============================] - 3s 6ms/step - loss: 0.0882 - val_loss: 0.0871\n",
      "Epoch 21/50\n",
      "469/469 [==============================] - 3s 6ms/step - loss: 0.0877 - val_loss: 0.0864\n",
      "Epoch 22/50\n",
      "469/469 [==============================] - 3s 6ms/step - loss: 0.0874 - val_loss: 0.0860\n",
      "Epoch 23/50\n",
      "469/469 [==============================] - 3s 6ms/step - loss: 0.0871 - val_loss: 0.0864\n",
      "Epoch 24/50\n",
      "469/469 [==============================] - 3s 6ms/step - loss: 0.0867 - val_loss: 0.0879\n",
      "Epoch 25/50\n",
      "469/469 [==============================] - 3s 6ms/step - loss: 0.0865 - val_loss: 0.0853\n",
      "Epoch 26/50\n",
      "469/469 [==============================] - 3s 6ms/step - loss: 0.0862 - val_loss: 0.0852\n",
      "Epoch 27/50\n",
      "469/469 [==============================] - 3s 6ms/step - loss: 0.0860 - val_loss: 0.0851\n",
      "Epoch 28/50\n",
      "469/469 [==============================] - 3s 6ms/step - loss: 0.0857 - val_loss: 0.0845\n",
      "Epoch 29/50\n",
      "469/469 [==============================] - 3s 6ms/step - loss: 0.0855 - val_loss: 0.0847\n",
      "Epoch 30/50\n",
      "469/469 [==============================] - 3s 6ms/step - loss: 0.0853 - val_loss: 0.0842\n",
      "Epoch 31/50\n",
      "469/469 [==============================] - 3s 6ms/step - loss: 0.0851 - val_loss: 0.0846\n",
      "Epoch 32/50\n",
      "469/469 [==============================] - 3s 6ms/step - loss: 0.0849 - val_loss: 0.0839\n",
      "Epoch 33/50\n",
      "469/469 [==============================] - 3s 6ms/step - loss: 0.0848 - val_loss: 0.0839\n",
      "Epoch 34/50\n",
      "469/469 [==============================] - 3s 6ms/step - loss: 0.0845 - val_loss: 0.0835\n",
      "Epoch 35/50\n",
      "469/469 [==============================] - 3s 6ms/step - loss: 0.0844 - val_loss: 0.0834\n",
      "Epoch 36/50\n",
      "469/469 [==============================] - 3s 6ms/step - loss: 0.0843 - val_loss: 0.0832\n",
      "Epoch 37/50\n",
      "469/469 [==============================] - 3s 6ms/step - loss: 0.0841 - val_loss: 0.0841\n",
      "Epoch 38/50\n",
      "469/469 [==============================] - 3s 6ms/step - loss: 0.0839 - val_loss: 0.0836\n",
      "Epoch 39/50\n",
      "469/469 [==============================] - 3s 6ms/step - loss: 0.0838 - val_loss: 0.0829\n",
      "Epoch 40/50\n",
      "469/469 [==============================] - 3s 6ms/step - loss: 0.0836 - val_loss: 0.0826\n",
      "Epoch 41/50\n",
      "469/469 [==============================] - 3s 6ms/step - loss: 0.0836 - val_loss: 0.0829\n",
      "Epoch 42/50\n",
      "469/469 [==============================] - 3s 6ms/step - loss: 0.0835 - val_loss: 0.0825\n",
      "Epoch 43/50\n",
      "469/469 [==============================] - 3s 6ms/step - loss: 0.0833 - val_loss: 0.0823\n",
      "Epoch 44/50\n",
      "469/469 [==============================] - 3s 6ms/step - loss: 0.0832 - val_loss: 0.0822\n",
      "Epoch 45/50\n",
      "469/469 [==============================] - 3s 6ms/step - loss: 0.0831 - val_loss: 0.0821\n",
      "Epoch 46/50\n",
      "469/469 [==============================] - 3s 6ms/step - loss: 0.0830 - val_loss: 0.0821\n",
      "Epoch 47/50\n",
      "469/469 [==============================] - 3s 6ms/step - loss: 0.0829 - val_loss: 0.0820\n",
      "Epoch 48/50\n",
      "469/469 [==============================] - 3s 6ms/step - loss: 0.0828 - val_loss: 0.0818\n",
      "Epoch 49/50\n",
      "469/469 [==============================] - 3s 6ms/step - loss: 0.0827 - val_loss: 0.0817\n",
      "Epoch 50/50\n",
      "469/469 [==============================] - 3s 6ms/step - loss: 0.0826 - val_loss: 0.0821\n"
     ]
    },
    {
     "data": {
      "text/plain": [
       "<tensorflow.python.keras.callbacks.History at 0x7f2814c69cc0>"
      ]
     },
     "execution_count": 27,
     "metadata": {
      "tags": []
     },
     "output_type": "execute_result"
    }
   ],
   "source": [
    "autoencoder.fit(x_train, x_train,\n",
    "                epochs=50,\n",
    "                batch_size=128,\n",
    "                shuffle=True,\n",
    "                validation_data=(x_test, x_test))"
   ]
  },
  {
   "cell_type": "code",
   "execution_count": 28,
   "metadata": {
    "colab": {
     "base_uri": "https://localhost:8080/",
     "height": 248
    },
    "id": "IignZj1Owjal",
    "outputId": "d365ba1b-0704-45e9-a10e-5679c0285cca"
   },
   "outputs": [
    {
     "data": {
      "image/png": "[encoded data removed]",
      "text/plain": [
       "<Figure size 1440x288 with 20 Axes>"
      ]
     },
     "metadata": {
      "needs_background": "light",
      "tags": []
     },
     "output_type": "display_data"
    }
   ],
   "source": [
    "decoded_imgs = autoencoder.predict(x_test)\n",
    "\n",
    "n = 10\n",
    "plt.figure(figsize=(20, 4))\n",
    "for i in range(1, n + 1):\n",
    "    # Display original\n",
    "    ax = plt.subplot(2, n, i)\n",
    "    plt.imshow(x_test[i].reshape(28, 28))\n",
    "    plt.gray()\n",
    "    ax.get_xaxis().set_visible(False)\n",
    "    ax.get_yaxis().set_visible(False)\n",
    "\n",
    "    # Display reconstruction\n",
    "    ax = plt.subplot(2, n, i + n)\n",
    "    plt.imshow(decoded_imgs[i].reshape(28, 28))\n",
    "    plt.gray()\n",
    "    ax.get_xaxis().set_visible(False)\n",
    "    ax.get_yaxis().set_visible(False)\n",
    "plt.show()"
   ]
  },
  {
   "cell_type": "code",
   "execution_count": null,
   "metadata": {
    "id": "FTjxhG9sxAGR"
   },
   "outputs": [],
   "source": []
  }
 ],
 "metadata": {
  "accelerator": "GPU",
  "colab": {
   "collapsed_sections": [],
   "name": "6-b.ipynb",
   "provenance": []
  },
  "kernelspec": {
   "display_name": "Python 3",
   "language": "python",
   "name": "python3"
  },
  "language_info": {
   "codemirror_mode": {
    "name": "ipython",
    "version": 3
   },
   "file_extension": ".py",
   "mimetype": "text/x-python",
   "name": "python",
   "nbconvert_exporter": "python",
   "pygments_lexer": "ipython3",
   "version": "3.7.3"
  }
 },
 "nbformat": 4,
 "nbformat_minor": 1
}
